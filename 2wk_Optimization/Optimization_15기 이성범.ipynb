{
 "cells": [
  {
   "cell_type": "markdown",
   "metadata": {},
   "source": [
    "# Tobig's 15기 2주차 Optimization 과제 이성범"
   ]
  },
  {
   "cell_type": "markdown",
   "metadata": {},
   "source": [
    "# Gradient Descent 구현하기\n",
    "\n",
    "### 1)\"...\"표시되어 있는 빈 칸을 채워주세요\n",
    "### 2)강의내용과 코드에 대해 공부한 내용을 마크마운 또는 주석으로 설명해주세요"
   ]
  },
  {
   "cell_type": "markdown",
   "metadata": {},
   "source": [
    "## 데이터"
   ]
  },
  {
   "cell_type": "code",
   "execution_count": 1,
   "metadata": {},
   "outputs": [],
   "source": [
    "import pandas as pd\n",
    "import numpy as np\n",
    "import random"
   ]
  },
  {
   "cell_type": "code",
   "execution_count": 2,
   "metadata": {},
   "outputs": [
    {
     "data": {
      "text/html": [
       "<div>\n",
       "<style scoped>\n",
       "    .dataframe tbody tr th:only-of-type {\n",
       "        vertical-align: middle;\n",
       "    }\n",
       "\n",
       "    .dataframe tbody tr th {\n",
       "        vertical-align: top;\n",
       "    }\n",
       "\n",
       "    .dataframe thead th {\n",
       "        text-align: right;\n",
       "    }\n",
       "</style>\n",
       "<table border=\"1\" class=\"dataframe\">\n",
       "  <thead>\n",
       "    <tr style=\"text-align: right;\">\n",
       "      <th></th>\n",
       "      <th>Label</th>\n",
       "      <th>bias</th>\n",
       "      <th>experience</th>\n",
       "      <th>salary</th>\n",
       "    </tr>\n",
       "  </thead>\n",
       "  <tbody>\n",
       "    <tr>\n",
       "      <th>0</th>\n",
       "      <td>1</td>\n",
       "      <td>1</td>\n",
       "      <td>0.7</td>\n",
       "      <td>48000</td>\n",
       "    </tr>\n",
       "    <tr>\n",
       "      <th>1</th>\n",
       "      <td>0</td>\n",
       "      <td>1</td>\n",
       "      <td>1.9</td>\n",
       "      <td>48000</td>\n",
       "    </tr>\n",
       "    <tr>\n",
       "      <th>2</th>\n",
       "      <td>1</td>\n",
       "      <td>1</td>\n",
       "      <td>2.5</td>\n",
       "      <td>60000</td>\n",
       "    </tr>\n",
       "    <tr>\n",
       "      <th>3</th>\n",
       "      <td>0</td>\n",
       "      <td>1</td>\n",
       "      <td>4.2</td>\n",
       "      <td>63000</td>\n",
       "    </tr>\n",
       "    <tr>\n",
       "      <th>4</th>\n",
       "      <td>0</td>\n",
       "      <td>1</td>\n",
       "      <td>6.0</td>\n",
       "      <td>76000</td>\n",
       "    </tr>\n",
       "  </tbody>\n",
       "</table>\n",
       "</div>"
      ],
      "text/plain": [
       "   Label  bias  experience  salary\n",
       "0      1     1         0.7   48000\n",
       "1      0     1         1.9   48000\n",
       "2      1     1         2.5   60000\n",
       "3      0     1         4.2   63000\n",
       "4      0     1         6.0   76000"
      ]
     },
     "execution_count": 2,
     "metadata": {},
     "output_type": "execute_result"
    }
   ],
   "source": [
    "data = pd.read_csv('assignment_2.csv')\n",
    "data.head()"
   ]
  },
  {
   "cell_type": "code",
   "execution_count": 3,
   "metadata": {},
   "outputs": [
    {
     "data": {
      "text/html": [
       "<div>\n",
       "<style scoped>\n",
       "    .dataframe tbody tr th:only-of-type {\n",
       "        vertical-align: middle;\n",
       "    }\n",
       "\n",
       "    .dataframe tbody tr th {\n",
       "        vertical-align: top;\n",
       "    }\n",
       "\n",
       "    .dataframe thead th {\n",
       "        text-align: right;\n",
       "    }\n",
       "</style>\n",
       "<table border=\"1\" class=\"dataframe\">\n",
       "  <thead>\n",
       "    <tr style=\"text-align: right;\">\n",
       "      <th></th>\n",
       "      <th>Label</th>\n",
       "      <th>bias</th>\n",
       "      <th>experience</th>\n",
       "      <th>salary</th>\n",
       "    </tr>\n",
       "  </thead>\n",
       "  <tbody>\n",
       "    <tr>\n",
       "      <th>count</th>\n",
       "      <td>200.000000</td>\n",
       "      <td>200.0</td>\n",
       "      <td>200.000000</td>\n",
       "      <td>200.000000</td>\n",
       "    </tr>\n",
       "    <tr>\n",
       "      <th>mean</th>\n",
       "      <td>0.260000</td>\n",
       "      <td>1.0</td>\n",
       "      <td>4.998000</td>\n",
       "      <td>66700.000000</td>\n",
       "    </tr>\n",
       "    <tr>\n",
       "      <th>std</th>\n",
       "      <td>0.439735</td>\n",
       "      <td>0.0</td>\n",
       "      <td>2.847373</td>\n",
       "      <td>15536.955459</td>\n",
       "    </tr>\n",
       "    <tr>\n",
       "      <th>min</th>\n",
       "      <td>0.000000</td>\n",
       "      <td>1.0</td>\n",
       "      <td>0.100000</td>\n",
       "      <td>30000.000000</td>\n",
       "    </tr>\n",
       "    <tr>\n",
       "      <th>25%</th>\n",
       "      <td>0.000000</td>\n",
       "      <td>1.0</td>\n",
       "      <td>2.500000</td>\n",
       "      <td>56000.000000</td>\n",
       "    </tr>\n",
       "    <tr>\n",
       "      <th>50%</th>\n",
       "      <td>0.000000</td>\n",
       "      <td>1.0</td>\n",
       "      <td>5.100000</td>\n",
       "      <td>65000.000000</td>\n",
       "    </tr>\n",
       "    <tr>\n",
       "      <th>75%</th>\n",
       "      <td>1.000000</td>\n",
       "      <td>1.0</td>\n",
       "      <td>7.425000</td>\n",
       "      <td>77250.000000</td>\n",
       "    </tr>\n",
       "    <tr>\n",
       "      <th>max</th>\n",
       "      <td>1.000000</td>\n",
       "      <td>1.0</td>\n",
       "      <td>10.000000</td>\n",
       "      <td>107000.000000</td>\n",
       "    </tr>\n",
       "  </tbody>\n",
       "</table>\n",
       "</div>"
      ],
      "text/plain": [
       "            Label   bias  experience         salary\n",
       "count  200.000000  200.0  200.000000     200.000000\n",
       "mean     0.260000    1.0    4.998000   66700.000000\n",
       "std      0.439735    0.0    2.847373   15536.955459\n",
       "min      0.000000    1.0    0.100000   30000.000000\n",
       "25%      0.000000    1.0    2.500000   56000.000000\n",
       "50%      0.000000    1.0    5.100000   65000.000000\n",
       "75%      1.000000    1.0    7.425000   77250.000000\n",
       "max      1.000000    1.0   10.000000  107000.000000"
      ]
     },
     "execution_count": 3,
     "metadata": {},
     "output_type": "execute_result"
    }
   ],
   "source": [
    "data.describe()"
   ]
  },
  {
   "cell_type": "markdown",
   "metadata": {},
   "source": [
    "data의 experience와 salary의 단위, 평균, 분산이 크게 차이가 난다는 것을 확인할 수 있다."
   ]
  },
  {
   "cell_type": "markdown",
   "metadata": {},
   "source": [
    "## Train Test 데이터 나누기"
   ]
  },
  {
   "cell_type": "code",
   "execution_count": 4,
   "metadata": {},
   "outputs": [],
   "source": [
    "from sklearn.model_selection import train_test_split"
   ]
  },
  {
   "cell_type": "code",
   "execution_count": 5,
   "metadata": {},
   "outputs": [],
   "source": [
    "X_train, X_test, y_train, y_test = train_test_split(data.iloc[:, 1:], data.iloc[:, 0], test_size = 0.25, random_state = 0)"
   ]
  },
  {
   "cell_type": "markdown",
   "metadata": {},
   "source": [
    "위 함수는 데이터를 학습용 데이터와 테스용 데이터로 나누는 함수이다. 함수 속의 매개변수를 살펴보면 data.iloc[:, 1:]는 Label을 제외한 모든 독립변수의 데이터를 의미하고 data.iloc[:, 0]는 Label 데이터 즉 종속변수의 모든 데이터를 의미한다. 데이터를 test_size = 0.25를 통해서 train date를 75%로 test date를 25%로 나누었다. 그리고 random_state = 0 으로 설정함으로써 데이터 분활의 기준을 명시하여 언제 어디든 random_state가 동일하다면 seed 값이 같기 때문에 일정한 데이터가 나눠진다. 밑의 결과를 보면 독립변수의 train date를 의미하는 X_train과 종속변수의 train data를 의미하는 y_train이 75%의 비율을 가지고 나머지 test date들이 25%의 비율로 나누어진 것을 확인할 수 있다."
   ]
  },
  {
   "cell_type": "code",
   "execution_count": 6,
   "metadata": {},
   "outputs": [
    {
     "data": {
      "text/plain": [
       "((150, 3), (50, 3), (150,), (50,))"
      ]
     },
     "execution_count": 6,
     "metadata": {},
     "output_type": "execute_result"
    }
   ],
   "source": [
    "X_train.shape, X_test.shape, y_train.shape, y_test.shape"
   ]
  },
  {
   "cell_type": "markdown",
   "metadata": {},
   "source": [
    "## Scaling\n",
    "\n",
    "experience와 salary의 단위, 평균, 분산이 크게 차이나므로 scaler를 사용해 단위를 맞춰줍니다. "
   ]
  },
  {
   "cell_type": "code",
   "execution_count": 7,
   "metadata": {},
   "outputs": [
    {
     "data": {
      "text/html": [
       "<div>\n",
       "<style scoped>\n",
       "    .dataframe tbody tr th:only-of-type {\n",
       "        vertical-align: middle;\n",
       "    }\n",
       "\n",
       "    .dataframe tbody tr th {\n",
       "        vertical-align: top;\n",
       "    }\n",
       "\n",
       "    .dataframe thead th {\n",
       "        text-align: right;\n",
       "    }\n",
       "</style>\n",
       "<table border=\"1\" class=\"dataframe\">\n",
       "  <thead>\n",
       "    <tr style=\"text-align: right;\">\n",
       "      <th></th>\n",
       "      <th>bias</th>\n",
       "      <th>experience</th>\n",
       "      <th>salary</th>\n",
       "    </tr>\n",
       "  </thead>\n",
       "  <tbody>\n",
       "    <tr>\n",
       "      <th>0</th>\n",
       "      <td>1</td>\n",
       "      <td>0.187893</td>\n",
       "      <td>-1.143335</td>\n",
       "    </tr>\n",
       "    <tr>\n",
       "      <th>1</th>\n",
       "      <td>1</td>\n",
       "      <td>1.185555</td>\n",
       "      <td>0.043974</td>\n",
       "    </tr>\n",
       "    <tr>\n",
       "      <th>2</th>\n",
       "      <td>1</td>\n",
       "      <td>-0.310938</td>\n",
       "      <td>-0.351795</td>\n",
       "    </tr>\n",
       "    <tr>\n",
       "      <th>3</th>\n",
       "      <td>1</td>\n",
       "      <td>-1.629277</td>\n",
       "      <td>-1.341220</td>\n",
       "    </tr>\n",
       "    <tr>\n",
       "      <th>4</th>\n",
       "      <td>1</td>\n",
       "      <td>-1.308600</td>\n",
       "      <td>0.043974</td>\n",
       "    </tr>\n",
       "  </tbody>\n",
       "</table>\n",
       "</div>"
      ],
      "text/plain": [
       "   bias  experience    salary\n",
       "0     1    0.187893 -1.143335\n",
       "1     1    1.185555  0.043974\n",
       "2     1   -0.310938 -0.351795\n",
       "3     1   -1.629277 -1.341220\n",
       "4     1   -1.308600  0.043974"
      ]
     },
     "execution_count": 7,
     "metadata": {},
     "output_type": "execute_result"
    }
   ],
   "source": [
    "from sklearn.preprocessing import StandardScaler\n",
    "scaler = StandardScaler()\n",
    "bias_train = X_train[\"bias\"]\n",
    "bias_train = bias_train.reset_index()[\"bias\"]\n",
    "X_train = pd.DataFrame(scaler.fit_transform(X_train), columns = X_train.columns)\n",
    "X_train[\"bias\"] = bias_train\n",
    "X_train.head()"
   ]
  },
  {
   "cell_type": "code",
   "execution_count": 8,
   "metadata": {},
   "outputs": [
    {
     "data": {
      "text/html": [
       "<div>\n",
       "<style scoped>\n",
       "    .dataframe tbody tr th:only-of-type {\n",
       "        vertical-align: middle;\n",
       "    }\n",
       "\n",
       "    .dataframe tbody tr th {\n",
       "        vertical-align: top;\n",
       "    }\n",
       "\n",
       "    .dataframe thead th {\n",
       "        text-align: right;\n",
       "    }\n",
       "</style>\n",
       "<table border=\"1\" class=\"dataframe\">\n",
       "  <thead>\n",
       "    <tr style=\"text-align: right;\">\n",
       "      <th></th>\n",
       "      <th>bias</th>\n",
       "      <th>experience</th>\n",
       "      <th>salary</th>\n",
       "    </tr>\n",
       "  </thead>\n",
       "  <tbody>\n",
       "    <tr>\n",
       "      <th>count</th>\n",
       "      <td>150.0</td>\n",
       "      <td>1.500000e+02</td>\n",
       "      <td>1.500000e+02</td>\n",
       "    </tr>\n",
       "    <tr>\n",
       "      <th>mean</th>\n",
       "      <td>1.0</td>\n",
       "      <td>-7.845576e-17</td>\n",
       "      <td>-1.709743e-16</td>\n",
       "    </tr>\n",
       "    <tr>\n",
       "      <th>std</th>\n",
       "      <td>0.0</td>\n",
       "      <td>1.003350e+00</td>\n",
       "      <td>1.003350e+00</td>\n",
       "    </tr>\n",
       "    <tr>\n",
       "      <th>min</th>\n",
       "      <td>1.0</td>\n",
       "      <td>-1.664908e+00</td>\n",
       "      <td>-2.330644e+00</td>\n",
       "    </tr>\n",
       "    <tr>\n",
       "      <th>25%</th>\n",
       "      <td>1.0</td>\n",
       "      <td>-8.453999e-01</td>\n",
       "      <td>-6.816035e-01</td>\n",
       "    </tr>\n",
       "    <tr>\n",
       "      <th>50%</th>\n",
       "      <td>1.0</td>\n",
       "      <td>9.739083e-03</td>\n",
       "      <td>-8.794884e-02</td>\n",
       "    </tr>\n",
       "    <tr>\n",
       "      <th>75%</th>\n",
       "      <td>1.0</td>\n",
       "      <td>7.847088e-01</td>\n",
       "      <td>7.035907e-01</td>\n",
       "    </tr>\n",
       "    <tr>\n",
       "      <th>max</th>\n",
       "      <td>1.0</td>\n",
       "      <td>1.862540e+00</td>\n",
       "      <td>2.748401e+00</td>\n",
       "    </tr>\n",
       "  </tbody>\n",
       "</table>\n",
       "</div>"
      ],
      "text/plain": [
       "        bias    experience        salary\n",
       "count  150.0  1.500000e+02  1.500000e+02\n",
       "mean     1.0 -7.845576e-17 -1.709743e-16\n",
       "std      0.0  1.003350e+00  1.003350e+00\n",
       "min      1.0 -1.664908e+00 -2.330644e+00\n",
       "25%      1.0 -8.453999e-01 -6.816035e-01\n",
       "50%      1.0  9.739083e-03 -8.794884e-02\n",
       "75%      1.0  7.847088e-01  7.035907e-01\n",
       "max      1.0  1.862540e+00  2.748401e+00"
      ]
     },
     "execution_count": 8,
     "metadata": {},
     "output_type": "execute_result"
    }
   ],
   "source": [
    "X_train.describe()"
   ]
  },
  {
   "cell_type": "markdown",
   "metadata": {},
   "source": [
    "이때 scaler는 X_train에 fit 해주시고, fit한 scaler를 X_test에 적용시켜줍니다.  \n",
    "똑같이 X_test에다 fit하면 안돼요!"
   ]
  },
  {
   "cell_type": "code",
   "execution_count": 9,
   "metadata": {},
   "outputs": [
    {
     "data": {
      "text/html": [
       "<div>\n",
       "<style scoped>\n",
       "    .dataframe tbody tr th:only-of-type {\n",
       "        vertical-align: middle;\n",
       "    }\n",
       "\n",
       "    .dataframe tbody tr th {\n",
       "        vertical-align: top;\n",
       "    }\n",
       "\n",
       "    .dataframe thead th {\n",
       "        text-align: right;\n",
       "    }\n",
       "</style>\n",
       "<table border=\"1\" class=\"dataframe\">\n",
       "  <thead>\n",
       "    <tr style=\"text-align: right;\">\n",
       "      <th></th>\n",
       "      <th>bias</th>\n",
       "      <th>experience</th>\n",
       "      <th>salary</th>\n",
       "    </tr>\n",
       "  </thead>\n",
       "  <tbody>\n",
       "    <tr>\n",
       "      <th>0</th>\n",
       "      <td>1</td>\n",
       "      <td>-1.344231</td>\n",
       "      <td>-0.615642</td>\n",
       "    </tr>\n",
       "    <tr>\n",
       "      <th>1</th>\n",
       "      <td>1</td>\n",
       "      <td>0.508570</td>\n",
       "      <td>0.307821</td>\n",
       "    </tr>\n",
       "    <tr>\n",
       "      <th>2</th>\n",
       "      <td>1</td>\n",
       "      <td>-0.310938</td>\n",
       "      <td>0.571667</td>\n",
       "    </tr>\n",
       "    <tr>\n",
       "      <th>3</th>\n",
       "      <td>1</td>\n",
       "      <td>1.363709</td>\n",
       "      <td>1.956862</td>\n",
       "    </tr>\n",
       "    <tr>\n",
       "      <th>4</th>\n",
       "      <td>1</td>\n",
       "      <td>-0.987923</td>\n",
       "      <td>-0.747565</td>\n",
       "    </tr>\n",
       "  </tbody>\n",
       "</table>\n",
       "</div>"
      ],
      "text/plain": [
       "   bias  experience    salary\n",
       "0     1   -1.344231 -0.615642\n",
       "1     1    0.508570  0.307821\n",
       "2     1   -0.310938  0.571667\n",
       "3     1    1.363709  1.956862\n",
       "4     1   -0.987923 -0.747565"
      ]
     },
     "execution_count": 9,
     "metadata": {},
     "output_type": "execute_result"
    }
   ],
   "source": [
    "bias_test = X_test[\"bias\"]\n",
    "bias_test = bias_test.reset_index()[\"bias\"]\n",
    "X_test = pd.DataFrame(scaler.transform(X_test), columns = X_test.columns)\n",
    "X_test[\"bias\"] = bias_test\n",
    "X_test.head()"
   ]
  },
  {
   "cell_type": "markdown",
   "metadata": {},
   "source": [
    "sklearn의 StandardScaler를 통해서 데이터를 평균이 0, 분산을 1로 만드는 표준화를 해주었다. 여기서 중요한 점은 train date를 기준으로 표준화를 진행해주고 그 기준을 동일하게 test data에도 적용해줘야 한다는 것이다.\n",
    "\n",
    "bias의 경우에는 절편을 구하기 위한 변수이므로 따로 표준화를 해주지 않았고 experience와 salary의 경우에는 단위, 평균, 분산의 차이가 크게 나기 때문에 표준화를 진행해주었다."
   ]
  },
  {
   "cell_type": "code",
   "execution_count": 10,
   "metadata": {},
   "outputs": [],
   "source": [
    "# parameter 개수\n",
    "N = len(X_train.loc[0])"
   ]
  },
  {
   "cell_type": "code",
   "execution_count": 11,
   "metadata": {},
   "outputs": [
    {
     "data": {
      "text/plain": [
       "array([0.98902634, 0.94125085, 0.3603655 ])"
      ]
     },
     "execution_count": 11,
     "metadata": {},
     "output_type": "execute_result"
    }
   ],
   "source": [
    "# 초기 parameter들을 임의로 설정해줍니다.\n",
    "parameters = np.array([random.random() for i in range(N)])\n",
    "random_parameters = parameters.copy()\n",
    "parameters"
   ]
  },
  {
   "cell_type": "markdown",
   "metadata": {},
   "source": [
    "train data의 독립변수의 수 만큼 parameter를 임의로 설정해주었다. 추후에 학습을 통해서 최적의 parameter로 수정이 된다."
   ]
  },
  {
   "cell_type": "markdown",
   "metadata": {},
   "source": [
    "### * LaTeX   \n",
    "\n",
    "Jupyter Notebook은 LaTeX 문법으로 수식 입력을 지원하고 있습니다.  \n",
    "LaTeX문법으로 아래의 수식을 완성해주세요  \n",
    "http://triki.net/apps/3466  \n",
    "https://jjycjnmath.tistory.com/117"
   ]
  },
  {
   "cell_type": "markdown",
   "metadata": {},
   "source": [
    "## Dot product\n",
    "## $z = X_i \\theta$"
   ]
  },
  {
   "cell_type": "code",
   "execution_count": 12,
   "metadata": {},
   "outputs": [],
   "source": [
    "def dot_product(X, parameters):\n",
    "    z = 0\n",
    "    for i in range(len(parameters)):\n",
    "        z += X[i] * parameters[i]\n",
    "    return z"
   ]
  },
  {
   "cell_type": "markdown",
   "metadata": {},
   "source": [
    "위 함수는 Logistic Function의 자연상수 e의 지수 부분에 음수 부호를 제외한 값을 구하는 함수이다."
   ]
  },
  {
   "cell_type": "markdown",
   "metadata": {},
   "source": [
    "## Logistic Function\n",
    "\n",
    "## $p = \\frac{1}{1 + e^{-x_{i}\\theta}}$"
   ]
  },
  {
   "cell_type": "code",
   "execution_count": 13,
   "metadata": {},
   "outputs": [],
   "source": [
    "def logistic(X, parameters):\n",
    "    z = dot_product(X, parameters)\n",
    "    p = 1 / (1 + np.exp(-z)) \n",
    "    return p"
   ]
  },
  {
   "cell_type": "code",
   "execution_count": 14,
   "metadata": {},
   "outputs": [
    {
     "data": {
      "text/plain": [
       "0.8929063534961731"
      ]
     },
     "execution_count": 14,
     "metadata": {},
     "output_type": "execute_result"
    }
   ],
   "source": [
    "logistic(X_train.iloc[1], parameters)"
   ]
  },
  {
   "cell_type": "markdown",
   "metadata": {},
   "source": [
    "위 함수는 Logistic Function을 구현한 함수이다."
   ]
  },
  {
   "cell_type": "markdown",
   "metadata": {},
   "source": [
    "## Object function\n",
    "\n",
    "Object Function : 목적함수는 Gradient Descent를 통해 최적화 하고자 하는 함수입니다.  \n",
    "<br>\n",
    "선형 회귀의 목적함수\n",
    "## $l(\\theta) = \\frac{1}{2}\\Sigma(y_i - \\theta^{T}X_i)^2$  \n",
    "참고) $\\hat{y_i} = \\theta^{T}X_i$\n",
    "  \n",
    "로지스틱 회귀의 목적함수를 작성해주세요  \n",
    "(선형 회귀의 목적함수처럼 강의에 나온대로 작성해주세요. 평균을 고려하는 것은 뒤에 코드에서 수행합니다)\n",
    "## $l(p) = - \\Sigma(y_{i}\\log p(X_{i}) + (1 - y_{i}) \\log(1 - p(X_{i}))) $ "
   ]
  },
  {
   "cell_type": "code",
   "execution_count": 15,
   "metadata": {},
   "outputs": [],
   "source": [
    "def minus_log_cross_entropy_i(X, y, parameters):\n",
    "    p = logistic(X, parameters)\n",
    "    loss = (y * np.log(p) + (1 - y) * np.log(1-p))\n",
    "    return -loss"
   ]
  },
  {
   "cell_type": "code",
   "execution_count": 16,
   "metadata": {},
   "outputs": [],
   "source": [
    "def mse_i(X, y, parameters):\n",
    "    y_hat = np.dot(X, parameters.T)\n",
    "    loss = ((y - y_hat)**2) / 2\n",
    "    return loss"
   ]
  },
  {
   "cell_type": "code",
   "execution_count": 17,
   "metadata": {},
   "outputs": [],
   "source": [
    "def batch_loss(X_set, y_set, parameters, loss_function, n): #n:현재 배치의 데이터 수\n",
    "    loss = 0\n",
    "    for i in range(X_set.shape[0]):\n",
    "        X = X_set.iloc[i,:]\n",
    "        y = y_set.iloc[i]\n",
    "        loss += loss_function(X, y, parameters)\n",
    "    loss = loss / n #loss 평균값으로 계산\n",
    "    return loss"
   ]
  },
  {
   "cell_type": "code",
   "execution_count": 18,
   "metadata": {},
   "outputs": [
    {
     "data": {
      "text/plain": [
       "1.4261331764670764"
      ]
     },
     "execution_count": 18,
     "metadata": {},
     "output_type": "execute_result"
    }
   ],
   "source": [
    "batch_loss(X_test, y_test, parameters, minus_log_cross_entropy_i, len(X_test))"
   ]
  },
  {
   "cell_type": "code",
   "execution_count": 19,
   "metadata": {},
   "outputs": [
    {
     "data": {
      "text/plain": [
       "1.5886789270647308"
      ]
     },
     "execution_count": 19,
     "metadata": {},
     "output_type": "execute_result"
    }
   ],
   "source": [
    "batch_loss(X_test, y_test, parameters, mse_i, len(X_test))"
   ]
  },
  {
   "cell_type": "markdown",
   "metadata": {},
   "source": [
    "위 함수들은 각각 로지스틱 회귀와 선형 회귀의 목적 함수를 구현한 함수로 minus_log_cross_entropy_i와 mse_i는 각각의 데이터 셋에 대한 목적 함수 즉 시그마의 안쪽 부분을 의미하고 batch_loss를 통해서 시그마를 시행함으로써 전체의 목적 함수의 평균을 구한다."
   ]
  },
  {
   "cell_type": "markdown",
   "metadata": {},
   "source": [
    "## Gradient\n",
    "위의 선형회귀의 목적함수 $l(\\theta)$와 로지스틱회귀의 목적함수 $l(p)$의 gradient를 작성해주세요  \n",
    "(위의 목적함수를 참고해서 작성해주세요 = 평균을 고려하는 것은 뒤에 코드에서 수행합니다)"
   ]
  },
  {
   "cell_type": "markdown",
   "metadata": {},
   "source": [
    "## ${\\partial\\over{\\partial \\theta_j}}l(\\theta)=$ $ -\\Sigma(y_{i} - \\theta^{T}X_{i})X_{ij} $\n",
    "## ${\\partial\\over{\\partial \\theta_j}}l(p)=$ $ -\\Sigma(y_{i} - p_{i})X_{ij} $"
   ]
  },
  {
   "cell_type": "code",
   "execution_count": 20,
   "metadata": {},
   "outputs": [],
   "source": [
    "def get_gradient_ij(X, y, parameters, j, model):\n",
    "    if model == 'linear':\n",
    "        y_hat = np.dot(X, parameters.T)\n",
    "        gradient = (y - y_hat) * X[j]\n",
    "    else:\n",
    "        p = logistic(X, parameters)\n",
    "        gradient = (y - p) * X[j]\n",
    "    return -gradient"
   ]
  },
  {
   "cell_type": "code",
   "execution_count": 21,
   "metadata": {},
   "outputs": [
    {
     "data": {
      "text/plain": [
       "-0.06012207062664357"
      ]
     },
     "execution_count": 21,
     "metadata": {},
     "output_type": "execute_result"
    }
   ],
   "source": [
    "get_gradient_ij(X_train.iloc[0,:], y_train.iloc[0], parameters, 1, 'logistic')"
   ]
  },
  {
   "cell_type": "code",
   "execution_count": 22,
   "metadata": {},
   "outputs": [
    {
     "data": {
      "text/plain": [
       "-0.046247549614105814"
      ]
     },
     "execution_count": 22,
     "metadata": {},
     "output_type": "execute_result"
    }
   ],
   "source": [
    "get_gradient_ij(X_train.iloc[0,:], y_train.iloc[0], parameters, 1, 'linear')"
   ]
  },
  {
   "cell_type": "markdown",
   "metadata": {},
   "source": [
    "위 함수는 하나의 데이터 셋에 대한 목적 함수의 Gradient를 구하는 함수로 추후에 하나의 배치 데이터에 대한 전체의 Gradient를 구하고 구해진 Gradient를 바탕으로 parameter를 수정하는 과정을 거친다. \n",
    "\n",
    "따라서 위 함수는 제일 처음으로 시행되는 Gradient를 구하는 함수로 볼 수 있다."
   ]
  },
  {
   "cell_type": "markdown",
   "metadata": {},
   "source": [
    "## Batch Gradient\n",
    "하나의 배치 (X_set, y_set)에 대해 기울기를 구하는 코드를 작성해주세요"
   ]
  },
  {
   "cell_type": "code",
   "execution_count": 23,
   "metadata": {},
   "outputs": [],
   "source": [
    "def batch_gradient(X_set, y_set, parameters, model):\n",
    "    gradients = [0 for _ in range(len(parameters))]\n",
    "    \n",
    "    for i in range(len(X_set)):\n",
    "        X = X_set.iloc[i,:]\n",
    "        y = y_set.iloc[i]\n",
    "        for j in range(len(parameters)):\n",
    "            gradients[j] += get_gradient_ij(X, y, parameters, j, model)\n",
    "    \n",
    "    return gradients"
   ]
  },
  {
   "cell_type": "code",
   "execution_count": 24,
   "metadata": {},
   "outputs": [
    {
     "data": {
      "text/plain": [
       "[106.35395138650736, 163.23244052082586, 172.9130092877868]"
      ]
     },
     "execution_count": 24,
     "metadata": {},
     "output_type": "execute_result"
    }
   ],
   "source": [
    "gradients1 = batch_gradient(X_train, y_train, parameters, 'linear')\n",
    "gradients1"
   ]
  },
  {
   "cell_type": "code",
   "execution_count": 25,
   "metadata": {},
   "outputs": [
    {
     "data": {
      "text/plain": [
       "[59.381724202106604, 13.493115274583142, 41.11395676699722]"
      ]
     },
     "execution_count": 25,
     "metadata": {},
     "output_type": "execute_result"
    }
   ],
   "source": [
    "gradients1 = batch_gradient(X_train, y_train, parameters, 'logistic')\n",
    "gradients1"
   ]
  },
  {
   "cell_type": "markdown",
   "metadata": {},
   "source": [
    "위 함수는 하나의 배치 데이터에 대한 전체 Gradient를 구하는 함수이다 추후에 이 함수를 통해서 구해진 Gradient를 바탕으로 parameter를 수정한다."
   ]
  },
  {
   "cell_type": "markdown",
   "metadata": {},
   "source": [
    "## mini-batch\n",
    "인덱스로 미니 배치 나누기"
   ]
  },
  {
   "cell_type": "code",
   "execution_count": 26,
   "metadata": {},
   "outputs": [],
   "source": [
    "def batch_idx(X_train, batch_size):\n",
    "    N = len(X_train)\n",
    "    nb = (N // batch_size)+1 #number of batch\n",
    "    idx = np.array([i for i in range(N)])\n",
    "    idx_list = [idx[i*batch_size:(i+1)*batch_size] for i in range(nb) if len(idx[i*batch_size:(i+1)*batch_size]) != 0]\n",
    "    return idx_list"
   ]
  },
  {
   "cell_type": "code",
   "execution_count": 27,
   "metadata": {},
   "outputs": [
    {
     "data": {
      "text/plain": [
       "[array([ 0,  1,  2,  3,  4,  5,  6,  7,  8,  9, 10, 11, 12, 13, 14]),\n",
       " array([15, 16, 17, 18, 19, 20, 21, 22, 23, 24, 25, 26, 27, 28, 29]),\n",
       " array([30, 31, 32, 33, 34, 35, 36, 37, 38, 39, 40, 41, 42, 43, 44]),\n",
       " array([45, 46, 47, 48, 49, 50, 51, 52, 53, 54, 55, 56, 57, 58, 59]),\n",
       " array([60, 61, 62, 63, 64, 65, 66, 67, 68, 69, 70, 71, 72, 73, 74]),\n",
       " array([75, 76, 77, 78, 79, 80, 81, 82, 83, 84, 85, 86, 87, 88, 89]),\n",
       " array([ 90,  91,  92,  93,  94,  95,  96,  97,  98,  99, 100, 101, 102,\n",
       "        103, 104]),\n",
       " array([105, 106, 107, 108, 109, 110, 111, 112, 113, 114, 115, 116, 117,\n",
       "        118, 119]),\n",
       " array([120, 121, 122, 123, 124, 125, 126, 127, 128, 129, 130, 131, 132,\n",
       "        133, 134]),\n",
       " array([135, 136, 137, 138, 139, 140, 141, 142, 143, 144, 145, 146, 147,\n",
       "        148, 149])]"
      ]
     },
     "execution_count": 27,
     "metadata": {},
     "output_type": "execute_result"
    }
   ],
   "source": [
    "batch_idx(X_train, 15)"
   ]
  },
  {
   "cell_type": "markdown",
   "metadata": {},
   "source": [
    "batch_idx 함수에 대한 설명을 batch_size와 함께 간략하게 작성해주세요  \n",
    "\n",
    "\n",
    "**설명: batch_size가 1이면 한번 학습때 전체데이터 중 임의의 1개의 데이터만 학습을 한다. batch_size가 X_train의 크기 만큼 들어오면(whole) 한번 학습할때 전체 데이터가 활용된다. batch_size가 k이면 전체데이터의 수 / k 개 만큼의 데이터셋이 만들어지고 한번 학습할 때 k개의 데이터가 활용된다.(ex: batch_size = 15, X_train의 크기 150 -> 데이터셋 하나에 15개씩 총 10개의 데이터 셋이 만들어진다.) 따라서 batch_size는 한번 학습을 할 때 활용되는 데이터의 크기를 의미하며 batch_size가 커지면 한번 학습때 활용되는 데이터셋의 크기 커지고 반대로 batch_size가 작아지면 한번 학습때 활용되는 데이터셋의 크기가 작아지지만 데이터셋의 개수는 많아진다고 볼 수 있다.**"
   ]
  },
  {
   "cell_type": "markdown",
   "metadata": {},
   "source": [
    "## Update Parameters\n",
    "기울기를 갱신하는 코드를 작성해주세요  \n",
    "(loss와 마찬가지로 기울기를 갱신할 때 배치 사이즈를 고려해 평균으로 갱신해주세요)"
   ]
  },
  {
   "cell_type": "code",
   "execution_count": 28,
   "metadata": {},
   "outputs": [],
   "source": [
    "def step(parameters, gradients, learning_rate, n): #n:현재 배치의 데이터 수\n",
    "    for i in range(len(parameters)):\n",
    "        gradients[i] *= learning_rate / n\n",
    "    \n",
    "    parameters -= gradients\n",
    "    return parameters"
   ]
  },
  {
   "cell_type": "code",
   "execution_count": 29,
   "metadata": {},
   "outputs": [
    {
     "data": {
      "text/plain": [
       "array([0.98506756, 0.94035131, 0.35762456])"
      ]
     },
     "execution_count": 29,
     "metadata": {},
     "output_type": "execute_result"
    }
   ],
   "source": [
    "step(parameters, gradients1, 0.01, len(X_train))"
   ]
  },
  {
   "cell_type": "markdown",
   "metadata": {},
   "source": [
    "위 함수는 구해진 Gradient를 바탕으로 설정한 학습률로 Gradient를 조정하고 조정된 Gradient를 바탕으로 parameter를 수정하는 함수이다."
   ]
  },
  {
   "cell_type": "markdown",
   "metadata": {},
   "source": [
    "## Gradient Descent\n",
    "위에서 작성한 함수들을 조합해서 경사하강법 함수를 완성해주세요\n",
    "\n",
    "- learning_rate: 학습률  \n",
    "- tolerance: Step이 너무 작아서 더 이상의 학습이 무의미할 때 학습을 멈추는 조건  \n",
    "- batch: 기울기를 1번 갱신할 때 사용하는 데이터셋  \n",
    "- epoch: 현재 반복 횟수  \n",
    "- num_epoch: 총 학습 횟수\n",
    "<br>\n",
    "\n",
    "BGD: 학습 한 번에 모든 데이터셋에 대해 기울기를 구하는 방식  \n",
    "SGD: 학습 한 번에 임의의 1개 데이터에 대해서만 기울기를 구하는 방식  \n",
    "MGD: 학습 한 번에 데이터셋의 일부에 대해서만 기울기를 구하는 방식  \n",
    "<br>\n",
    "batch_size에 따른 경사하강법의 종류를 적어주세요  \n",
    "batch_size=1 -> SGD  \n",
    "batch_size=k -> MGD  \n",
    "batch_size=whole -> BGD  "
   ]
  },
  {
   "cell_type": "code",
   "execution_count": 30,
   "metadata": {},
   "outputs": [],
   "source": [
    "def gradient_descent(X_train, y_train, learning_rate = 0.1, num_epoch = 1000, tolerance = 0.00001, model = 'logistic', batch_size = 16):\n",
    "    stopper = False\n",
    "    \n",
    "    N = len(X_train.iloc[0])\n",
    "    \n",
    "    # 우선 train data의 독립변수의 수 만큼의 랜럼한 파라미터를 구한다.\n",
    "    parameters = np.random.rand(N)\n",
    "    \n",
    "    # 로지스틱 회귀라면 목적함수로 minus_log_cross_entropy_i를 사용하고 선형이라면 mse_i를 사용한다.\n",
    "    loss_function = minus_log_cross_entropy_i if model == 'logistic' else mse_i\n",
    "    \n",
    "    # 초기의 손실함수를 아주 큰 값으로 설정한다.\n",
    "    loss = 999\n",
    "    \n",
    "    # 배치 사이즈에 맞는 데이터 셋을 구한다.\n",
    "    batch_idx_list = batch_idx(X_train, batch_size)\n",
    "    \n",
    "    # num_epoch만큼의 학습을 시행한다.\n",
    "    for epoch in range(num_epoch):\n",
    "        if stopper:\n",
    "            break\n",
    "        # 한번 학습때 사용할 데이터 셋을 구한다.\n",
    "        for idx in batch_idx_list:\n",
    "            # 한번 학습때 사용하는 X와 y 데이터\n",
    "            X_batch = X_train.iloc[idx,]\n",
    "            y_batch = y_train.iloc[idx]\n",
    "            # 현재 학습에 활용되는 데이터의 gradient를 구한다.\n",
    "            gradients = batch_gradient(X_batch, y_batch, parameters, model)\n",
    "            # 구한 gradient를 바탕으로 parameter를 수정한다.\n",
    "            parameters = step(parameters, gradients, learning_rate, len(X_batch))\n",
    "            # 수정된 parameter를 바탕으로 새로운 손실 함수를 구한다.\n",
    "            new_loss = batch_loss(X_batch, y_batch, parameters, loss_function, len(X_batch))\n",
    "            \n",
    "            # 중단 조건\n",
    "            # 새로운 손실 함수와 기존 손실함 수의 차이가 우리가 처음에 설정한 tolerance보다 작다면 학습을 중단한다.\n",
    "            # 왜냐하면 현재 데이터에 대하여 이미 충분이 학습이 완료된 상태이기 때문에 더이상 학습할 의미가 없기 때문이다.\n",
    "            # 따라서 빠르게 학습을 종료시키고 싶다면 tolerance를 높게 설정하면 된다.\n",
    "            if abs(new_loss - loss) < tolerance:\n",
    "                stopper = True\n",
    "                break\n",
    "            # 아니라면 손실 함수를 최신의 제일 작은 손실함수로 변경해준다.\n",
    "            loss = new_loss\n",
    "        \n",
    "        #100epoch마다 학습 상태 출력\n",
    "        if epoch%100 == 0: #출력이 길게 나오면 check point를 수정해도 됩니다.\n",
    "            print(f\"epoch: {epoch}  loss: {new_loss}  params: {parameters}  gradients: {gradients}\")\n",
    "    \n",
    "    return parameters"
   ]
  },
  {
   "cell_type": "markdown",
   "metadata": {},
   "source": [
    "## Implement\n",
    "경사하강법 함수를 이용해 최적의 모수 찾아보세요. 학습을 진행할 때, Hyper Parameter를 바꿔가면서 학습시켜보세요."
   ]
  },
  {
   "cell_type": "markdown",
   "metadata": {},
   "source": [
    "## Logistic Regression"
   ]
  },
  {
   "cell_type": "markdown",
   "metadata": {},
   "source": [
    "기본적으로 batch_size와 learning_rate는 서로 연관성이 있는데 batch_size를 증가시키면 learning_rate를 감소시키는 것과 동일하다. 왜냐하면 learning_rate를 보폭이라고 가정했을 때 batch_size가 1이라면 그 보폭의 너비가 넓어지기 때문이다. 그런데 기본적으로 학습을 할 때 적절한 learning_rate를 설정한 후 batch_size를 증가시키는 것이 더 속도와 시간면에서 우세하다. 왜냐하면 GPU가 허락해주는 상태에서 batch_size가 증가하면 병렬처리가 가능해지기 때문에 속도가 매우 빨라지게 된다. 따라서 현재 GPU 메모리를 사용한다는 가정하에 learning_rate를 고정 시킨 후에 학습을 시행하겠다."
   ]
  },
  {
   "cell_type": "code",
   "execution_count": 31,
   "metadata": {},
   "outputs": [
    {
     "name": "stdout",
     "output_type": "stream",
     "text": [
      "epoch: 0  loss: 0.9744523042062239  params: [0.20844996 0.87521874 0.81691977]  gradients: [0.025091630632523305, 0.015483397109418576, 0.03567683054201537]\n",
      "epoch: 100  loss: 0.45168997477459216  params: [-0.85001714  0.89142311 -0.78351723]  gradients: [0.003268334484554982, -0.005770986649146818, 0.006927938213703697]\n",
      "epoch: 200  loss: 0.39148163607836073  params: [-1.0409064   1.40775461 -1.32261468]  gradients: [0.0012325363356552258, -0.004448599411998937, 0.004385551285834795]\n",
      "epoch: 300  loss: 0.36126950972304944  params: [-1.14239649  1.79304551 -1.69900961]  gradients: [0.0008713397498742896, -0.0033518984272063604, 0.0032545424028703565]\n",
      "epoch: 400  loss: 0.3434939787200463  params: [-1.22094882  2.09019547 -1.9865181 ]  gradients: [0.0007139898492260371, -0.0026463094853723256, 0.0025518972091801866]\n",
      "epoch: 500  loss: 0.33205466933748456  params: [-1.28657669  2.32904296 -2.21622085]  gradients: [0.0006046747421218103, -0.0021633276416764364, 0.002074965505902751]\n",
      "epoch: 600  loss: 0.3242326631156456  params: [-1.34257658  2.52683216 -2.40550332]  gradients: [0.000519417757490376, -0.0018132703124044284, 0.0017314379360100314]\n",
      "epoch: 700  loss: 0.31864580683816757  params: [-1.39093934  2.6942024  -2.56501411]  gradients: [0.0004509197528150157, -0.001548236028776705, 0.001472761168688972]\n",
      "epoch: 800  loss: 0.3145227439942034  params: [-1.43311711  2.83815078 -2.70171971]  gradients: [0.00039502210299074573, -0.0013407666366084012, 0.0012712514580478333]\n",
      "epoch: 900  loss: 0.3114017955994608  params: [-1.47021423  2.96352168 -2.82042053]  gradients: [0.0003487952821757474, -0.0011740765927065674, 0.0011100565957884545]\n"
     ]
    },
    {
     "data": {
      "text/plain": [
       "array([-1.50277372,  3.07277186, -2.92358547])"
      ]
     },
     "execution_count": 31,
     "metadata": {},
     "output_type": "execute_result"
    }
   ],
   "source": [
    "new_param_bgd = gradient_descent(X_train, y_train, batch_size = X_train.shape[0])\n",
    "new_param_bgd"
   ]
  },
  {
   "cell_type": "markdown",
   "metadata": {},
   "source": [
    "위 함수는 BGD 방식으로 학습한 방식이다. 한번 학습을 할 때 전체 데이터를 활용하기 때문에 GPU를 통한 병렬처리가 가능해 속도가 빨라질 수 있지만 지역최적화에 빠질 수 있고 한번에 학습할 데이터가 많다면 메모리 부족을 초래할 수 있다. 따라서 위의 결과를 조금 더 향상시키기 위해서는 num_epoch을 증가시키거나 learning_rate를 조정해야 한다."
   ]
  },
  {
   "cell_type": "code",
   "execution_count": 32,
   "metadata": {},
   "outputs": [
    {
     "name": "stdout",
     "output_type": "stream",
     "text": [
      "epoch: 0  loss: 0.2804585622681409  params: [-0.87545835  1.00797207 -1.13831202]  gradients: [0.02530328913964999, 0.013770074151586105, 0.017803159975482513]\n",
      "epoch: 100  loss: 0.07736675122670648  params: [-1.93032529  4.17501837 -4.0676901 ]  gradients: [0.0075385468772539614, 0.004102484420981123, 0.005304051789382623]\n",
      "epoch: 200  loss: 0.07736266552467355  params: [-1.9303681   4.1751431  -4.06780374]  gradients: [0.007538159522101871, 0.004102273621936862, 0.005303779249883829]\n",
      "epoch: 300  loss: 0.07736266518361752  params: [-1.9303681   4.17514311 -4.06780375]  gradients: [0.007538159489767166, 0.004102273604340285, 0.005303779227133429]\n",
      "epoch: 400  loss: 0.07736266518359017  params: [-1.9303681   4.17514311 -4.06780375]  gradients: [0.007538159489764571, 0.004102273604338872, 0.005303779227131603]\n",
      "epoch: 500  loss: 0.07736266518359017  params: [-1.9303681   4.17514311 -4.06780375]  gradients: [0.007538159489764571, 0.004102273604338872, 0.005303779227131603]\n",
      "epoch: 600  loss: 0.07736266518359017  params: [-1.9303681   4.17514311 -4.06780375]  gradients: [0.007538159489764571, 0.004102273604338872, 0.005303779227131603]\n",
      "epoch: 700  loss: 0.07736266518359017  params: [-1.9303681   4.17514311 -4.06780375]  gradients: [0.007538159489764571, 0.004102273604338872, 0.005303779227131603]\n",
      "epoch: 800  loss: 0.07736266518359017  params: [-1.9303681   4.17514311 -4.06780375]  gradients: [0.007538159489764571, 0.004102273604338872, 0.005303779227131603]\n",
      "epoch: 900  loss: 0.07736266518359017  params: [-1.9303681   4.17514311 -4.06780375]  gradients: [0.007538159489764571, 0.004102273604338872, 0.005303779227131603]\n"
     ]
    },
    {
     "data": {
      "text/plain": [
       "array([-1.9303681 ,  4.17514311, -4.06780375])"
      ]
     },
     "execution_count": 32,
     "metadata": {},
     "output_type": "execute_result"
    }
   ],
   "source": [
    "new_param_sgd = gradient_descent(X_train, y_train, batch_size = 1)\n",
    "new_param_sgd"
   ]
  },
  {
   "cell_type": "markdown",
   "metadata": {},
   "source": [
    "위 함수는 SGD 방식으로 학습한 방식이다. 한번 학습을 할 때 하나의 데이터를 활용하기 때문에 GPU를 통한 병렬처리가 불가능해 속도가 느려질 수 있지만 지역 최적화에 빠질 우려가 BGD 방식보다 적다. 또한 현재의 결과를 본다면 SGD 방식이 가장 손실 함수가 작다. 또한 위의 결과를 조금 더 향상시키기 위해서는 num_epoch을 증가시키거나 learning_rate를 조정해야 한다."
   ]
  },
  {
   "cell_type": "code",
   "execution_count": 33,
   "metadata": {},
   "outputs": [
    {
     "name": "stdout",
     "output_type": "stream",
     "text": [
      "epoch: 0  loss: 0.9559790706954762  params: [0.44860117 0.76010021 0.11988639]  gradients: [0.03410176553247528, 0.02244423959357499, 0.04499452505682031]\n",
      "epoch: 100  loss: 0.34024053368876184  params: [-1.31155421  2.3831293  -2.28755375]  gradients: [0.002412065411844299, 0.00026712735708521766, 0.004696186333428254]\n",
      "epoch: 200  loss: 0.3135325344481077  params: [-1.53462503  3.10304936 -2.96716149]  gradients: [0.003916781425186294, 0.000795808669185999, 0.0023515954769118383]\n",
      "epoch: 300  loss: 0.30499126756627376  params: [-1.66019931  3.49181912 -3.33012381]  gradients: [0.004695231160304265, 0.0010613300483325915, 0.0013824005775381063]\n",
      "epoch: 400  loss: 0.30133927415605527  params: [-1.73888801  3.7319502  -3.55291134]  gradients: [0.005158311928961358, 0.0012155456844228493, 0.0008621362374018232]\n",
      "epoch: 500  loss: 0.2995277785712271  params: [-1.7910409   3.88997378 -3.69894905]  gradients: [0.005454525056881644, 0.0013124453422378446, 0.0005476332659179265]\n",
      "epoch: 600  loss: 0.29853993211788976  params: [-1.8267562   3.99774624 -3.79829106]  gradients: [0.005652390794705439, 0.0013763258017440963, 0.0003446292251062854]\n",
      "epoch: 700  loss: 0.2979634668171025  params: [-1.85172257  4.07288831 -3.86743395]  gradients: [0.0057882831474468, 0.001419775549950645, 0.00020824922247627924]\n",
      "epoch: 800  loss: 0.29760929286751997  params: [-1.8694129   4.12604029 -3.91628286]  gradients: [0.005883360639463569, 0.0014499600787992305, 0.00011422741864388754]\n",
      "epoch: 900  loss: 0.2973827698530668  params: [-1.88206354  4.16400578 -3.95114476]  gradients: [0.005950734939297528, 0.0014712384985343181, 4.827215013101564e-05]\n"
     ]
    },
    {
     "data": {
      "text/plain": [
       "array([-1.8826989 ,  4.18986868, -3.9714308 ])"
      ]
     },
     "execution_count": 33,
     "metadata": {},
     "output_type": "execute_result"
    }
   ],
   "source": [
    "new_param_mgd = gradient_descent(X_train, y_train, batch_size = 32)\n",
    "new_param_mgd"
   ]
  },
  {
   "cell_type": "markdown",
   "metadata": {},
   "source": [
    "위 함수는 MGD 방식으로 학습한 방식이다. 한번 학습을 할 때 32개의 데이터를 활용하기 때문에 GPU를 통한 병렬처리가 가능해 SGD보다는 빠르고 BGD 보다는 속도가 느린 방식이다. 하지만 BGD 보다 지역 최적화에 빠질 우려가 적다. 또한 현재의 결과를 본다면 2번째로 작은 손실 함수를 보여준다. 또한 위의 결과를 조금 더 향상시키기 위해서는 num_epoch을 증가시키거나 learning_rate를 조정해야 한다. 대부분의 학습시에는 데이터의 셋에 따라 달라지겠지만 기본적으로 적절한 learning_rate와 batch_size를 설정한 MGD방식을 많이 활용한다."
   ]
  },
  {
   "cell_type": "markdown",
   "metadata": {},
   "source": [
    "### Predict Label"
   ]
  },
  {
   "cell_type": "code",
   "execution_count": 66,
   "metadata": {},
   "outputs": [],
   "source": [
    "# new_param_bgd를 활용한 에측\n",
    "y_predict_bgd = []\n",
    "for i in range(len(y_test)):\n",
    "    p = logistic(X_test.iloc[i,:], new_param_bgd)\n",
    "    if p > 0.5 :\n",
    "        y_predict_bgd.append(1)\n",
    "    else :\n",
    "        y_predict_bgd.append(0)\n",
    "\n",
    "# new_param_sgd를 활용한 예측\n",
    "y_predict_sgd = []\n",
    "y_predict_proba_c1_sgd = []\n",
    "for i in range(len(y_test)):\n",
    "    p = logistic(X_test.iloc[i,:], new_param_sgd)\n",
    "    y_predict_proba_c1_sgd.append(p)\n",
    "    if p > 0.5 :\n",
    "        y_predict_sgd.append(1)\n",
    "    else :\n",
    "        y_predict_sgd.append(0)\n",
    "\n",
    "# new_param_mgd를 활용한 예측\n",
    "y_predict_mgd = []\n",
    "for i in range(len(y_test)):\n",
    "    p = logistic(X_test.iloc[i,:], new_param_mgd)\n",
    "    if p > 0.5 :\n",
    "        y_predict_mgd.append(1)\n",
    "    else :\n",
    "        y_predict_mgd.append(0)\n",
    "\n",
    "# 초기 설정된 random_parameters를 활용한 예측\n",
    "y_predict_random = []\n",
    "for i in range(len(y_test)):\n",
    "    p = logistic(X_test.iloc[i,:], random_parameters)\n",
    "    if p> 0.5 :\n",
    "        y_predict_random.append(1)\n",
    "    else :\n",
    "        y_predict_random.append(0)"
   ]
  },
  {
   "cell_type": "markdown",
   "metadata": {},
   "source": [
    "위 함수는 임계치 0.5를 기준으로 로지스틱 함수로 예측한 확률 값을 0과 1로 구분한 코드이다."
   ]
  },
  {
   "cell_type": "markdown",
   "metadata": {},
   "source": [
    "### Confusion Matrix"
   ]
  },
  {
   "cell_type": "code",
   "execution_count": 67,
   "metadata": {},
   "outputs": [],
   "source": [
    "from sklearn.metrics import *\n",
    "\n",
    "# Confusion Matrix을 함수로 구현\n",
    "def get_clf_eval(y_test, y_predict, title):\n",
    "    tn, fp, fn, tp = confusion_matrix(y_test, y_predict).ravel()\n",
    "    print(\"-\"*90)\n",
    "    print(f'{title}의 Confusion Matrix')\n",
    "    print(confusion_matrix(y_test, y_predict))\n",
    "    accuracy = (tp+tn) / (tp+fn+fp+tn)\n",
    "    precision = tp / (tp + fp)\n",
    "    recall = tp / (tp + fn)\n",
    "    f1 = 2 * (precision * recall) / (precision + recall)\n",
    "    print(f'{title}의 accuracy : {accuracy:.5f}, precision : {precision:.5f}, recall : {recall:.5f}, f1 : {f1:.5f}')\n",
    "    print(\"-\"*90)\n",
    "    print()"
   ]
  },
  {
   "cell_type": "code",
   "execution_count": 68,
   "metadata": {},
   "outputs": [
    {
     "name": "stdout",
     "output_type": "stream",
     "text": [
      "------------------------------------------------------------------------------------------\n",
      "y_predict_bgd의 Confusion Matrix\n",
      "[[38  2]\n",
      " [ 4  6]]\n",
      "y_predict_bgd의 accuracy : 0.88000, precision : 0.75000, recall : 0.60000, f1 : 0.66667\n",
      "------------------------------------------------------------------------------------------\n",
      "\n",
      "------------------------------------------------------------------------------------------\n",
      "y_predict_sgd의 Confusion Matrix\n",
      "[[38  2]\n",
      " [ 1  9]]\n",
      "y_predict_sgd의 accuracy : 0.94000, precision : 0.81818, recall : 0.90000, f1 : 0.85714\n",
      "------------------------------------------------------------------------------------------\n",
      "\n",
      "------------------------------------------------------------------------------------------\n",
      "y_predict_mgd의 Confusion Matrix\n",
      "[[38  2]\n",
      " [ 1  9]]\n",
      "y_predict_mgd의 accuracy : 0.94000, precision : 0.81818, recall : 0.90000, f1 : 0.85714\n",
      "------------------------------------------------------------------------------------------\n",
      "\n",
      "------------------------------------------------------------------------------------------\n",
      "y_predict_random의 Confusion Matrix\n",
      "[[ 8 32]\n",
      " [ 1  9]]\n",
      "y_predict_random의 accuracy : 0.34000, precision : 0.21951, recall : 0.90000, f1 : 0.35294\n",
      "------------------------------------------------------------------------------------------\n",
      "\n"
     ]
    }
   ],
   "source": [
    "get_clf_eval(y_test, y_predict_bgd, 'y_predict_bgd')\n",
    "\n",
    "get_clf_eval(y_test, y_predict_sgd, 'y_predict_sgd')\n",
    "\n",
    "get_clf_eval(y_test, y_predict_mgd, 'y_predict_mgd')\n",
    "\n",
    "get_clf_eval(y_test, y_predict_random, 'y_predict_random')"
   ]
  },
  {
   "cell_type": "code",
   "execution_count": 81,
   "metadata": {},
   "outputs": [
    {
     "name": "stdout",
     "output_type": "stream",
     "text": [
      "전체 데이터의 개수:  50\n",
      "0의 개수          :  40\n",
      "1의 개수          :  10\n"
     ]
    }
   ],
   "source": [
    "print('전체 데이터의 개수: ', y_test.count())\n",
    "print(\"0의 개수          : \",sum(y_test == 0))\n",
    "print(\"1의 개수          : \",sum(y_test == 1))"
   ]
  },
  {
   "cell_type": "markdown",
   "metadata": {},
   "source": [
    "위 코드는 임계치 0.5를 기준으로 예측한 값에 대한 Confusion Matrix, accuracy, precision, recall, f1_score을 구한 코드이다. 현재 test 데이터의 라벨이 8:2의 비율을 가지고 있기 때문에 많은 불균형한 상태이다. 따라서 모든 값을 0으로 예측해도 80%의 정확도를 보이기 때문에 정확도는 그렇게 좋은 모델 성능 평가지표가 될 수 없다. 따라서 정밀도, 재현율, F1_score의 지표가 더 좋은 모델 성능 평가 지표로 보인다. 지표에 따르면 SGD방식과 MGD방식으로 학습한 데이터가 성능이 더 좋다고 볼 수 있지만 학습횟수가 모두 고정된 상태이기 때문에 학습횟수 등 여러 파라미터가 달라진다면 언제든 성능은 달라질 수 있다."
   ]
  },
  {
   "cell_type": "markdown",
   "metadata": {},
   "source": [
    "### 정밀도와 재현율과 F1스코어의 관계"
   ]
  },
  {
   "cell_type": "code",
   "execution_count": 70,
   "metadata": {},
   "outputs": [
    {
     "data": {
      "image/png": "[encoded data removed]",
      "text/plain": [
       "<Figure size 720x576 with 1 Axes>"
      ]
     },
     "metadata": {
      "needs_background": "light"
     },
     "output_type": "display_data"
    }
   ],
   "source": [
    "import matplotlib.ticker as ticker\n",
    "import matplotlib.pyplot as plt\n",
    "import matplotlib as mpl\n",
    "\n",
    "# 정밀도와 재현율과 F1스코어을 그래프화 시키기 위한 함수\n",
    "def precision_recall_curve_plot_and_f1(y_test, pred_proba_c1):\n",
    "    precisions, recalls, thresholds = precision_recall_curve(y_test, pred_proba_c1)\n",
    "    f1 = 2 * (precisions * recalls) / (precisions + recalls)\n",
    "\n",
    "    plt.figure(figsize=(10,8))\n",
    "    threshold_boundary = thresholds.shape[0]\n",
    "    plt.plot(thresholds, precisions[0:threshold_boundary], linestyle='--', label='precision')\n",
    "    plt.plot(thresholds, recalls[0:threshold_boundary], label='recall')\n",
    "    plt.plot(thresholds, f1[0:threshold_boundary], linestyle='-', label='f1')\n",
    "\n",
    "    start, end = plt.xlim()\n",
    "    plt.xticks(np.round(np.arange(start, end, 0.1), 2))\n",
    "\n",
    "    plt.xlabel('Threshold value')\n",
    "    plt.ylabel('Precision and Recalls and F1 value')\n",
    "    plt.legend()\n",
    "    plt.grid()\n",
    "    plt.show()\n",
    "\n",
    "precision_recall_curve_plot_and_f1(y_test, y_predict_proba_c1_sgd)"
   ]
  },
  {
   "cell_type": "markdown",
   "metadata": {},
   "source": [
    "기본적으로 정밀도와 재현율은 trade-off 관계를 가지는데 정밀도가 상승하면 재현율은 감소하고 정밀도가 증가하면 재현율은 감소하는 관계를 가진다. F1_score의 경우에는 정밀도와 재현율이 가장 엇비슷할때 그 값이 가장 높아진다. 따라서 정밀도와 재현율의 관계를 고려해 성능을 평가하는 지표가 F1_Score임을 알 수 있다.\n",
    "\n",
    "그런데 정밀도와 재현율이 trade-off관계를 가지는 이유가 무엇일까? 그 이유는 정밀도와 재현율을 구하는 식의 분모를 보면 알 수 있다. 정밀도의 경우 FP를 가지고 있고 재현율의 경우 FN을 가지고 있다. 따라서 임계치를 높여서 모든 값을 N으로 예측한다면 FN값이 증가하고 FP값이 감소하여 정밀도는 증가하고 재현율은 감소할 것이다. 이렇게 임계치를 높이면 정밀도는 증가하고 재현율은 감소하게 된다. 따라서 가장 좋은 성능을 가지는 지표는 정밀도, 재현율, F1 값이 모두 높은 모델이며 이러한 정밀도와 재현율의 trade-off 관계 속에 정밀도와 재현율의 성능을 모두 높이는 방법은 모델 자체의 성능을 좋게 만들어 그래프를 위의 방향으로 끌어 올리는 것이다. "
   ]
  },
  {
   "cell_type": "markdown",
   "metadata": {},
   "source": [
    "### ROC curve and AUC Score"
   ]
  },
  {
   "cell_type": "code",
   "execution_count": 38,
   "metadata": {},
   "outputs": [
    {
     "data": {
      "image/png": "[encoded data removed]",
      "text/plain": [
       "<Figure size 720x576 with 1 Axes>"
      ]
     },
     "metadata": {
      "needs_background": "light"
     },
     "output_type": "display_data"
    }
   ],
   "source": [
    "import matplotlib.ticker as ticker\n",
    "import matplotlib.pyplot as plt\n",
    "import matplotlib as mpl\n",
    "\n",
    "# ROC curve and AUC Score를 그래프로 나타내기 위한 함수\n",
    "def roc_curve_plot(y_test, pred_proba_c1):\n",
    "    FPRs, TPRs, thresholds = roc_curve(y_test, pred_proba_c1)\n",
    "\n",
    "    plt.figure(figsize=(10,8))\n",
    "    # ROC 곡선을 그림\n",
    "    plt.plot(FPRs, TPRs, label='ROC')\n",
    "    # 가운데 대각선을 그림\n",
    "    plt.plot([0,1], [0,1], 'k--', label = 'Random')\n",
    "\n",
    "    start, end = plt.xlim()\n",
    "    plt.xticks(np.round(np.arange(start, end, 0.1), 2))\n",
    "    plt.xlim(0, 1)\n",
    "    plt.ylim(0, 1)\n",
    "    plt.xlabel('FPR(1 - Sensitivity)')\n",
    "    plt.ylabel('TPR(Recall)')\n",
    "    plt.legend()\n",
    "    plt.show()\n",
    "\n",
    "roc_curve_plot(y_test, y_predict_proba_c1_sgd)"
   ]
  },
  {
   "cell_type": "code",
   "execution_count": 85,
   "metadata": {},
   "outputs": [
    {
     "name": "stdout",
     "output_type": "stream",
     "text": [
      "AUC Score : 0.95000\n"
     ]
    }
   ],
   "source": [
    "auc = roc_auc_score(y_test, y_predict_proba_c1_sgd)\n",
    "print(f'AUC Score : {auc:.5f}')"
   ]
  },
  {
   "cell_type": "markdown",
   "metadata": {},
   "source": [
    "위 코드는 ROC curve와 AUC Score를 나타낸 것으로 ROC curve는 FPR이 변할 때 TPR이 어떻게 변화하는지를 나타낸 곡선으로 ROC curve의 밑의 면적의 넓이의 값이 AUC Score이며 그 값이 1에 가까울수록 성능이 좋다고 할 수 있다. 현재 SGD방식으로 구한 값의 AUC 값은 0.95로 성능이 좋다고 할 수 있다.\n",
    "\n",
    "주의할 점\n",
    "- ROC curve와 AUC Score를 구할때는 예측 값이 아닌 label에 대한 예측 확률 값을 활용해야한다."
   ]
  },
  {
   "cell_type": "markdown",
   "metadata": {},
   "source": [
    "## Linear regression\n",
    "### $y = 0.5 + 2.7x$"
   ]
  },
  {
   "cell_type": "markdown",
   "metadata": {},
   "source": [
    "### Data"
   ]
  },
  {
   "cell_type": "code",
   "execution_count": 39,
   "metadata": {},
   "outputs": [],
   "source": [
    "raw_X = np.random.rand(150)\n",
    "y = 2.7*raw_X + 0.5 + np.random.randn(150)"
   ]
  },
  {
   "cell_type": "code",
   "execution_count": 40,
   "metadata": {},
   "outputs": [],
   "source": [
    "tmp = np.array([1 for _ in range(150)])\n",
    "X = np.vstack((tmp, raw_X)).T\n",
    "X = pd.DataFrame(X)\n",
    "y = pd.Series(y)"
   ]
  },
  {
   "cell_type": "markdown",
   "metadata": {},
   "source": [
    "### Estimation"
   ]
  },
  {
   "cell_type": "code",
   "execution_count": 41,
   "metadata": {},
   "outputs": [
    {
     "data": {
      "text/plain": [
       "array([0.22684876, 3.21363208])"
      ]
     },
     "execution_count": 41,
     "metadata": {},
     "output_type": "execute_result"
    }
   ],
   "source": [
    "#정규방정식\n",
    "theta = np.linalg.inv(np.dot(X.T,X)).dot(X.T).dot(y)\n",
    "theta"
   ]
  },
  {
   "cell_type": "code",
   "execution_count": 42,
   "metadata": {},
   "outputs": [
    {
     "name": "stdout",
     "output_type": "stream",
     "text": [
      "epoch: 0  loss: 0.24953123770073612  params: [1.12096436 0.83876629]  gradients: [-0.05858469161478886, -0.03661187553203282]\n",
      "epoch: 100  loss: 0.12562870942931403  params: [0.27718921 3.15911792]  gradients: [-0.0259519345661178, -0.006339944357961638]\n"
     ]
    },
    {
     "data": {
      "text/plain": [
       "array([0.25282692, 3.14789906])"
      ]
     },
     "execution_count": 42,
     "metadata": {},
     "output_type": "execute_result"
    }
   ],
   "source": [
    "#경사하강법\n",
    "new_param = gradient_descent(X, y, model = 'linear')\n",
    "new_param"
   ]
  },
  {
   "cell_type": "code",
   "execution_count": 43,
   "metadata": {},
   "outputs": [],
   "source": [
    "y_hat_NE = theta.dot(X.T)\n",
    "y_hat_GD = new_param.dot(X.T)"
   ]
  },
  {
   "cell_type": "markdown",
   "metadata": {},
   "source": [
    "### Visualization\n",
    "시각화를 통해 정규방정식과 경사하강법을 통한 선형회귀를 비교해보세요  \n",
    "(밑의 코드를 실행만 시키면 됩니다. 추가 코드 x)"
   ]
  },
  {
   "cell_type": "code",
   "execution_count": 44,
   "metadata": {},
   "outputs": [
    {
     "data": {
      "image/png": "[encoded data removed]",
      "text/plain": [
       "<Figure size 432x288 with 1 Axes>"
      ]
     },
     "metadata": {
      "needs_background": "light"
     },
     "output_type": "display_data"
    }
   ],
   "source": [
    "import matplotlib.pyplot as plt\n",
    "plt.plot(X.iloc[:,1], y, '.k') #산점도\n",
    "plt.plot(X.iloc[:,1], y_hat_NE, '-b', label = 'NE') #정규방정식\n",
    "plt.plot(X.iloc[:,1], y_hat_GD, '-r', label = 'GD') #경사하강법\n",
    "plt.legend()\n",
    "plt.show()"
   ]
  },
  {
   "cell_type": "markdown",
   "metadata": {},
   "source": [
    "정규 방정식으로 구한 회귀선과 경사 하강법을 통해 구한 회귀선 모두 동일한 형태를 보여주며 대체적으로 값을 잘 예측했다고 볼 수 있다."
   ]
  },
  {
   "cell_type": "markdown",
   "metadata": {},
   "source": [
    "참고자료\n",
    "\n",
    "- 파이썬 머신러닝 완벽 가이드(권철민)\n",
    "- 핸즈온 머신러닝 2판(박해선)\n",
    "- https://honeyjamtech.tistory.com/43\n",
    "- https://light-tree.tistory.com/133"
   ]
  }
 ],
 "metadata": {
  "kernelspec": {
   "display_name": "Python 3",
   "language": "python",
   "name": "python3"
  },
  "language_info": {
   "codemirror_mode": {
    "name": "ipython",
    "version": 3
   },
   "file_extension": ".py",
   "mimetype": "text/x-python",
   "name": "python",
   "nbconvert_exporter": "python",
   "pygments_lexer": "ipython3",
   "version": "3.8.5"
  }
 },
 "nbformat": 4,
 "nbformat_minor": 4
}
