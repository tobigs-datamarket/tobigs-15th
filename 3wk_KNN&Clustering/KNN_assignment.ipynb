{
 "cells": [
  {
   "cell_type": "code",
   "execution_count": 65,
   "metadata": {},
   "outputs": [],
   "source": [
    "import pandas as pd\n",
    "import numpy as np\n",
    "import matplotlib.pyplot as plt\n",
    "import seaborn as sns\n",
    "\n",
    "plt.style.use('ggplot')\n",
    "sns.set_style(\"whitegrid\")\n",
    "\n",
    "import warnings\n",
    "warnings.filterwarnings('ignore')\n",
    "\n",
    "%matplotlib inline"
   ]
  },
  {
   "cell_type": "markdown",
   "metadata": {},
   "source": [
    "```\n",
    "target = Gender \n",
    "\n",
    "- User_ID : 고객 ID\n",
    "- Product_ID : 제품 ID\n",
    "- Age : 고객 연령대\n",
    "- Occupation : 고객 직업\n",
    "- City_Category : 고객 거주 도시\n",
    "- Stay_In_Current_City_Years : 현재 도시 거주 기간(년)\n",
    "- Marital_Status : 결혼 여부\n",
    "- Product_Category_1 : 구매 제품 분류(대)\n",
    "- Product_Category_2 : 구매 제품 분류(중)\n",
    "- Product_Category_3 : 구매 제품 분류(소)\n",
    "- Purchase : 구매 가격\n",
    "```"
   ]
  },
  {
   "cell_type": "code",
   "execution_count": 7,
   "metadata": {},
   "outputs": [],
   "source": [
    "# 데이터 불러오기\n",
    "data = pd.read_csv('BlackFriday_processed.csv', index_col = 0)"
   ]
  },
  {
   "cell_type": "code",
   "execution_count": 9,
   "metadata": {},
   "outputs": [
    {
     "data": {
      "text/html": [
       "<div>\n",
       "<style scoped>\n",
       "    .dataframe tbody tr th:only-of-type {\n",
       "        vertical-align: middle;\n",
       "    }\n",
       "\n",
       "    .dataframe tbody tr th {\n",
       "        vertical-align: top;\n",
       "    }\n",
       "\n",
       "    .dataframe thead th {\n",
       "        text-align: right;\n",
       "    }\n",
       "</style>\n",
       "<table border=\"1\" class=\"dataframe\">\n",
       "  <thead>\n",
       "    <tr style=\"text-align: right;\">\n",
       "      <th></th>\n",
       "      <th>User_ID</th>\n",
       "      <th>Product_ID</th>\n",
       "      <th>Gender</th>\n",
       "      <th>Age</th>\n",
       "      <th>Occupation</th>\n",
       "      <th>City_Category</th>\n",
       "      <th>Stay_In_Current_City_Years</th>\n",
       "      <th>Marital_Status</th>\n",
       "      <th>Product_Category_1</th>\n",
       "      <th>Product_Category_2</th>\n",
       "      <th>Product_Category_3</th>\n",
       "      <th>Purchase</th>\n",
       "    </tr>\n",
       "  </thead>\n",
       "  <tbody>\n",
       "    <tr>\n",
       "      <th>0</th>\n",
       "      <td>1001088</td>\n",
       "      <td>P00046042</td>\n",
       "      <td>F</td>\n",
       "      <td>0-17</td>\n",
       "      <td>10</td>\n",
       "      <td>A</td>\n",
       "      <td>3</td>\n",
       "      <td>0</td>\n",
       "      <td>5</td>\n",
       "      <td>17.0</td>\n",
       "      <td>NaN</td>\n",
       "      <td>2010</td>\n",
       "    </tr>\n",
       "    <tr>\n",
       "      <th>1</th>\n",
       "      <td>1004493</td>\n",
       "      <td>P00347742</td>\n",
       "      <td>F</td>\n",
       "      <td>0-17</td>\n",
       "      <td>10</td>\n",
       "      <td>A</td>\n",
       "      <td>1</td>\n",
       "      <td>0</td>\n",
       "      <td>7</td>\n",
       "      <td>NaN</td>\n",
       "      <td>NaN</td>\n",
       "      <td>4483</td>\n",
       "    </tr>\n",
       "    <tr>\n",
       "      <th>2</th>\n",
       "      <td>1005302</td>\n",
       "      <td>P00048942</td>\n",
       "      <td>F</td>\n",
       "      <td>0-17</td>\n",
       "      <td>10</td>\n",
       "      <td>A</td>\n",
       "      <td>1</td>\n",
       "      <td>0</td>\n",
       "      <td>1</td>\n",
       "      <td>4.0</td>\n",
       "      <td>NaN</td>\n",
       "      <td>7696</td>\n",
       "    </tr>\n",
       "    <tr>\n",
       "      <th>3</th>\n",
       "      <td>1001348</td>\n",
       "      <td>P00145242</td>\n",
       "      <td>F</td>\n",
       "      <td>0-17</td>\n",
       "      <td>10</td>\n",
       "      <td>A</td>\n",
       "      <td>3</td>\n",
       "      <td>0</td>\n",
       "      <td>2</td>\n",
       "      <td>4.0</td>\n",
       "      <td>NaN</td>\n",
       "      <td>16429</td>\n",
       "    </tr>\n",
       "    <tr>\n",
       "      <th>4</th>\n",
       "      <td>1001348</td>\n",
       "      <td>P00106742</td>\n",
       "      <td>F</td>\n",
       "      <td>0-17</td>\n",
       "      <td>10</td>\n",
       "      <td>A</td>\n",
       "      <td>3</td>\n",
       "      <td>0</td>\n",
       "      <td>3</td>\n",
       "      <td>5.0</td>\n",
       "      <td>NaN</td>\n",
       "      <td>5780</td>\n",
       "    </tr>\n",
       "  </tbody>\n",
       "</table>\n",
       "</div>"
      ],
      "text/plain": [
       "   User_ID Product_ID Gender   Age  Occupation City_Category  \\\n",
       "0  1001088  P00046042      F  0-17          10             A   \n",
       "1  1004493  P00347742      F  0-17          10             A   \n",
       "2  1005302  P00048942      F  0-17          10             A   \n",
       "3  1001348  P00145242      F  0-17          10             A   \n",
       "4  1001348  P00106742      F  0-17          10             A   \n",
       "\n",
       "  Stay_In_Current_City_Years  Marital_Status  Product_Category_1  \\\n",
       "0                          3               0                   5   \n",
       "1                          1               0                   7   \n",
       "2                          1               0                   1   \n",
       "3                          3               0                   2   \n",
       "4                          3               0                   3   \n",
       "\n",
       "   Product_Category_2  Product_Category_3  Purchase  \n",
       "0                17.0                 NaN      2010  \n",
       "1                 NaN                 NaN      4483  \n",
       "2                 4.0                 NaN      7696  \n",
       "3                 4.0                 NaN     16429  \n",
       "4                 5.0                 NaN      5780  "
      ]
     },
     "execution_count": 9,
     "metadata": {},
     "output_type": "execute_result"
    }
   ],
   "source": [
    "data.head()"
   ]
  },
  {
   "cell_type": "code",
   "execution_count": 10,
   "metadata": {},
   "outputs": [
    {
     "name": "stdout",
     "output_type": "stream",
     "text": [
      "<class 'pandas.core.frame.DataFrame'>\n",
      "Int64Index: 4998 entries, 0 to 4997\n",
      "Data columns (total 12 columns):\n",
      " #   Column                      Non-Null Count  Dtype  \n",
      "---  ------                      --------------  -----  \n",
      " 0   User_ID                     4998 non-null   int64  \n",
      " 1   Product_ID                  4998 non-null   object \n",
      " 2   Gender                      4998 non-null   object \n",
      " 3   Age                         4998 non-null   object \n",
      " 4   Occupation                  4998 non-null   int64  \n",
      " 5   City_Category               4998 non-null   object \n",
      " 6   Stay_In_Current_City_Years  4998 non-null   object \n",
      " 7   Marital_Status              4998 non-null   int64  \n",
      " 8   Product_Category_1          4998 non-null   int64  \n",
      " 9   Product_Category_2          3465 non-null   float64\n",
      " 10  Product_Category_3          1544 non-null   float64\n",
      " 11  Purchase                    4998 non-null   int64  \n",
      "dtypes: float64(2), int64(5), object(5)\n",
      "memory usage: 507.6+ KB\n"
     ]
    }
   ],
   "source": [
    "data.info()"
   ]
  },
  {
   "cell_type": "markdown",
   "metadata": {},
   "source": [
    "- ID 제외하고 feature의 타입(type)은 int형이 4개, float형이 2개, object형이 5개 입니다. "
   ]
  },
  {
   "cell_type": "code",
   "execution_count": 17,
   "metadata": {},
   "outputs": [
    {
     "data": {
      "text/html": [
       "<div>\n",
       "<style scoped>\n",
       "    .dataframe tbody tr th:only-of-type {\n",
       "        vertical-align: middle;\n",
       "    }\n",
       "\n",
       "    .dataframe tbody tr th {\n",
       "        vertical-align: top;\n",
       "    }\n",
       "\n",
       "    .dataframe thead th {\n",
       "        text-align: right;\n",
       "    }\n",
       "</style>\n",
       "<table border=\"1\" class=\"dataframe\">\n",
       "  <thead>\n",
       "    <tr style=\"text-align: right;\">\n",
       "      <th></th>\n",
       "      <th>User_ID</th>\n",
       "      <th>Occupation</th>\n",
       "      <th>Marital_Status</th>\n",
       "      <th>Product_Category_1</th>\n",
       "      <th>Product_Category_2</th>\n",
       "      <th>Product_Category_3</th>\n",
       "      <th>Purchase</th>\n",
       "    </tr>\n",
       "  </thead>\n",
       "  <tbody>\n",
       "    <tr>\n",
       "      <th>count</th>\n",
       "      <td>4.998000e+03</td>\n",
       "      <td>4998.000000</td>\n",
       "      <td>4998.000000</td>\n",
       "      <td>4998.000000</td>\n",
       "      <td>3465.000000</td>\n",
       "      <td>1544.000000</td>\n",
       "      <td>4998.000000</td>\n",
       "    </tr>\n",
       "    <tr>\n",
       "      <th>mean</th>\n",
       "      <td>1.003015e+06</td>\n",
       "      <td>8.036815</td>\n",
       "      <td>0.421369</td>\n",
       "      <td>5.320128</td>\n",
       "      <td>9.773737</td>\n",
       "      <td>12.766839</td>\n",
       "      <td>9234.655462</td>\n",
       "    </tr>\n",
       "    <tr>\n",
       "      <th>std</th>\n",
       "      <td>1.709910e+03</td>\n",
       "      <td>6.442697</td>\n",
       "      <td>0.493828</td>\n",
       "      <td>3.912281</td>\n",
       "      <td>5.101867</td>\n",
       "      <td>4.023591</td>\n",
       "      <td>4999.225081</td>\n",
       "    </tr>\n",
       "    <tr>\n",
       "      <th>min</th>\n",
       "      <td>1.000003e+06</td>\n",
       "      <td>0.000000</td>\n",
       "      <td>0.000000</td>\n",
       "      <td>1.000000</td>\n",
       "      <td>2.000000</td>\n",
       "      <td>3.000000</td>\n",
       "      <td>13.000000</td>\n",
       "    </tr>\n",
       "    <tr>\n",
       "      <th>25%</th>\n",
       "      <td>1.001560e+06</td>\n",
       "      <td>2.000000</td>\n",
       "      <td>0.000000</td>\n",
       "      <td>1.000000</td>\n",
       "      <td>5.000000</td>\n",
       "      <td>9.000000</td>\n",
       "      <td>5497.750000</td>\n",
       "    </tr>\n",
       "    <tr>\n",
       "      <th>50%</th>\n",
       "      <td>1.003040e+06</td>\n",
       "      <td>7.000000</td>\n",
       "      <td>0.000000</td>\n",
       "      <td>5.000000</td>\n",
       "      <td>9.000000</td>\n",
       "      <td>14.000000</td>\n",
       "      <td>8049.000000</td>\n",
       "    </tr>\n",
       "    <tr>\n",
       "      <th>75%</th>\n",
       "      <td>1.004417e+06</td>\n",
       "      <td>14.000000</td>\n",
       "      <td>1.000000</td>\n",
       "      <td>8.000000</td>\n",
       "      <td>15.000000</td>\n",
       "      <td>16.000000</td>\n",
       "      <td>12039.000000</td>\n",
       "    </tr>\n",
       "    <tr>\n",
       "      <th>max</th>\n",
       "      <td>1.006037e+06</td>\n",
       "      <td>20.000000</td>\n",
       "      <td>1.000000</td>\n",
       "      <td>20.000000</td>\n",
       "      <td>18.000000</td>\n",
       "      <td>18.000000</td>\n",
       "      <td>23913.000000</td>\n",
       "    </tr>\n",
       "  </tbody>\n",
       "</table>\n",
       "</div>"
      ],
      "text/plain": [
       "            User_ID   Occupation  Marital_Status  Product_Category_1  \\\n",
       "count  4.998000e+03  4998.000000     4998.000000         4998.000000   \n",
       "mean   1.003015e+06     8.036815        0.421369            5.320128   \n",
       "std    1.709910e+03     6.442697        0.493828            3.912281   \n",
       "min    1.000003e+06     0.000000        0.000000            1.000000   \n",
       "25%    1.001560e+06     2.000000        0.000000            1.000000   \n",
       "50%    1.003040e+06     7.000000        0.000000            5.000000   \n",
       "75%    1.004417e+06    14.000000        1.000000            8.000000   \n",
       "max    1.006037e+06    20.000000        1.000000           20.000000   \n",
       "\n",
       "       Product_Category_2  Product_Category_3      Purchase  \n",
       "count         3465.000000         1544.000000   4998.000000  \n",
       "mean             9.773737           12.766839   9234.655462  \n",
       "std              5.101867            4.023591   4999.225081  \n",
       "min              2.000000            3.000000     13.000000  \n",
       "25%              5.000000            9.000000   5497.750000  \n",
       "50%              9.000000           14.000000   8049.000000  \n",
       "75%             15.000000           16.000000  12039.000000  \n",
       "max             18.000000           18.000000  23913.000000  "
      ]
     },
     "execution_count": 17,
     "metadata": {},
     "output_type": "execute_result"
    }
   ],
   "source": [
    "data.describe()"
   ]
  },
  {
   "cell_type": "code",
   "execution_count": 18,
   "metadata": {},
   "outputs": [
    {
     "data": {
      "text/html": [
       "<div>\n",
       "<style scoped>\n",
       "    .dataframe tbody tr th:only-of-type {\n",
       "        vertical-align: middle;\n",
       "    }\n",
       "\n",
       "    .dataframe tbody tr th {\n",
       "        vertical-align: top;\n",
       "    }\n",
       "\n",
       "    .dataframe thead th {\n",
       "        text-align: right;\n",
       "    }\n",
       "</style>\n",
       "<table border=\"1\" class=\"dataframe\">\n",
       "  <thead>\n",
       "    <tr style=\"text-align: right;\">\n",
       "      <th></th>\n",
       "      <th>Product_ID</th>\n",
       "      <th>Gender</th>\n",
       "      <th>Age</th>\n",
       "      <th>City_Category</th>\n",
       "      <th>Stay_In_Current_City_Years</th>\n",
       "    </tr>\n",
       "  </thead>\n",
       "  <tbody>\n",
       "    <tr>\n",
       "      <th>count</th>\n",
       "      <td>4998</td>\n",
       "      <td>4998</td>\n",
       "      <td>4998</td>\n",
       "      <td>4998</td>\n",
       "      <td>4998</td>\n",
       "    </tr>\n",
       "    <tr>\n",
       "      <th>unique</th>\n",
       "      <td>1797</td>\n",
       "      <td>2</td>\n",
       "      <td>7</td>\n",
       "      <td>3</td>\n",
       "      <td>5</td>\n",
       "    </tr>\n",
       "    <tr>\n",
       "      <th>top</th>\n",
       "      <td>P00265242</td>\n",
       "      <td>M</td>\n",
       "      <td>26-35</td>\n",
       "      <td>B</td>\n",
       "      <td>1</td>\n",
       "    </tr>\n",
       "    <tr>\n",
       "      <th>freq</th>\n",
       "      <td>21</td>\n",
       "      <td>3765</td>\n",
       "      <td>1996</td>\n",
       "      <td>2102</td>\n",
       "      <td>1758</td>\n",
       "    </tr>\n",
       "  </tbody>\n",
       "</table>\n",
       "</div>"
      ],
      "text/plain": [
       "       Product_ID Gender    Age City_Category Stay_In_Current_City_Years\n",
       "count        4998   4998   4998          4998                       4998\n",
       "unique       1797      2      7             3                          5\n",
       "top     P00265242      M  26-35             B                          1\n",
       "freq           21   3765   1996          2102                       1758"
      ]
     },
     "execution_count": 18,
     "metadata": {},
     "output_type": "execute_result"
    }
   ],
   "source": [
    "data.describe(include='O')"
   ]
  },
  {
   "cell_type": "code",
   "execution_count": 16,
   "metadata": {},
   "outputs": [
    {
     "name": "stdout",
     "output_type": "stream",
     "text": [
      "######################\n",
      "User_ID\n",
      "######################\n",
      "1002063    12\n",
      "1005795    12\n",
      "1001980    11\n",
      "1004344    11\n",
      "1005831    10\n",
      "           ..\n",
      "1004220     1\n",
      "1004224     1\n",
      "1004228     1\n",
      "1004236     1\n",
      "1005571     1\n",
      "Name: User_ID, Length: 2656, dtype: int64\n",
      "######################\n",
      "Product_ID\n",
      "######################\n",
      "P00265242    21\n",
      "P00220442    16\n",
      "P00010742    15\n",
      "P00114942    15\n",
      "P00147942    15\n",
      "             ..\n",
      "P00330442     1\n",
      "P00186042     1\n",
      "P00197342     1\n",
      "P00072442     1\n",
      "P00008642     1\n",
      "Name: Product_ID, Length: 1797, dtype: int64\n",
      "######################\n",
      "Gender\n",
      "######################\n",
      "M    3765\n",
      "F    1233\n",
      "Name: Gender, dtype: int64\n",
      "######################\n",
      "Age\n",
      "######################\n",
      "26-35    1996\n",
      "36-45    1000\n",
      "18-25     906\n",
      "46-50     414\n",
      "51-55     350\n",
      "55+       195\n",
      "0-17      137\n",
      "Name: Age, dtype: int64\n",
      "######################\n",
      "Occupation\n",
      "######################\n",
      "4     706\n",
      "0     572\n",
      "7     535\n",
      "1     460\n",
      "17    339\n",
      "12    305\n",
      "20    285\n",
      "2     251\n",
      "14    245\n",
      "16    244\n",
      "6     186\n",
      "3     160\n",
      "15    133\n",
      "10    122\n",
      "5      98\n",
      "11     95\n",
      "19     73\n",
      "13     65\n",
      "18     56\n",
      "9      50\n",
      "8      18\n",
      "Name: Occupation, dtype: int64\n",
      "######################\n",
      "City_Category\n",
      "######################\n",
      "B    2102\n",
      "C    1555\n",
      "A    1341\n",
      "Name: City_Category, dtype: int64\n",
      "######################\n",
      "Stay_In_Current_City_Years\n",
      "######################\n",
      "1     1758\n",
      "2      915\n",
      "3      908\n",
      "4+     742\n",
      "0      675\n",
      "Name: Stay_In_Current_City_Years, dtype: int64\n",
      "######################\n",
      "Marital_Status\n",
      "######################\n",
      "0    2892\n",
      "1    2106\n",
      "Name: Marital_Status, dtype: int64\n",
      "######################\n",
      "Product_Category_1\n",
      "######################\n",
      "5     1407\n",
      "1     1285\n",
      "8      995\n",
      "2      227\n",
      "11     206\n",
      "3      193\n",
      "6      193\n",
      "4      107\n",
      "16      78\n",
      "15      57\n",
      "13      43\n",
      "10      41\n",
      "7       40\n",
      "20      31\n",
      "12      31\n",
      "19      20\n",
      "14      19\n",
      "18      18\n",
      "17       6\n",
      "9        1\n",
      "Name: Product_Category_1, dtype: int64\n",
      "######################\n",
      "Product_Category_2\n",
      "######################\n",
      "8.0     588\n",
      "14.0    496\n",
      "2.0     448\n",
      "16.0    392\n",
      "15.0    345\n",
      "5.0     258\n",
      "4.0     246\n",
      "6.0     148\n",
      "17.0    132\n",
      "11.0    110\n",
      "13.0    102\n",
      "9.0      65\n",
      "12.0     40\n",
      "3.0      35\n",
      "10.0     30\n",
      "18.0     23\n",
      "7.0       7\n",
      "Name: Product_Category_2, dtype: int64\n",
      "######################\n",
      "Product_Category_3\n",
      "######################\n",
      "16.0    318\n",
      "15.0    260\n",
      "14.0    162\n",
      "17.0    146\n",
      "5.0     140\n",
      "8.0     116\n",
      "9.0     105\n",
      "12.0     96\n",
      "13.0     50\n",
      "6.0      44\n",
      "18.0     44\n",
      "10.0     23\n",
      "11.0     22\n",
      "4.0      17\n",
      "3.0       1\n",
      "Name: Product_Category_3, dtype: int64\n",
      "######################\n",
      "Purchase\n",
      "######################\n",
      "5328     6\n",
      "7001     6\n",
      "7063     6\n",
      "8115     6\n",
      "6970     5\n",
      "        ..\n",
      "19543    1\n",
      "11717    1\n",
      "1784     1\n",
      "5200     1\n",
      "8192     1\n",
      "Name: Purchase, Length: 3736, dtype: int64\n"
     ]
    }
   ],
   "source": [
    "for value in data:\n",
    "    print(\"######################\")\n",
    "    print(value)\n",
    "    print(\"######################\")\n",
    "    print(data[value].value_counts())"
   ]
  },
  {
   "cell_type": "code",
   "execution_count": 23,
   "metadata": {},
   "outputs": [
    {
     "name": "stdout",
     "output_type": "stream",
     "text": [
      "gender cound: 4998\n",
      "gender not null count : 100.0\n"
     ]
    }
   ],
   "source": [
    "# Target label 확인\n",
    "print(f\"gender cound: {data['Gender'].count()}\")\n",
    "print(f\"gender not null count : {np.round(data['Gender'].count()/len(data)*100, 2)}\")"
   ]
  },
  {
   "cell_type": "code",
   "execution_count": 66,
   "metadata": {},
   "outputs": [
    {
     "data": {
      "text/plain": [
       "([<matplotlib.patches.Wedge at 0x1685774f3a0>,\n",
       "  <matplotlib.patches.Wedge at 0x1685774f880>],\n",
       " [Text(-0.785842545718456, 0.7697087068097492, 'M'),\n",
       "  Text(0.7858425457184559, -0.7697087068097493, 'F')])"
      ]
     },
     "execution_count": 66,
     "metadata": {},
     "output_type": "execute_result"
    },
    {
     "data": {
      "image/png": "[encoded data removed]",
      "text/plain": [
       "<Figure size 432x288 with 1 Axes>"
      ]
     },
     "metadata": {},
     "output_type": "display_data"
    }
   ],
   "source": [
    "# Target label 분포\n",
    "target_label_count = data['Gender'].value_counts()\n",
    "plt.pie(target_label_count, labels = target_label_count.index)"
   ]
  },
  {
   "cell_type": "markdown",
   "metadata": {},
   "source": [
    "- M(Male)의 수가 F에 비해 약 3배정도 더 많음."
   ]
  },
  {
   "cell_type": "markdown",
   "metadata": {},
   "source": [
    "##### Null 값 확인"
   ]
  },
  {
   "cell_type": "code",
   "execution_count": 32,
   "metadata": {},
   "outputs": [
    {
     "data": {
      "text/plain": [
       "<AxesSubplot:>"
      ]
     },
     "execution_count": 32,
     "metadata": {},
     "output_type": "execute_result"
    },
    {
     "data": {
      "image/png": "[encoded data removed]",
      "text/plain": [
       "<Figure size 1800x720 with 2 Axes>"
      ]
     },
     "metadata": {
      "needs_background": "light"
     },
     "output_type": "display_data"
    }
   ],
   "source": [
    "import missingno as msno\n",
    "\n",
    "msno.matrix(data)"
   ]
  },
  {
   "cell_type": "code",
   "execution_count": 33,
   "metadata": {},
   "outputs": [
    {
     "data": {
      "text/html": [
       "<div>\n",
       "<style scoped>\n",
       "    .dataframe tbody tr th:only-of-type {\n",
       "        vertical-align: middle;\n",
       "    }\n",
       "\n",
       "    .dataframe tbody tr th {\n",
       "        vertical-align: top;\n",
       "    }\n",
       "\n",
       "    .dataframe thead th {\n",
       "        text-align: right;\n",
       "    }\n",
       "</style>\n",
       "<table border=\"1\" class=\"dataframe\">\n",
       "  <thead>\n",
       "    <tr style=\"text-align: right;\">\n",
       "      <th></th>\n",
       "      <th># of null</th>\n",
       "      <th>Percent</th>\n",
       "    </tr>\n",
       "  </thead>\n",
       "  <tbody>\n",
       "    <tr>\n",
       "      <th>Product_Category_3</th>\n",
       "      <td>3454</td>\n",
       "      <td>69.107643</td>\n",
       "    </tr>\n",
       "    <tr>\n",
       "      <th>Product_Category_2</th>\n",
       "      <td>1533</td>\n",
       "      <td>30.672269</td>\n",
       "    </tr>\n",
       "    <tr>\n",
       "      <th>User_ID</th>\n",
       "      <td>0</td>\n",
       "      <td>0.000000</td>\n",
       "    </tr>\n",
       "    <tr>\n",
       "      <th>Product_ID</th>\n",
       "      <td>0</td>\n",
       "      <td>0.000000</td>\n",
       "    </tr>\n",
       "    <tr>\n",
       "      <th>Gender</th>\n",
       "      <td>0</td>\n",
       "      <td>0.000000</td>\n",
       "    </tr>\n",
       "    <tr>\n",
       "      <th>Age</th>\n",
       "      <td>0</td>\n",
       "      <td>0.000000</td>\n",
       "    </tr>\n",
       "    <tr>\n",
       "      <th>Occupation</th>\n",
       "      <td>0</td>\n",
       "      <td>0.000000</td>\n",
       "    </tr>\n",
       "    <tr>\n",
       "      <th>City_Category</th>\n",
       "      <td>0</td>\n",
       "      <td>0.000000</td>\n",
       "    </tr>\n",
       "    <tr>\n",
       "      <th>Stay_In_Current_City_Years</th>\n",
       "      <td>0</td>\n",
       "      <td>0.000000</td>\n",
       "    </tr>\n",
       "    <tr>\n",
       "      <th>Marital_Status</th>\n",
       "      <td>0</td>\n",
       "      <td>0.000000</td>\n",
       "    </tr>\n",
       "    <tr>\n",
       "      <th>Product_Category_1</th>\n",
       "      <td>0</td>\n",
       "      <td>0.000000</td>\n",
       "    </tr>\n",
       "    <tr>\n",
       "      <th>Purchase</th>\n",
       "      <td>0</td>\n",
       "      <td>0.000000</td>\n",
       "    </tr>\n",
       "  </tbody>\n",
       "</table>\n",
       "</div>"
      ],
      "text/plain": [
       "                            # of null    Percent\n",
       "Product_Category_3               3454  69.107643\n",
       "Product_Category_2               1533  30.672269\n",
       "User_ID                             0   0.000000\n",
       "Product_ID                          0   0.000000\n",
       "Gender                              0   0.000000\n",
       "Age                                 0   0.000000\n",
       "Occupation                          0   0.000000\n",
       "City_Category                       0   0.000000\n",
       "Stay_In_Current_City_Years          0   0.000000\n",
       "Marital_Status                      0   0.000000\n",
       "Product_Category_1                  0   0.000000\n",
       "Purchase                            0   0.000000"
      ]
     },
     "execution_count": 33,
     "metadata": {},
     "output_type": "execute_result"
    }
   ],
   "source": [
    "num_of_null = data.isnull().sum()\n",
    "percent = (num_of_null / data.isnull().count() * 100)\n",
    "pd.concat([num_of_null, percent], axis = 1, keys=['# of null', 'Percent']).sort_values(by='Percent', ascending=False)"
   ]
  },
  {
   "cell_type": "markdown",
   "metadata": {},
   "source": [
    "- Product_Category_3 변수의 경우에는 약 70%가 null값으로 구성되어있어 유의미한 정보를 뽑아내기는 힘들다고 판단 => 제거"
   ]
  },
  {
   "cell_type": "code",
   "execution_count": 34,
   "metadata": {},
   "outputs": [],
   "source": [
    "data = data.drop(\"Product_Category_3\", axis=1)"
   ]
  },
  {
   "cell_type": "code",
   "execution_count": 38,
   "metadata": {},
   "outputs": [
    {
     "data": {
      "text/plain": [
       "8.0     588\n",
       "14.0    496\n",
       "2.0     448\n",
       "16.0    392\n",
       "15.0    345\n",
       "5.0     258\n",
       "4.0     246\n",
       "6.0     148\n",
       "17.0    132\n",
       "11.0    110\n",
       "13.0    102\n",
       "9.0      65\n",
       "12.0     40\n",
       "3.0      35\n",
       "10.0     30\n",
       "18.0     23\n",
       "7.0       7\n",
       "Name: Product_Category_2, dtype: int64"
      ]
     },
     "execution_count": 38,
     "metadata": {},
     "output_type": "execute_result"
    }
   ],
   "source": [
    "# Product_Category_2 변수 살펴보기\n",
    "data['Product_Category_2'].value_counts()"
   ]
  },
  {
   "cell_type": "code",
   "execution_count": 39,
   "metadata": {},
   "outputs": [
    {
     "data": {
      "text/plain": [
       "9.0"
      ]
     },
     "execution_count": 39,
     "metadata": {},
     "output_type": "execute_result"
    }
   ],
   "source": [
    "data['Product_Category_2'].median()"
   ]
  },
  {
   "cell_type": "code",
   "execution_count": 40,
   "metadata": {},
   "outputs": [
    {
     "data": {
      "text/plain": [
       "9.773737373737374"
      ]
     },
     "execution_count": 40,
     "metadata": {},
     "output_type": "execute_result"
    }
   ],
   "source": [
    "data['Product_Category_2'].mean()"
   ]
  },
  {
   "cell_type": "code",
   "execution_count": 41,
   "metadata": {},
   "outputs": [
    {
     "data": {
      "text/plain": [
       "0    8.0\n",
       "dtype: float64"
      ]
     },
     "execution_count": 41,
     "metadata": {},
     "output_type": "execute_result"
    }
   ],
   "source": [
    "data['Product_Category_2'].mode()"
   ]
  },
  {
   "cell_type": "markdown",
   "metadata": {},
   "source": [
    "###### 해당 데이터가 무엇을 의미하는지와 숫자들의 의미가 불분명하여 자가적인 판단 필요 => 중앙값인 9로 결측치를 채우기로 결정."
   ]
  },
  {
   "cell_type": "code",
   "execution_count": 44,
   "metadata": {},
   "outputs": [],
   "source": [
    "data['Product_Category_2'] = data['Product_Category_2'].fillna(9.)"
   ]
  },
  {
   "cell_type": "code",
   "execution_count": 45,
   "metadata": {},
   "outputs": [
    {
     "data": {
      "text/html": [
       "<div>\n",
       "<style scoped>\n",
       "    .dataframe tbody tr th:only-of-type {\n",
       "        vertical-align: middle;\n",
       "    }\n",
       "\n",
       "    .dataframe tbody tr th {\n",
       "        vertical-align: top;\n",
       "    }\n",
       "\n",
       "    .dataframe thead th {\n",
       "        text-align: right;\n",
       "    }\n",
       "</style>\n",
       "<table border=\"1\" class=\"dataframe\">\n",
       "  <thead>\n",
       "    <tr style=\"text-align: right;\">\n",
       "      <th></th>\n",
       "      <th># of null</th>\n",
       "      <th>Percent</th>\n",
       "    </tr>\n",
       "  </thead>\n",
       "  <tbody>\n",
       "    <tr>\n",
       "      <th>User_ID</th>\n",
       "      <td>0</td>\n",
       "      <td>0.0</td>\n",
       "    </tr>\n",
       "    <tr>\n",
       "      <th>Product_ID</th>\n",
       "      <td>0</td>\n",
       "      <td>0.0</td>\n",
       "    </tr>\n",
       "    <tr>\n",
       "      <th>Gender</th>\n",
       "      <td>0</td>\n",
       "      <td>0.0</td>\n",
       "    </tr>\n",
       "    <tr>\n",
       "      <th>Age</th>\n",
       "      <td>0</td>\n",
       "      <td>0.0</td>\n",
       "    </tr>\n",
       "    <tr>\n",
       "      <th>Occupation</th>\n",
       "      <td>0</td>\n",
       "      <td>0.0</td>\n",
       "    </tr>\n",
       "    <tr>\n",
       "      <th>City_Category</th>\n",
       "      <td>0</td>\n",
       "      <td>0.0</td>\n",
       "    </tr>\n",
       "    <tr>\n",
       "      <th>Stay_In_Current_City_Years</th>\n",
       "      <td>0</td>\n",
       "      <td>0.0</td>\n",
       "    </tr>\n",
       "    <tr>\n",
       "      <th>Marital_Status</th>\n",
       "      <td>0</td>\n",
       "      <td>0.0</td>\n",
       "    </tr>\n",
       "    <tr>\n",
       "      <th>Product_Category_1</th>\n",
       "      <td>0</td>\n",
       "      <td>0.0</td>\n",
       "    </tr>\n",
       "    <tr>\n",
       "      <th>Product_Category_2</th>\n",
       "      <td>0</td>\n",
       "      <td>0.0</td>\n",
       "    </tr>\n",
       "    <tr>\n",
       "      <th>Purchase</th>\n",
       "      <td>0</td>\n",
       "      <td>0.0</td>\n",
       "    </tr>\n",
       "  </tbody>\n",
       "</table>\n",
       "</div>"
      ],
      "text/plain": [
       "                            # of null  Percent\n",
       "User_ID                             0      0.0\n",
       "Product_ID                          0      0.0\n",
       "Gender                              0      0.0\n",
       "Age                                 0      0.0\n",
       "Occupation                          0      0.0\n",
       "City_Category                       0      0.0\n",
       "Stay_In_Current_City_Years          0      0.0\n",
       "Marital_Status                      0      0.0\n",
       "Product_Category_1                  0      0.0\n",
       "Product_Category_2                  0      0.0\n",
       "Purchase                            0      0.0"
      ]
     },
     "execution_count": 45,
     "metadata": {},
     "output_type": "execute_result"
    }
   ],
   "source": [
    "num_of_null = data.isnull().sum()\n",
    "percent = (num_of_null / data.isnull().count() * 100)\n",
    "pd.concat([num_of_null, percent], axis = 1, keys=['# of null', 'Percent']).sort_values(by='Percent', ascending=False)"
   ]
  },
  {
   "cell_type": "markdown",
   "metadata": {},
   "source": [
    "- Null 데이터 제거"
   ]
  },
  {
   "cell_type": "markdown",
   "metadata": {},
   "source": [
    "### EDA"
   ]
  },
  {
   "cell_type": "code",
   "execution_count": 46,
   "metadata": {},
   "outputs": [
    {
     "name": "stdout",
     "output_type": "stream",
     "text": [
      "<class 'pandas.core.frame.DataFrame'>\n",
      "Int64Index: 4998 entries, 0 to 4997\n",
      "Data columns (total 11 columns):\n",
      " #   Column                      Non-Null Count  Dtype  \n",
      "---  ------                      --------------  -----  \n",
      " 0   User_ID                     4998 non-null   int64  \n",
      " 1   Product_ID                  4998 non-null   object \n",
      " 2   Gender                      4998 non-null   object \n",
      " 3   Age                         4998 non-null   object \n",
      " 4   Occupation                  4998 non-null   int64  \n",
      " 5   City_Category               4998 non-null   object \n",
      " 6   Stay_In_Current_City_Years  4998 non-null   object \n",
      " 7   Marital_Status              4998 non-null   int64  \n",
      " 8   Product_Category_1          4998 non-null   int64  \n",
      " 9   Product_Category_2          4998 non-null   float64\n",
      " 10  Purchase                    4998 non-null   int64  \n",
      "dtypes: float64(1), int64(5), object(5)\n",
      "memory usage: 468.6+ KB\n"
     ]
    }
   ],
   "source": [
    "data.info()"
   ]
  },
  {
   "cell_type": "markdown",
   "metadata": {},
   "source": [
    "- 데이터를 확인해보았을때 실제로 숫자로서의 의미를 가지는건 \"Purchase\" 변수뿐임.\n",
    "\n",
    "###### 나머지 Occupation, Marital_Status, Product_Category_1, Product_Category_2는 범주화(Object)"
   ]
  },
  {
   "cell_type": "code",
   "execution_count": 49,
   "metadata": {},
   "outputs": [],
   "source": [
    "obj_columns = ['Occupation', 'Marital_Status', 'Product_Category_1', 'Product_Category_2']\n",
    "\n",
    "for col in obj_columns:\n",
    "    data[col] = data[col].astype(str)"
   ]
  },
  {
   "cell_type": "code",
   "execution_count": 51,
   "metadata": {},
   "outputs": [
    {
     "name": "stdout",
     "output_type": "stream",
     "text": [
      "<class 'pandas.core.frame.DataFrame'>\n",
      "Int64Index: 4998 entries, 0 to 4997\n",
      "Data columns (total 11 columns):\n",
      " #   Column                      Non-Null Count  Dtype \n",
      "---  ------                      --------------  ----- \n",
      " 0   User_ID                     4998 non-null   int64 \n",
      " 1   Product_ID                  4998 non-null   object\n",
      " 2   Gender                      4998 non-null   object\n",
      " 3   Age                         4998 non-null   object\n",
      " 4   Occupation                  4998 non-null   object\n",
      " 5   City_Category               4998 non-null   object\n",
      " 6   Stay_In_Current_City_Years  4998 non-null   object\n",
      " 7   Marital_Status              4998 non-null   object\n",
      " 8   Product_Category_1          4998 non-null   object\n",
      " 9   Product_Category_2          4998 non-null   object\n",
      " 10  Purchase                    4998 non-null   int64 \n",
      "dtypes: int64(2), object(9)\n",
      "memory usage: 468.6+ KB\n"
     ]
    }
   ],
   "source": [
    "data.info()"
   ]
  },
  {
   "cell_type": "markdown",
   "metadata": {},
   "source": [
    "- Type 변환 완료"
   ]
  },
  {
   "cell_type": "markdown",
   "metadata": {},
   "source": [
    "#### 수치형 변수"
   ]
  },
  {
   "cell_type": "code",
   "execution_count": 53,
   "metadata": {},
   "outputs": [],
   "source": [
    "# 통계량 구하기 함수\n",
    "def get_min_max_avg(df, feature):\n",
    "    print('Feature: ', feature)\n",
    "    print('########################################')\n",
    "    print('The max value is:',df[feature].max())\n",
    "    print('The min value is:',df[feature].min())\n",
    "    print('The average value is:',df[feature].mean())\n",
    "    print('The median value is:',df[feature].median())\n",
    "    \n",
    "\n",
    "# histograme 그리기 함수    \n",
    "def plot_hist(df, feature, max_ylim, bins=10):\n",
    "    fig, ax = plt.subplots(1, 1, figsize=(10, 5))\n",
    "    ax.hist(df[feature], bins=bins)\n",
    "    ax.set_ylim(0, max_ylim)\n",
    "    ax.set_title(feature+' distribution (bins='+str(bins)+')')\n",
    "    plt.show()"
   ]
  },
  {
   "cell_type": "markdown",
   "metadata": {},
   "source": [
    "##### 1) Purchase"
   ]
  },
  {
   "cell_type": "code",
   "execution_count": 54,
   "metadata": {},
   "outputs": [
    {
     "name": "stdout",
     "output_type": "stream",
     "text": [
      "Feature:  Purchase\n",
      "########################################\n",
      "The max value is: 23913\n",
      "The min value is: 13\n",
      "The average value is: 9234.655462184874\n",
      "The median value is: 8049.0\n"
     ]
    }
   ],
   "source": [
    "get_min_max_avg(data, 'Purchase')"
   ]
  },
  {
   "cell_type": "code",
   "execution_count": 68,
   "metadata": {},
   "outputs": [
    {
     "data": {
      "image/png": "[encoded data removed]",
      "text/plain": [
       "<Figure size 720x360 with 1 Axes>"
      ]
     },
     "metadata": {
      "needs_background": "light"
     },
     "output_type": "display_data"
    }
   ],
   "source": [
    "plot_hist(data, 'Purchase', 1000, 20)"
   ]
  },
  {
   "cell_type": "markdown",
   "metadata": {},
   "source": [
    "- Purchase의 분포는 대략 오른쪽으로 꼬리가 늘어진 분포이며 데이터의 의미나 값을 봤을때 최댓값은 이상치로 보여지진 않음."
   ]
  },
  {
   "cell_type": "markdown",
   "metadata": {},
   "source": [
    "###### 구매에 따른 성별 (Purchase vs Gender)"
   ]
  },
  {
   "cell_type": "code",
   "execution_count": 75,
   "metadata": {},
   "outputs": [],
   "source": [
    "# 시각화를 위한 라이브러리 설치 & 로드\n",
    "# !pip install plotnine\n",
    "from plotnine import *"
   ]
  },
  {
   "cell_type": "code",
   "execution_count": 76,
   "metadata": {},
   "outputs": [
    {
     "data": {
      "text/plain": [
       "<Figure size 432x288 with 0 Axes>"
      ]
     },
     "metadata": {},
     "output_type": "display_data"
    },
    {
     "data": {
      "image/png": "[encoded data removed]",
      "text/plain": [
       "<Figure size 640x480 with 1 Axes>"
      ]
     },
     "metadata": {},
     "output_type": "display_data"
    },
    {
     "data": {
      "text/plain": [
       "<ggplot: (96731784729)>"
      ]
     },
     "execution_count": 76,
     "metadata": {},
     "output_type": "execute_result"
    }
   ],
   "source": [
    "fig = plt.figure()\n",
    "\n",
    "ggplot(data, aes(x='Purchase', fill='Gender')) + geom_density(alpha=0.7) + ggtitle(\"The Purchase distribution by income\")"
   ]
  },
  {
   "cell_type": "code",
   "execution_count": 79,
   "metadata": {},
   "outputs": [
    {
     "data": {
      "text/plain": [
       "<AxesSubplot:xlabel='Gender', ylabel='Purchase'>"
      ]
     },
     "execution_count": 79,
     "metadata": {},
     "output_type": "execute_result"
    },
    {
     "data": {
      "image/png": "[encoded data removed]",
      "text/plain": [
       "<Figure size 432x288 with 1 Axes>"
      ]
     },
     "metadata": {
      "needs_background": "light"
     },
     "output_type": "display_data"
    }
   ],
   "source": [
    "sns.boxplot(x='Gender', y='Purchase', data = data, palette='Set2',linewidth=2)"
   ]
  },
  {
   "cell_type": "markdown",
   "metadata": {},
   "source": [
    "- 성별에 따른 Purchase의 분포가 거의 일치함.\n",
    "- 성별을 분류함에 있어서 유의미한 변수로 보여지지 않음."
   ]
  },
  {
   "cell_type": "markdown",
   "metadata": {},
   "source": [
    "#### 범주형 변수"
   ]
  },
  {
   "cell_type": "code",
   "execution_count": 84,
   "metadata": {},
   "outputs": [
    {
     "name": "stdout",
     "output_type": "stream",
     "text": [
      "Column Product_ID has 1797 unique categories\n",
      "The Categories are P00046042, P00347742, P00048942, P00145242, P00106742, P00051642, P00000242, P00117942, P00200142, P00319342, P00278242, P00350942, P00100642, P00195542, P00001342, P00086342, P00276642, P00183942, P00318642, P00016442, P00163242, P00002742, P00020342, P00230442, P00137442, P00087042, P00370293, P00069242, P00188742, P00065242, P00034742, P00251242, P00111842, P00343042, P00085942, P00185342, P00171642, P00238542, P00025542, P00124842, P00273442, P00157542, P00243242, P00174442, P00174042, P00145442, P00221842, P00108942, P00173542, P00052842, P00035942, P00302042, P00113142, P00186242, P00111442, P00249542, P00058042, P00289842, P00044242, P00216342, P00003242, P00223642, P00036842, P00111542, P00351342, P00249042, P00255542, P00082842, P00001142, P00258742, P00158342, P00271742, P00350142, P00212842, P00145042, P00035842, P00092442, P00118742, P00251542, P00214242, P00213742, P00305042, P00255942, P00294442, P00103042, P00126242, P00309242, P00053842, P00357242, P00162442, P00357842, P00100442, P00338442, P00122442, P00181542, P00000142, P00298942, P00174842, P00170442, P00022542, P00169742, P00246142, P00156342, P00250842, P00354342, P00180442, P00117442, P00295942, P00112142, P00032942, P00127042, P00070342, P00155342, P0097242, P00278642, P00263042, P00157642, P00070942, P00256642, P00211942, P00265242, P00307542, P00072442, P00253042, P00074342, P00110842, P00370853, P00010742, P00165442, P00071442, P00034442, P00045342, P00007242, P00187442, P00116842, P00028842, P00037042, P00218742, P00243942, P00130742, P00164842, P00015542, P00254642, P00125342, P00350242, P00086842, P00032842, P00285842, P00189242, P00148642, P00370242, P00184942, P00144642, P00302942, P00295842, P00036142, P00263142, P00244442, P00328942, P00248142, P00004242, P00048742, P00240142, P00267942, P00152242, P00296042, P00120042, P00235342, P00206342, P00275742, P00305142, P00015742, P00062842, P0099442, P00238742, P00141842, P00044442, P00057342, P00211142, P00034842, P00178942, P00014842, P00320842, P00134542, P00042742, P00316942, P00250342, P00224442, P00244342, P00008742, P00271142, P00191342, P00060242, P00156842, P00237642, P00277942, P00331542, P00284942, P00075742, P00128242, P00282142, P00300642, P00006942, P00080342, P00287542, P00136442, P00282042, P00186642, P00214442, P00228642, P00302542, P00362642, P00178242, P00176542, P00194242, P00303042, P00052242, P00176842, P00118342, P00001642, P00371644, P00044142, P00170942, P00226342, P00143342, P0096542, P00327342, P0096842, P00249642, P00043742, P00050142, P00086042, P00058142, P00093542, P00182642, P00366942, P00322542, P00200242, P00268242, P00303142, P00147942, P00237042, P00276142, P00046242, P00037142, P00113042, P00024142, P00138342, P00224142, P00119442, P00210042, P00150342, P00278542, P00173742, P00056242, P00120942, P00110942, P00080042, P00130642, P00197142, P00198342, P00088642, P00196142, P00187042, P00045842, P00141542, P00326842, P00145642, P00113642, P00012242, P00324942, P00037742, P00190542, P00306142, P00109242, P00070542, P00303242, P00154042, P00084442, P00334242, P00119342, P00288042, P00218342, P0099242, P00355142, P00138542, P00059442, P00318742, P00159442, P00255842, P00014542, P00236342, P00010242, P00129642, P00375436, P0096442, P00213942, P00296542, P00217742, P00260042, P00162942, P00335542, P00242142, P00185642, P0096142, P00365242, P00217942, P00250642, P00129542, P00112842, P00225542, P00259042, P00227942, P00220442, P00002342, P00036942, P00161942, P00177542, P00346242, P00256042, P00304742, P00226142, P00336942, P00117542, P00192042, P00051442, P00259342, P00001942, P00121342, P00151842, P00057242, P00070742, P00313542, P00051142, P00219742, P00219942, P00039242, P00022942, P00194542, P00033342, P00021142, P00370642, P00247042, P00233542, P00163442, P00331642, P00118542, P00076442, P00127742, P00236042, P00191442, P00351142, P00293342, P00145942, P00348542, P00229742, P00241642, P00155442, P00199442, P00025442, P00219042, P00105042, P00315642, P00003642, P00218642, P00237542, P00297042, P00277442, P00330342, P00138442, P00212442, P00076042, P00078842, P00127842, P00218142, P00313342, P00115542, P00339042, P00121642, P00156442, P00065342, P00083242, P00246342, P00289342, P00274142, P00366342, P00075342, P00182742, P00142942, P00140742, P00193542, P00153742, P00115242, P00114942, P00307642, P00001242, P00139942, P00198142, P00366542, P00112542, P00177442, P00105142, P00240442, P00120242, P00057642, P00361642, P00104542, P00196242, P00207242, P00127242, P00209842, P00255742, P00080942, P00331942, P00250542, P00303542, P00294242, P00178842, P00304042, P00193642, P00307342, P00033542, P00102642, P00129842, P00103342, P00041542, P00147742, P00034042, P00128742, P00359242, P00119642, P00277542, P00281142, P00359442, P00057542, P00299142, P00184642, P00002042, P00304442, P00142142, P00226742, P00034142, P00101842, P00002542, P00177642, P00035542, P00124642, P00258942, P00116942, P00319642, P00113542, P00190242, P00015642, P00138842, P00268442, P00074142, P00247142, P00323942, P00105342, P00058242, P00019142, P00058342, P00208742, P00111642, P00321742, P00274642, P00263442, P00079142, P00120842, P00318142, P00127342, P00082342, P00134942, P00277642, P00128142, P00223142, P00057942, P00151342, P00337542, P00361942, P00163042, P00086442, P00162042, P00191942, P00207942, P00143642, P00370342, P00259242, P00040142, P00194342, P00046742, P00155242, P00274042, P00093342, P00186842, P00192842, P00350342, P0096742, P00039642, P00119142, P00232042, P0097842, P00242742, P00304542, P00023342, P00267342, P00340942, P00270942, P00304242, P00148842, P00181742, P00118442, P00362442, P00116642, P00154442, P00192742, P00013742, P00157942, P00195742, P00362342, P00074042, P00287442, P00174142, P00135842, P00003442, P00005042, P00230342, P00259442, P00064042, P00118842, P00151742, P00227842, P00198742, P00014242, P00289042, P00289942, P00295742, P00072542, P0099342, P00152442, P00186542, P00220142, P00003942, P00132842, P00121142, P00184442, P00173042, P00006842, P00222842, P00173342, P00259742, P00104942, P00274242, P00174242, P00250242, P00170342, P00049542, P00192642, P00234842, P00018042, P00258842, P00101942, P00210642, P00320942, P00200642, P00363242, P00252742, P00361842, P00240542, P00032042, P00004442, P00167742, P00006442, P00015042, P00244842, P00337842, P00024042, P00349942, P00032442, P00329442, P00231242, P00054242, P00136542, P00345642, P00296242, P00053942, P00352142, P00024642, P00230942, P00326742, P00274342, P00249742, P00274442, P00256842, P00158242, P00117742, P00206042, P00159542, P00299442, P00338542, P00284042, P00330642, P00193442, P00042842, P00283942, P00196342, P00117142, P00287242, P00225642, P00174742, P00289242, P00149342, P00319042, P00182142, P00125942, P00365342, P00000642, P00041942, P00178442, P00269742, P00047642, P00238442, P00147042, P00166142, P00354542, P00312842, P00190742, P00183842, P00002442, P00054942, P00064142, P00282642, P00128942, P00030942, P00122542, P00329542, P00085442, P00013142, P00198942, P00269342, P00358142, P00190142, P00113242, P00160342, P00249842, P00367042, P00356042, P00351042, P00293242, P00372445, P00298442, P00110542, P00110742, P00260642, P00049242, P00230742, P0095742, P00330242, P00337942, P00324442, P00348342, P00057742, P00069542, P00367242, P00179642, P00296142, P00002142, P00229342, P00074442, P00025042, P00172142, P00152942, P00010942, P00363742, P00010842, P00273642, P00120342, P00016842, P00065042, P00040742, P00212942, P00244742, P00113342, P00286642, P00007542, P00248442, P00205942, P00350642, P00116742, P00146542, P00362842, P00279442, P00182442, P00149542, P00067942, P00006042, P00223942, P00068042, P00093642, P00342042, P00128442, P00226642, P00346542, P00050842, P00347142, P00129342, P00146742, P00358642, P00270242, P00303342, P00222142, P00286442, P00089442, P00222442, P00100942, P00271242, P00102242, P00031042, P00251942, P00313042, P00205242, P00348942, P00235642, P00163842, P00109042, P00120542, P00177342, P00210242, P00117242, P00084842, P00081142, P00223542, P00366442, P00133442, P00192542, P00328442, P00195442, P00141942, P00114642, P00000442, P00120642, P00044042, P00191642, P00111742, P00302342, P00033042, P00221442, P00208242, P00245642, P00258242, P00027042, P00085142, P00088742, P00029942, P00005742, P00263542, P00148042, P00328342, P0098142, P00015242, P00124242, P00109942, P00050242, P00205442, P00284642, P00017142, P00205642, P00113742, P00039742, P00146842, P00119242, P00221542, P00310842, P00332342, P00187942, P00009242, P00052642, P00031742, P00294542, P00364842, P00002242, P00028042, P00070042, P00207142, P0099042, P00110142, P00250942, P00004842, P00048442, P00051942, P00227742, P00350442, P00346142, P00149242, P00028142, P00001042, P00201442, P00339942, P00057442, P00316642, P00084242, P00326942, P00352842, P00089142, P00183242, P00019342, P00055542, P00258442, P00198842, P00356742, P00219342, P00359142, P00023142, P00130442, P00018142, P00064242, P00182542, P00102542, P00112442, P00092942, P00043342, P00004542, P00331042, P00247542, P00193742, P00129442, P00213242, P00127442, P00327842, P00256742, P00021042, P00298242, P00181242, P00124742, P00273542, P00346642, P00254342, P00004742, P00359042, P00001742, P00214842, P00150742, P00285342, P00214342, P00002842, P00265742, P00112642, P00191542, P00165142, P00134342, P00178342, P00178042, P00155842, P00062142, P00192942, P00087242, P00049942, P00302142, P00073842, P00104842, P00227642, P00198042, P00216542, P00209742, P00240842, P00135542, P00033742, P00126142, P00280642, P00011742, P00246642, P00075942, P00115842, P00087342, P00329342, P00158542, P00254242, P00119742, P00106042, P00066942, P00000742, P00154642, P00309142, P00085242, P00288642, P00288542, P00188942, P00021342, P00123742, P00088042, P00196042, P00172842, P00177742, P00145742, P00358042, P00005942, P00075542, P00021742, P00234742, P00271942, P00051242, P00267542, P00359742, P00248342, P00090942, P00321442, P00127942, P00133742, P00248742, P00058442, P00149442, P00050742, P00197342, P00115442, P00278942, P00092842, P00205142, P00157142, P00153842, P00111042, P00196642, P00260442, P00166242, P00114542, P00323142, P00233342, P00004142, P00126442, P00214642, P00120442, P00197642, P00001542, P00241242, P00071242, P00116142, P00214142, P00217142, P00036042, P00118242, P00046442, P00208842, P00368242, P00146042, P00221242, P0096942, P00061142, P00149142, P00100742, P00028242, P00280742, P00139742, P00088942, P00139542, P00178142, P00169342, P00132642, P00201642, P00148542, P00369942, P00321942, P00368342, P0097742, P0098942, P00062042, P00317942, P00158642, P00343142, P00194142, P00130842, P00052142, P0098642, P00337742, P00014642, P00045142, P00023042, P00324542, P00303842, P00182342, P00109742, P00198242, P00194842, P00186142, P00193042, P00025942, P00055642, P0096342, P00225442, P00366242, P00026642, P00150142, P00027242, P00146142, P00115742, P00194442, P00292642, P00278142, P00121542, P00063342, P00124042, P00047942, P00002942, P00280842, P00343542, P00008642, P00332742, P00220342, P00281342, P00227542, P00322042, P00222242, P00168642, P00311342, P00339542, P00345842, P00111942, P00033942, P00262342, P00288942, P00341242, P00123542, P00188442, P00339842, P00029742, P00313142, P00253442, P00028542, P00216742, P00309942, P00239142, P00176642, P00253542, P00351842, P00337642, P00093442, P00181442, P00021642, P00155742, P00113842, P00042142, P00354942, P00084542, P00183742, P00187542, P00199142, P00272242, P00144242, P00233642, P00193242, P00352442, P00280442, P00246742, P00312942, P00022642, P00019842, P00147642, P00115942, P00161442, P00183142, P00101342, P00315742, P00190842, P00297342, P00114042, P00201342, P00317142, P00264342, P00041042, P00345142, P00320742, P00040042, P00061842, P00091842, P00147342, P00006242, P00102942, P00003542, P00197042, P00100842, P00121042, P00123442, P00179342, P00066642, P00135742, P00194042, P00261242, P00237442, P00302442, P00072342, P00037842, P00207042, P00129742, P00271842, P00177042, P00259942, P00236942, P00346942, P00213042, P00128042, P00031142, P00218442, P00148142, P00134642, P00166942, P00319142, P00017942, P00183342, P0095842, P00202542, P00301642, P00017642, P00031642, P00274942, P00118042, P00155942, P00123842, P00158942, P00262242, P00261342, P00244042, P00226542, P00176442, P00175542, P00253142, P00269542, P00327242, P00033642, P00114142, P00324642, P00008842, P0095642, P00223042, P00327542, P00073642, P0094542, P00012142, P00331242, P00196542, P00217442, P00182242, P00115642, P00187842, P0095542, P00234442, P00119842, P00196442, P00103242, P00355642, P00218842, P00248942, P00265142, P00348242, P00116342, P00270842, P00310242, P00324742, P00286042, P00028442, P00187342, P00160042, P00187242, P00284842, P00232642, P00150042, P00280942, P00344742, P00070242, P00047242, P00125042, P00251642, P00347442, P00151242, P00218242, P0094142, P00036742, P00016742, P00313242, P00223742, P00115142, P00314842, P00150542, P00365142, P00146442, P00118142, P00052442, P00132242, P00006342, P00135142, P00207642, P00042942, P00252042, P00303942, P00155642, P0095342, P00285742, P00359542, P00066242, P00165842, P00181842, P00211242, P00102442, P00345742, P00168342, P00038442, P00037542, P00113942, P00125542, P00071142, P00270542, P00275842, P00357042, P00247942, P00173942, P00178742, P00109542, P00041442, P00179442, P00315842, P00117042, P00114842, P0098242, P00259142, P00136342, P00026042, P00342742, P00047042, P00301542, P00064942, P00253242, P00258342, P00194642, P00349142, P00316842, P00279642, P00112942, P00143142, P00269142, P00266642, P00051842, P00213642, P00290242, P00016342, P00251342, P00050442, P0098742, P0096642, P00137042, P00089942, P00332142, P00183442, P00029142, P00171842, P00308242, P00132342, P00266042, P00014042, P00222942, P00221942, P00117642, P00048042, P00177842, P00132942, P00304642, P00370142, P00260242, P00272542, P00358342, P00216042, P00346042, P00279842, P00117842, P00367342, P00275142, P00282742, P00127642, P00283542, P00023842, P00225842, P00333042, P00150842, P00325742, P00029242, P00120742, P00117342, P00240042, P00303442, P00111142, P00180642, P00307442, P00324842, P00345942, P00114442, P00077042, P00184742, P00294142, P00110342, P00015842, P00086642, P00274542, P00075442, P00010342, P00173842, P00046142, P00279342, P00059742, P00286742, P00236542, P00329642, P00312742, P00291442, P00278042, P00136742, P00165942, P00286342, P00210942, P00068642, P00145142, P00204242, P00234542, P00164642, P00241942, P0097342, P00245042, P00111242, P00079742, P00069042, P00346342, P00017542, P00080642, P0098342, P00282442, P00321042, P00246842, P00349242, P00273742, P00085342, P00105942, P00203742, P00300042, P00011042, P00193942, P00022842, P00233142, P00210342, P00065442, P00237142, P00180542, P00296342, P00029842, P00319842, P00221142, P00332242, P00041342, P00306042, P00058642, P00102142, P00267642, P00116242, P00053742, P00311642, P00090842, P00101142, P00155042, P00266142, P00229542, P00053442, P00128342, P00089042, P00158842, P00212042, P00027142, P00105542, P00212742, P00201542, P00215242, P00208942, P00228442, P00261142, P00019942, P00224242, P00156742, P00233442, P00106642, P00011842, P00054142, P00294042, P00322142, P00285642, P00288342, P00312142, P00320442, P00341942, P00006542, P00278442, P00102042, P00276542, P00114342, P00231142, P00068142, P00089542, P00252642, P00200442, P00020242, P00355942, P00017042, P00067842, P00349442, P00189842, P00085642, P00141242, P0095942, P00301742, P00127542, P00200842, P00337342, P00050042, P00220642, P00304942, P00205842, P00221342, P00302742, P00165642, P00101742, P00171342, P00161242, P00049442, P00266942, P00102842, P00044342, P00159842, P00189142, P00344542, P00026742, P00188542, P00329842, P00235842, P00325142, P00344442, P00272842, P00052542, P00076142, P00030642, P00273042, P00327642, P00344242, P00153642, P00207842, P00010042, P00222742, P00334042, P00056842, P00326642, P00247642, P00189742, P00330442, P00082542, P00091142, P00000342, P00320542, P00088542, P00265342, P00125142, P00212242, P00106942, P00161542, P00202242, P00259842, P00254842, P00237242, P00357342, P00036242, P00009142, P00352242, P00031842, P0094642, P00089242, P0099942, P00170542, P00084042, P00016042, P00175842, P0095442, P00310042, P00300342, P0094042, P00370442, P00157342, P00160942, P00329242, P00020442, P00036442, P00223242, P00129042, P00191142, P00136842, P00075042, P00286842, P00322942, P00144742, P00172542, P00233042, P00228242, P00189042, P00326242, P00101042, P00183042, P00367442, P00015942, P00267742, P00308342, P00332942, P00251742, P00343342, P00045642, P00220542, P00323042, P00302642, P00315442, P00011242, P00282242, P00082442, P00152742, P00084942, P00233942, P00250442, P00241142, P00252442, P00348842, P00220742, P00212542, P00105242, P00160642, P00336642, P00124942, P00207342, P00264542, P00085042, P00178642, P00217042, P00070642, P00367942, P00199742, P00173242, P00215642, P00344042, P00220242, P00287342, P00210842, P00209242, P00353242, P00244242, P00354842, P00288442, P00015342, P00281942, P00341442, P00233742, P00184142, P00310142, P00317842, P00311942, P00221742, P00351242, P00291742, P00068242, P00334642, P00199642, P00188042, P00048142, P00294842, P00088242, P00132042, P00223342, P00195242, P00211042, P00191742, P00110042, P00120142, P00293842, P00079642, P00137642, P00218542, P00342342, P00216142, P00293742, P00356842, P00112042, P00313442, P00227142, P00029642, P00313842, P00208342, P00230842, P00295342, P00219242, P00074642, P00241542, P00086742, P00084342, P00116542, P00288242, P00005142, P00243842, P00013942, P00368042, P00246542, P00319942, P00087442, P00185442, P00112342, P00109142, P00322442, P00089342, P00030842, P00283842, P00163542, P00156242, P00237842, P00009042, P00263742, P00186042, P00352942, P00053642, P00219842, P00185842, P00356942, P00279542, P00282342, P00329942, P00261542, P00328742, P00102342, P00078042, P00224542, P00279742, P00317442, P00311442, P00195342, P00254142, P00129942, P00068442, P00317642, P00286542, P00105642, P00027542, P00341342, P00302842, P00291842, P00176142, P00053042, P0097142, P00244142, P00366142, P00249142, P00190042, P00029042, P00078142, P00129142, P00126042, P00020542, P00115342, P00189642, P00336742, P00017342, P00030042, P00180742, P00348642, P00368942, P00045942, P00009342, P00111342, P00075642, P00209942, P00281642, P00288142, P00357642, P00352742, P00043542, P00156142, P00008042, P00083942, P00226242, P00199842, P00029542, P00176942, P00079042, P00086142, P00082242, P00295442, P00221042, P00226442, P00132542, P00083342, P00023442, P00345342, P00083642, P00143742, P00309542, P00344842, P00266542, P00216942, P00290342, P00108542, P00214942, P00347842, P00004342, P00356542, P00137542, P00344342, P00118942, P00176042, P00121242, P00234042, P00143042, P00169442, P00078642, P00024742, P00297742, P00125642, P00104242, P00257542, P0095042, P00118642, P00059142, P00340642, P00072942, P00349742, P00273242, P00088342, P00060642, P00301842, P00341842, P00092142, P00179142, P00131742, P00205042, P00008442, P00074242, P00354242, P00165742, P00260142, P00299242, P00116042, P00358442, P00311742, P00271442, P00339442, P00215742, P00107642, P00040942, P00035442, P00207442, P00193142, P00051042, P00202142, P00087842, P00303742, P00318942, P00246042, P00232342, P00355042, P00248542, P00287142, P00155142, P00254042, P00251442, P00339342, P00039542, P00090542, P00171742, P00040842, P00021842, P00232742, P00264242, P00236642, P00022442, P00177242, P00340342, P00170642, P00107142, P00060142, P00212342, P00176342, P00156542, P00298042, P00272942, P00166742, P00049342, P00368142, P00184042, P00295542, P00155542, P00145842, P00084142, P00323542, P00267142, P00085842, P00358242\n",
      "\n",
      "Column Gender has 2 unique categories\n",
      "The Categories are F, M\n",
      "\n",
      "Column Age has 7 unique categories\n",
      "The Categories are 0-17, 18-25, 26-35, 36-45, 46-50, 51-55, 55+\n",
      "\n",
      "Column Occupation has 21 unique categories\n",
      "The Categories are 10, 2, 0, 19, 1, 7, 12, 8, 4, 9, 3, 20, 15, 14, 16, 17, 5, 6, 11, 18, 13\n",
      "\n",
      "Column City_Category has 3 unique categories\n",
      "The Categories are A, B, C\n",
      "\n",
      "Column Stay_In_Current_City_Years has 5 unique categories\n",
      "The Categories are 3, 1, 2, 4+, 0\n",
      "\n",
      "Column Marital_Status has 2 unique categories\n",
      "The Categories are 0, 1\n",
      "\n",
      "Column Product_Category_1 has 20 unique categories\n",
      "The Categories are 5, 7, 1, 2, 3, 8, 16, 14, 10, 19, 11, 12, 4, 17, 15, 6, 13, 20, 18, 9\n",
      "\n",
      "Column Product_Category_2 has 17 unique categories\n",
      "The Categories are 17.0, 9.0, 4.0, 5.0, 15.0, 8.0, 12.0, 11.0, 2.0, 14.0, 3.0, 18.0, 16.0, 6.0, 13.0, 10.0, 7.0\n",
      "\n"
     ]
    }
   ],
   "source": [
    "for col in data.columns:\n",
    "    if data[col].dtype == 'object':\n",
    "        all_categories = data[col].unique()\n",
    "        print(f\"Column {col} has {len(all_categories)} unique categories\")\n",
    "        print(\"The Categories are \" + \", \".join(all_categories))\n",
    "        print()"
   ]
  },
  {
   "cell_type": "markdown",
   "metadata": {},
   "source": [
    "###### 각 범주형 변수들의 값 중에서 ?나 표기가 안맞는 관측치는 없어보임."
   ]
  },
  {
   "cell_type": "code",
   "execution_count": 83,
   "metadata": {},
   "outputs": [
    {
     "name": "stdout",
     "output_type": "stream",
     "text": [
      "The number of unique values in [Product_ID]: 1797\n",
      "The number of unique values in [Gender]: 2\n",
      "The number of unique values in [Age]: 7\n",
      "The number of unique values in [Occupation]: 21\n",
      "The number of unique values in [City_Category]: 3\n",
      "The number of unique values in [Stay_In_Current_City_Years]: 5\n",
      "The number of unique values in [Marital_Status]: 2\n",
      "The number of unique values in [Product_Category_1]: 20\n",
      "The number of unique values in [Product_Category_2]: 17\n"
     ]
    }
   ],
   "source": [
    "for col in data.columns:\n",
    "    if data[col].dtype == 'object':\n",
    "        categories = data[col].unique()\n",
    "        print(f\"The number of unique values in [{col}]: {len(categories)}\")"
   ]
  },
  {
   "cell_type": "markdown",
   "metadata": {},
   "source": [
    "###### Product_ID의 unique 종류가 너무 많은듯 함."
   ]
  },
  {
   "cell_type": "code",
   "execution_count": 89,
   "metadata": {},
   "outputs": [],
   "source": [
    "def get_unique_values(df, feature):\n",
    "    all_categories = data[feature].unique()\n",
    "    print(f'Column \"{feature}\" has {len(all_categories)} unique categroies')\n",
    "    print('------------------------------------------')\n",
    "    print('\\n'.join(all_categories))"
   ]
  },
  {
   "cell_type": "markdown",
   "metadata": {},
   "source": [
    "##### 1) Product_ID\n",
    "\n",
    "- 범주가 너무 많으므로 P00# 꼴로 데이터 축소"
   ]
  },
  {
   "cell_type": "code",
   "execution_count": 85,
   "metadata": {},
   "outputs": [],
   "source": [
    "data['Product_ID'] = data['Product_ID'].map(lambda x:x[:4])"
   ]
  },
  {
   "cell_type": "code",
   "execution_count": 90,
   "metadata": {},
   "outputs": [
    {
     "name": "stdout",
     "output_type": "stream",
     "text": [
      "Column \"Product_ID\" has 5 unique categroies\n",
      "------------------------------------------\n",
      "P000\n",
      "P003\n",
      "P001\n",
      "P002\n",
      "P009\n"
     ]
    }
   ],
   "source": [
    "get_unique_values(data, 'Product_ID')"
   ]
  },
  {
   "cell_type": "markdown",
   "metadata": {},
   "source": [
    "###### 5개의 범주로 줄어들음."
   ]
  },
  {
   "cell_type": "code",
   "execution_count": 93,
   "metadata": {},
   "outputs": [
    {
     "data": {
      "text/plain": [
       "<AxesSubplot:xlabel='Product_ID', ylabel='count'>"
      ]
     },
     "execution_count": 93,
     "metadata": {},
     "output_type": "execute_result"
    },
    {
     "data": {
      "image/png": "[encoded data removed]",
      "text/plain": [
       "<Figure size 1080x504 with 1 Axes>"
      ]
     },
     "metadata": {
      "needs_background": "light"
     },
     "output_type": "display_data"
    }
   ],
   "source": [
    "fig, ax = plt.subplots(1, 1, figsize=(15, 7))\n",
    "col = 'Product_ID'\n",
    "value_counts = data[col].value_counts()\n",
    "sns.countplot(x=col, data=data, palette='Set2', edgecolor='black', order=value_counts.index)"
   ]
  },
  {
   "cell_type": "markdown",
   "metadata": {},
   "source": [
    "- P001에 해당하는 Product_ID가 가장 많음."
   ]
  },
  {
   "cell_type": "markdown",
   "metadata": {},
   "source": [
    "##### 상품 ID별 성별 보기 (Product ID vs Gender)"
   ]
  },
  {
   "cell_type": "code",
   "execution_count": 94,
   "metadata": {},
   "outputs": [
    {
     "data": {
      "text/plain": [
       "<AxesSubplot:xlabel='Product_ID', ylabel='count'>"
      ]
     },
     "execution_count": 94,
     "metadata": {},
     "output_type": "execute_result"
    },
    {
     "data": {
      "image/png": "[encoded data removed]",
      "text/plain": [
       "<Figure size 1080x504 with 1 Axes>"
      ]
     },
     "metadata": {
      "needs_background": "light"
     },
     "output_type": "display_data"
    }
   ],
   "source": [
    "fig, ax = plt.subplots(1, 1, figsize=(15, 7))\n",
    "sns.countplot(x=col, data=data, hue='Gender', palette='Set2', edgecolor='black', order=value_counts.index)"
   ]
  },
  {
   "cell_type": "markdown",
   "metadata": {},
   "source": [
    "###### 모든 상품군에서 M의 구매가 더 많았음."
   ]
  },
  {
   "cell_type": "markdown",
   "metadata": {},
   "source": [
    "##### 2) Age"
   ]
  },
  {
   "cell_type": "code",
   "execution_count": 95,
   "metadata": {},
   "outputs": [
    {
     "name": "stdout",
     "output_type": "stream",
     "text": [
      "Column \"Age\" has 7 unique categroies\n",
      "------------------------------------------\n",
      "0-17\n",
      "18-25\n",
      "26-35\n",
      "36-45\n",
      "46-50\n",
      "51-55\n",
      "55+\n"
     ]
    }
   ],
   "source": [
    "get_unique_values(data, 'Age')"
   ]
  },
  {
   "cell_type": "code",
   "execution_count": 97,
   "metadata": {},
   "outputs": [
    {
     "data": {
      "text/plain": [
       "<AxesSubplot:xlabel='Age', ylabel='count'>"
      ]
     },
     "execution_count": 97,
     "metadata": {},
     "output_type": "execute_result"
    },
    {
     "data": {
      "image/png": "[encoded data removed]",
      "text/plain": [
       "<Figure size 1080x504 with 1 Axes>"
      ]
     },
     "metadata": {
      "needs_background": "light"
     },
     "output_type": "display_data"
    }
   ],
   "source": [
    "fig, ax = plt.subplots(1, 1, figsize=(15, 7))\n",
    "col = 'Age'\n",
    "value_counts = data[col].value_counts()\n",
    "sns.countplot(x=col, data=data, palette='Set2', edgecolor='black', order=value_counts.index)"
   ]
  },
  {
   "cell_type": "markdown",
   "metadata": {},
   "source": [
    "- 구매 연령층은 26-35의 20\\~30대 연령이 가장 많음.\n",
    "\n",
    "\\- 다음으로 36\\~45, 18\\~25이 뒤따르는데, 경제활동 연령층으로 보여짐."
   ]
  },
  {
   "cell_type": "markdown",
   "metadata": {},
   "source": [
    "##### 연령별 성별 보기 (Age vs Gender)"
   ]
  },
  {
   "cell_type": "code",
   "execution_count": 98,
   "metadata": {},
   "outputs": [
    {
     "data": {
      "text/plain": [
       "<AxesSubplot:xlabel='Age', ylabel='count'>"
      ]
     },
     "execution_count": 98,
     "metadata": {},
     "output_type": "execute_result"
    },
    {
     "data": {
      "image/png": "[encoded data removed]",
      "text/plain": [
       "<Figure size 1080x504 with 1 Axes>"
      ]
     },
     "metadata": {
      "needs_background": "light"
     },
     "output_type": "display_data"
    }
   ],
   "source": [
    "fig, ax = plt.subplots(1, 1, figsize=(15, 7))\n",
    "sns.countplot(x=col, data=data, hue='Gender', palette='Set2', edgecolor='black', order=value_counts.index)"
   ]
  },
  {
   "cell_type": "markdown",
   "metadata": {},
   "source": [
    "###### 모든 연령대에서 M의 구매가 더 많았음."
   ]
  },
  {
   "cell_type": "markdown",
   "metadata": {},
   "source": [
    "##### 3) Occupation"
   ]
  },
  {
   "cell_type": "code",
   "execution_count": 99,
   "metadata": {},
   "outputs": [
    {
     "name": "stdout",
     "output_type": "stream",
     "text": [
      "Column \"Occupation\" has 21 unique categroies\n",
      "------------------------------------------\n",
      "10\n",
      "2\n",
      "0\n",
      "19\n",
      "1\n",
      "7\n",
      "12\n",
      "8\n",
      "4\n",
      "9\n",
      "3\n",
      "20\n",
      "15\n",
      "14\n",
      "16\n",
      "17\n",
      "5\n",
      "6\n",
      "11\n",
      "18\n",
      "13\n"
     ]
    }
   ],
   "source": [
    "get_unique_values(data, 'Occupation')"
   ]
  },
  {
   "cell_type": "code",
   "execution_count": 100,
   "metadata": {},
   "outputs": [
    {
     "data": {
      "text/plain": [
       "<AxesSubplot:xlabel='Occupation', ylabel='count'>"
      ]
     },
     "execution_count": 100,
     "metadata": {},
     "output_type": "execute_result"
    },
    {
     "data": {
      "image/png": "[encoded data removed]",
      "text/plain": [
       "<Figure size 1080x504 with 1 Axes>"
      ]
     },
     "metadata": {
      "needs_background": "light"
     },
     "output_type": "display_data"
    }
   ],
   "source": [
    "fig, ax = plt.subplots(1, 1, figsize=(15, 7))\n",
    "col = 'Occupation'\n",
    "value_counts = data[col].value_counts()\n",
    "sns.countplot(x=col, data=data, palette='Set2', edgecolor='black', order=value_counts.index)"
   ]
  },
  {
   "cell_type": "markdown",
   "metadata": {},
   "source": [
    "- 해당 데이터는 숫자로 구성되어 있어서 의미파악이 힘듦."
   ]
  },
  {
   "cell_type": "markdown",
   "metadata": {},
   "source": [
    "##### 직업별 성별 보기 (Occupation vs Gender)"
   ]
  },
  {
   "cell_type": "code",
   "execution_count": 101,
   "metadata": {},
   "outputs": [
    {
     "data": {
      "text/plain": [
       "<AxesSubplot:xlabel='Occupation', ylabel='count'>"
      ]
     },
     "execution_count": 101,
     "metadata": {},
     "output_type": "execute_result"
    },
    {
     "data": {
      "image/png": "[encoded data removed]",
      "text/plain": [
       "<Figure size 1080x504 with 1 Axes>"
      ]
     },
     "metadata": {
      "needs_background": "light"
     },
     "output_type": "display_data"
    }
   ],
   "source": [
    "fig, ax = plt.subplots(1, 1, figsize=(15, 7))\n",
    "sns.countplot(x=col, data=data, hue='Gender', palette='Set2', edgecolor='black', order=value_counts.index)"
   ]
  },
  {
   "cell_type": "markdown",
   "metadata": {},
   "source": [
    "###### 거의 모든 직업군에서 M의 데이터 개수가 더 많았지만 9번 occupation의 경우 F의 개수가 더 많았음."
   ]
  },
  {
   "cell_type": "markdown",
   "metadata": {},
   "source": [
    "##### 4) City_Category"
   ]
  },
  {
   "cell_type": "code",
   "execution_count": 102,
   "metadata": {},
   "outputs": [
    {
     "name": "stdout",
     "output_type": "stream",
     "text": [
      "Column \"City_Category\" has 3 unique categroies\n",
      "------------------------------------------\n",
      "A\n",
      "B\n",
      "C\n"
     ]
    }
   ],
   "source": [
    "get_unique_values(data, 'City_Category')"
   ]
  },
  {
   "cell_type": "code",
   "execution_count": 103,
   "metadata": {},
   "outputs": [
    {
     "data": {
      "text/plain": [
       "<AxesSubplot:xlabel='City_Category', ylabel='count'>"
      ]
     },
     "execution_count": 103,
     "metadata": {},
     "output_type": "execute_result"
    },
    {
     "data": {
      "image/png": "[encoded data removed]",
      "text/plain": [
       "<Figure size 1080x504 with 1 Axes>"
      ]
     },
     "metadata": {
      "needs_background": "light"
     },
     "output_type": "display_data"
    }
   ],
   "source": [
    "fig, ax = plt.subplots(1, 1, figsize=(15, 7))\n",
    "col = 'City_Category'\n",
    "value_counts = data[col].value_counts()\n",
    "sns.countplot(x=col, data=data, palette='Set2', edgecolor='black', order=value_counts.index)"
   ]
  },
  {
   "cell_type": "markdown",
   "metadata": {},
   "source": [
    "- B 지역의 관측 데이터가 가장 많음. 다음은 C 그리고 A"
   ]
  },
  {
   "cell_type": "markdown",
   "metadata": {},
   "source": [
    "##### 도시별 성별 보기 (City_Category vs Gender)"
   ]
  },
  {
   "cell_type": "code",
   "execution_count": 104,
   "metadata": {},
   "outputs": [
    {
     "data": {
      "text/plain": [
       "<AxesSubplot:xlabel='City_Category', ylabel='count'>"
      ]
     },
     "execution_count": 104,
     "metadata": {},
     "output_type": "execute_result"
    },
    {
     "data": {
      "image/png": "[encoded data removed]",
      "text/plain": [
       "<Figure size 1080x504 with 1 Axes>"
      ]
     },
     "metadata": {
      "needs_background": "light"
     },
     "output_type": "display_data"
    }
   ],
   "source": [
    "fig, ax = plt.subplots(1, 1, figsize=(15, 7))\n",
    "sns.countplot(x=col, data=data, hue='Gender', palette='Set2', edgecolor='black', order=value_counts.index)"
   ]
  },
  {
   "cell_type": "markdown",
   "metadata": {},
   "source": [
    "###### 모든 지역에서 M의 소비가 더 많았음."
   ]
  },
  {
   "cell_type": "markdown",
   "metadata": {},
   "source": [
    "##### 5) Stay_In_Current_City_Years"
   ]
  },
  {
   "cell_type": "code",
   "execution_count": 105,
   "metadata": {},
   "outputs": [
    {
     "name": "stdout",
     "output_type": "stream",
     "text": [
      "Column \"Stay_In_Current_City_Years\" has 5 unique categroies\n",
      "------------------------------------------\n",
      "3\n",
      "1\n",
      "2\n",
      "4+\n",
      "0\n"
     ]
    }
   ],
   "source": [
    "get_unique_values(data, 'Stay_In_Current_City_Years')"
   ]
  },
  {
   "cell_type": "code",
   "execution_count": 106,
   "metadata": {},
   "outputs": [
    {
     "data": {
      "text/plain": [
       "<AxesSubplot:xlabel='Stay_In_Current_City_Years', ylabel='count'>"
      ]
     },
     "execution_count": 106,
     "metadata": {},
     "output_type": "execute_result"
    },
    {
     "data": {
      "image/png": "[encoded data removed]",
      "text/plain": [
       "<Figure size 1080x504 with 1 Axes>"
      ]
     },
     "metadata": {
      "needs_background": "light"
     },
     "output_type": "display_data"
    }
   ],
   "source": [
    "fig, ax = plt.subplots(1, 1, figsize=(15, 7))\n",
    "col = 'Stay_In_Current_City_Years'\n",
    "value_counts = data[col].value_counts()\n",
    "sns.countplot(x=col, data=data, palette='Set2', edgecolor='black', order=value_counts.index)"
   ]
  },
  {
   "cell_type": "markdown",
   "metadata": {},
   "source": [
    "- 그 지역에 산지 얼마 안된(1년차)에 가장 많은 소비를 하는것으로 보임.\n",
    "- 4+(4년 이상 거주) 에는 소비를 많이 하지 않음."
   ]
  },
  {
   "cell_type": "markdown",
   "metadata": {},
   "source": [
    "##### 거주기간별 성별 보기 (Stay_In_Current_City_Years vs Gender)"
   ]
  },
  {
   "cell_type": "code",
   "execution_count": 107,
   "metadata": {},
   "outputs": [
    {
     "data": {
      "text/plain": [
       "<AxesSubplot:xlabel='Stay_In_Current_City_Years', ylabel='count'>"
      ]
     },
     "execution_count": 107,
     "metadata": {},
     "output_type": "execute_result"
    },
    {
     "data": {
      "image/png": "[encoded data removed]",
      "text/plain": [
       "<Figure size 1080x504 with 1 Axes>"
      ]
     },
     "metadata": {
      "needs_background": "light"
     },
     "output_type": "display_data"
    }
   ],
   "source": [
    "fig, ax = plt.subplots(1, 1, figsize=(15, 7))\n",
    "sns.countplot(x=col, data=data, hue='Gender', palette='Set2', edgecolor='black', order=value_counts.index)"
   ]
  },
  {
   "cell_type": "markdown",
   "metadata": {},
   "source": [
    "###### 모든 기간 동안 남성의 소비량이 더 많음."
   ]
  },
  {
   "cell_type": "markdown",
   "metadata": {},
   "source": [
    "##### 6) Marital_Status"
   ]
  },
  {
   "cell_type": "code",
   "execution_count": 108,
   "metadata": {},
   "outputs": [
    {
     "name": "stdout",
     "output_type": "stream",
     "text": [
      "Column \"Marital_Status\" has 2 unique categroies\n",
      "------------------------------------------\n",
      "0\n",
      "1\n"
     ]
    }
   ],
   "source": [
    "get_unique_values(data, 'Marital_Status')"
   ]
  },
  {
   "cell_type": "code",
   "execution_count": 109,
   "metadata": {},
   "outputs": [
    {
     "data": {
      "text/plain": [
       "<AxesSubplot:xlabel='Marital_Status', ylabel='count'>"
      ]
     },
     "execution_count": 109,
     "metadata": {},
     "output_type": "execute_result"
    },
    {
     "data": {
      "image/png": "[encoded data removed]",
      "text/plain": [
       "<Figure size 1080x504 with 1 Axes>"
      ]
     },
     "metadata": {
      "needs_background": "light"
     },
     "output_type": "display_data"
    }
   ],
   "source": [
    "fig, ax = plt.subplots(1, 1, figsize=(15, 7))\n",
    "col = 'Marital_Status'\n",
    "value_counts = data[col].value_counts()\n",
    "sns.countplot(x=col, data=data, palette='Set2', edgecolor='black', order=value_counts.index)"
   ]
  },
  {
   "cell_type": "markdown",
   "metadata": {},
   "source": [
    "- 결혼을 하지 않은 사람(0)이 Black Friday를 더 즐기는것으로 보여짐."
   ]
  },
  {
   "cell_type": "markdown",
   "metadata": {},
   "source": [
    "##### 결혼유무별 성별 보기 (Marital_Status vs Gender)"
   ]
  },
  {
   "cell_type": "code",
   "execution_count": 110,
   "metadata": {},
   "outputs": [
    {
     "data": {
      "text/plain": [
       "<AxesSubplot:xlabel='Marital_Status', ylabel='count'>"
      ]
     },
     "execution_count": 110,
     "metadata": {},
     "output_type": "execute_result"
    },
    {
     "data": {
      "image/png": "[encoded data removed]",
      "text/plain": [
       "<Figure size 1080x504 with 1 Axes>"
      ]
     },
     "metadata": {
      "needs_background": "light"
     },
     "output_type": "display_data"
    }
   ],
   "source": [
    "fig, ax = plt.subplots(1, 1, figsize=(15, 7))\n",
    "sns.countplot(x=col, data=data, hue='Gender', palette='Set2', edgecolor='black', order=value_counts.index)"
   ]
  },
  {
   "cell_type": "markdown",
   "metadata": {},
   "source": [
    "###### 결혼 여부에 상관없이 남자의 소비량이 더 많음."
   ]
  },
  {
   "cell_type": "markdown",
   "metadata": {},
   "source": [
    "##### 7) Product_Category_1"
   ]
  },
  {
   "cell_type": "code",
   "execution_count": 116,
   "metadata": {},
   "outputs": [
    {
     "name": "stdout",
     "output_type": "stream",
     "text": [
      "Column \"Product_Category_1\" has 20 unique categroies\n",
      "------------------------------------------\n",
      "5\n",
      "7\n",
      "1\n",
      "2\n",
      "3\n",
      "8\n",
      "16\n",
      "14\n",
      "10\n",
      "19\n",
      "11\n",
      "12\n",
      "4\n",
      "17\n",
      "15\n",
      "6\n",
      "13\n",
      "20\n",
      "18\n",
      "9\n"
     ]
    }
   ],
   "source": [
    "get_unique_values(data, 'Product_Category_1')"
   ]
  },
  {
   "cell_type": "code",
   "execution_count": 117,
   "metadata": {},
   "outputs": [
    {
     "data": {
      "text/plain": [
       "<AxesSubplot:xlabel='Product_Category_1', ylabel='count'>"
      ]
     },
     "execution_count": 117,
     "metadata": {},
     "output_type": "execute_result"
    },
    {
     "data": {
      "image/png": "[encoded data removed]",
      "text/plain": [
       "<Figure size 1080x504 with 1 Axes>"
      ]
     },
     "metadata": {
      "needs_background": "light"
     },
     "output_type": "display_data"
    }
   ],
   "source": [
    "fig, ax = plt.subplots(1, 1, figsize=(15, 7))\n",
    "col = 'Product_Category_1'\n",
    "value_counts = data[col].value_counts()\n",
    "sns.countplot(x=col, data=data, palette='Set2', edgecolor='black', order=value_counts.index)"
   ]
  },
  {
   "cell_type": "markdown",
   "metadata": {},
   "source": [
    "- 데이터가 숫자로 되어있어 어떤 물품 분류에 대한 소비인지 파악하기 힘들지만 5, 1, 8의 카테고리에 속하는 물품의 소비량이 압도적으로 높음."
   ]
  },
  {
   "cell_type": "markdown",
   "metadata": {},
   "source": [
    "##### 상품 대분류별 성별 보기 (Product_Category_1 vs Gender)"
   ]
  },
  {
   "cell_type": "code",
   "execution_count": 118,
   "metadata": {},
   "outputs": [
    {
     "data": {
      "text/plain": [
       "<AxesSubplot:xlabel='Product_Category_1', ylabel='count'>"
      ]
     },
     "execution_count": 118,
     "metadata": {},
     "output_type": "execute_result"
    },
    {
     "data": {
      "image/png": "[encoded data removed]",
      "text/plain": [
       "<Figure size 1080x504 with 1 Axes>"
      ]
     },
     "metadata": {
      "needs_background": "light"
     },
     "output_type": "display_data"
    }
   ],
   "source": [
    "fig, ax = plt.subplots(1, 1, figsize=(15, 7))\n",
    "sns.countplot(x=col, data=data, hue='Gender', palette='Set2', edgecolor='black', order=value_counts.index)"
   ]
  },
  {
   "cell_type": "markdown",
   "metadata": {},
   "source": [
    "###### 1번 카테고리의 물품이 남녀간의 구매빈도 차이가 제일 많이남."
   ]
  },
  {
   "cell_type": "markdown",
   "metadata": {},
   "source": [
    "##### 8) Product_Category_2"
   ]
  },
  {
   "cell_type": "code",
   "execution_count": 119,
   "metadata": {},
   "outputs": [
    {
     "name": "stdout",
     "output_type": "stream",
     "text": [
      "Column \"Product_Category_2\" has 17 unique categroies\n",
      "------------------------------------------\n",
      "17.0\n",
      "9.0\n",
      "4.0\n",
      "5.0\n",
      "15.0\n",
      "8.0\n",
      "12.0\n",
      "11.0\n",
      "2.0\n",
      "14.0\n",
      "3.0\n",
      "18.0\n",
      "16.0\n",
      "6.0\n",
      "13.0\n",
      "10.0\n",
      "7.0\n"
     ]
    }
   ],
   "source": [
    "get_unique_values(data, 'Product_Category_2')"
   ]
  },
  {
   "cell_type": "code",
   "execution_count": 120,
   "metadata": {},
   "outputs": [
    {
     "data": {
      "text/plain": [
       "<AxesSubplot:xlabel='Product_Category_2', ylabel='count'>"
      ]
     },
     "execution_count": 120,
     "metadata": {},
     "output_type": "execute_result"
    },
    {
     "data": {
      "image/png": "[encoded data removed]",
      "text/plain": [
       "<Figure size 1080x504 with 1 Axes>"
      ]
     },
     "metadata": {
      "needs_background": "light"
     },
     "output_type": "display_data"
    }
   ],
   "source": [
    "fig, ax = plt.subplots(1, 1, figsize=(15, 7))\n",
    "col = 'Product_Category_2'\n",
    "value_counts = data[col].value_counts()\n",
    "sns.countplot(x=col, data=data, palette='Set2', edgecolor='black', order=value_counts.index)"
   ]
  },
  {
   "cell_type": "markdown",
   "metadata": {},
   "source": [
    "- 데이터가 숫자로 되어있어 어떤 물품 분류에 대한 소비인지 파악하기 힘들지만 9번 중분류 물품에 대한 소비가 압도적임."
   ]
  },
  {
   "cell_type": "markdown",
   "metadata": {},
   "source": [
    "##### 상품 대분류별 성별 보기 (Product_Category_1 vs Gender)"
   ]
  },
  {
   "cell_type": "code",
   "execution_count": 121,
   "metadata": {},
   "outputs": [
    {
     "data": {
      "text/plain": [
       "<AxesSubplot:xlabel='Product_Category_2', ylabel='count'>"
      ]
     },
     "execution_count": 121,
     "metadata": {},
     "output_type": "execute_result"
    },
    {
     "data": {
      "image/png": "[encoded data removed]",
      "text/plain": [
       "<Figure size 1080x504 with 1 Axes>"
      ]
     },
     "metadata": {
      "needs_background": "light"
     },
     "output_type": "display_data"
    }
   ],
   "source": [
    "fig, ax = plt.subplots(1, 1, figsize=(15, 7))\n",
    "sns.countplot(x=col, data=data, hue='Gender', palette='Set2', edgecolor='black', order=value_counts.index)"
   ]
  },
  {
   "cell_type": "markdown",
   "metadata": {},
   "source": [
    "###### 9번 중분류 물품이 남녀 불문하고 가장 많이 구매."
   ]
  },
  {
   "cell_type": "markdown",
   "metadata": {},
   "source": [
    "### 모델링 (Modeling)"
   ]
  },
  {
   "cell_type": "code",
   "execution_count": 122,
   "metadata": {},
   "outputs": [
    {
     "data": {
      "text/html": [
       "<div>\n",
       "<style scoped>\n",
       "    .dataframe tbody tr th:only-of-type {\n",
       "        vertical-align: middle;\n",
       "    }\n",
       "\n",
       "    .dataframe tbody tr th {\n",
       "        vertical-align: top;\n",
       "    }\n",
       "\n",
       "    .dataframe thead th {\n",
       "        text-align: right;\n",
       "    }\n",
       "</style>\n",
       "<table border=\"1\" class=\"dataframe\">\n",
       "  <thead>\n",
       "    <tr style=\"text-align: right;\">\n",
       "      <th></th>\n",
       "      <th>User_ID</th>\n",
       "      <th>Product_ID</th>\n",
       "      <th>Gender</th>\n",
       "      <th>Age</th>\n",
       "      <th>Occupation</th>\n",
       "      <th>City_Category</th>\n",
       "      <th>Stay_In_Current_City_Years</th>\n",
       "      <th>Marital_Status</th>\n",
       "      <th>Product_Category_1</th>\n",
       "      <th>Product_Category_2</th>\n",
       "      <th>Purchase</th>\n",
       "    </tr>\n",
       "  </thead>\n",
       "  <tbody>\n",
       "    <tr>\n",
       "      <th>0</th>\n",
       "      <td>1001088</td>\n",
       "      <td>P000</td>\n",
       "      <td>F</td>\n",
       "      <td>0-17</td>\n",
       "      <td>10</td>\n",
       "      <td>A</td>\n",
       "      <td>3</td>\n",
       "      <td>0</td>\n",
       "      <td>5</td>\n",
       "      <td>17.0</td>\n",
       "      <td>2010</td>\n",
       "    </tr>\n",
       "    <tr>\n",
       "      <th>1</th>\n",
       "      <td>1004493</td>\n",
       "      <td>P003</td>\n",
       "      <td>F</td>\n",
       "      <td>0-17</td>\n",
       "      <td>10</td>\n",
       "      <td>A</td>\n",
       "      <td>1</td>\n",
       "      <td>0</td>\n",
       "      <td>7</td>\n",
       "      <td>9.0</td>\n",
       "      <td>4483</td>\n",
       "    </tr>\n",
       "    <tr>\n",
       "      <th>2</th>\n",
       "      <td>1005302</td>\n",
       "      <td>P000</td>\n",
       "      <td>F</td>\n",
       "      <td>0-17</td>\n",
       "      <td>10</td>\n",
       "      <td>A</td>\n",
       "      <td>1</td>\n",
       "      <td>0</td>\n",
       "      <td>1</td>\n",
       "      <td>4.0</td>\n",
       "      <td>7696</td>\n",
       "    </tr>\n",
       "    <tr>\n",
       "      <th>3</th>\n",
       "      <td>1001348</td>\n",
       "      <td>P001</td>\n",
       "      <td>F</td>\n",
       "      <td>0-17</td>\n",
       "      <td>10</td>\n",
       "      <td>A</td>\n",
       "      <td>3</td>\n",
       "      <td>0</td>\n",
       "      <td>2</td>\n",
       "      <td>4.0</td>\n",
       "      <td>16429</td>\n",
       "    </tr>\n",
       "    <tr>\n",
       "      <th>4</th>\n",
       "      <td>1001348</td>\n",
       "      <td>P001</td>\n",
       "      <td>F</td>\n",
       "      <td>0-17</td>\n",
       "      <td>10</td>\n",
       "      <td>A</td>\n",
       "      <td>3</td>\n",
       "      <td>0</td>\n",
       "      <td>3</td>\n",
       "      <td>5.0</td>\n",
       "      <td>5780</td>\n",
       "    </tr>\n",
       "  </tbody>\n",
       "</table>\n",
       "</div>"
      ],
      "text/plain": [
       "   User_ID Product_ID Gender   Age Occupation City_Category  \\\n",
       "0  1001088       P000      F  0-17         10             A   \n",
       "1  1004493       P003      F  0-17         10             A   \n",
       "2  1005302       P000      F  0-17         10             A   \n",
       "3  1001348       P001      F  0-17         10             A   \n",
       "4  1001348       P001      F  0-17         10             A   \n",
       "\n",
       "  Stay_In_Current_City_Years Marital_Status Product_Category_1  \\\n",
       "0                          3              0                  5   \n",
       "1                          1              0                  7   \n",
       "2                          1              0                  1   \n",
       "3                          3              0                  2   \n",
       "4                          3              0                  3   \n",
       "\n",
       "  Product_Category_2  Purchase  \n",
       "0               17.0      2010  \n",
       "1                9.0      4483  \n",
       "2                4.0      7696  \n",
       "3                4.0     16429  \n",
       "4                5.0      5780  "
      ]
     },
     "execution_count": 122,
     "metadata": {},
     "output_type": "execute_result"
    }
   ],
   "source": [
    "data.head()"
   ]
  },
  {
   "cell_type": "code",
   "execution_count": 123,
   "metadata": {},
   "outputs": [],
   "source": [
    "# User_ID는 분석에 필요한 데이터가 아니므로 삭제\n",
    "data = data.drop('User_ID', axis = 1)"
   ]
  },
  {
   "cell_type": "code",
   "execution_count": 126,
   "metadata": {},
   "outputs": [],
   "source": [
    "# Feature, Label 분리\n",
    "y = data['Gender']\n",
    "X = data.drop(\"Gender\", axis = 1)"
   ]
  },
  {
   "cell_type": "code",
   "execution_count": 138,
   "metadata": {},
   "outputs": [],
   "source": [
    "# 타깃변수 Label Encoding\n",
    "from sklearn.preprocessing import LabelEncoder\n",
    "\n",
    "le = LabelEncoder()\n",
    "\n",
    "y = le.fit_transform(y)"
   ]
  },
  {
   "cell_type": "code",
   "execution_count": 158,
   "metadata": {},
   "outputs": [],
   "source": [
    "# 데이터셋 분리\n",
    "from sklearn.model_selection import train_test_split\n",
    "\n",
    "# stratify 옵션을 통해 타깃 변수의 비율을 유지하며 train-test 분리\n",
    "X_train, X_test, y_train, y_test = train_test_split(X, y, test_size = 0.2, \n",
    "                                                   shuffle = True,\n",
    "                                                   random_state = 1015,\n",
    "                                                   stratify = y)\n",
    "\n",
    "X_train.reset_index(drop = True, inplace=True)\n",
    "X_test.reset_index(drop = True, inplace=True)"
   ]
  },
  {
   "cell_type": "code",
   "execution_count": 159,
   "metadata": {},
   "outputs": [
    {
     "name": "stdout",
     "output_type": "stream",
     "text": [
      "Train 데이터 내 레이블 1의 비율 : 0.753\n",
      "Test 데이터 내 레이블 1의 비율 : 0.753\n"
     ]
    }
   ],
   "source": [
    "# 비율 확인\n",
    "print(\"Train 데이터 내 레이블 1의 비율 : {:.3f}\".format(np.sum(y_train) / len(y_train)))\n",
    "print(\"Test 데이터 내 레이블 1의 비율 : {:.3f}\".format(np.sum(y_test) / len(y_test)))"
   ]
  },
  {
   "cell_type": "markdown",
   "metadata": {},
   "source": [
    "- 확인 결과 F => 0, M => 1로 label encoding이 됐음을 확인."
   ]
  },
  {
   "cell_type": "markdown",
   "metadata": {},
   "source": [
    "#### Preprocessing"
   ]
  },
  {
   "cell_type": "code",
   "execution_count": 168,
   "metadata": {},
   "outputs": [
    {
     "name": "stdout",
     "output_type": "stream",
     "text": [
      "Categorical Columns: \n",
      "['Product_ID', 'Age', 'Occupation', 'City_Category', 'Stay_In_Current_City_Years', 'Marital_Status', 'Product_Category_1', 'Product_Category_2']\n",
      "\n",
      " Numeric Columns: \n",
      "['Purchase']\n",
      "\n"
     ]
    }
   ],
   "source": [
    "cat_columns = [c for (c, t) in zip(X.dtypes.index, X.dtypes) if t == 'O'] \n",
    "num_columns = [c for c in X.columns if c not in cat_columns]\n",
    "\n",
    "print('Categorical Columns: \\n{}\\n\\n Numeric Columns: \\n{}\\n'.format(cat_columns, num_columns))"
   ]
  },
  {
   "cell_type": "markdown",
   "metadata": {},
   "source": [
    "###### Scaling\n",
    "- 거리기반 알고리즘인 KNN은 척도에 민감하므로 Scaling 해주기\n",
    "- Train의 정보로 Test 스케일링."
   ]
  },
  {
   "cell_type": "code",
   "execution_count": 161,
   "metadata": {},
   "outputs": [],
   "source": [
    "from sklearn.preprocessing import StandardScaler\n",
    "\n",
    "scaler = StandardScaler()\n",
    "\n",
    "for col in num_columns:\n",
    "    X_train.loc[:, col] = scaler.fit_transform(np.array(X_train[col]).reshape(-1, 1))\n",
    "    X_test.loc[:, col] = scaler.transform(np.array(X_test[col]).reshape(-1, 1))"
   ]
  },
  {
   "cell_type": "markdown",
   "metadata": {},
   "source": [
    "###### One-Hot Encoding\n",
    "- 모델의 학습 통일성을 위해서 데이터를 합쳐서 인코딩 진행"
   ]
  },
  {
   "cell_type": "code",
   "execution_count": 193,
   "metadata": {},
   "outputs": [
    {
     "data": {
      "text/plain": [
       "OneHotEncoder(sparse=False)"
      ]
     },
     "execution_count": 193,
     "metadata": {},
     "output_type": "execute_result"
    }
   ],
   "source": [
    "from sklearn.preprocessing import OneHotEncoder\n",
    "\n",
    "ohe = OneHotEncoder(sparse = False)\n",
    "\n",
    "X_all = pd.concat([X_train, X_test], axis = 0).reset_index(drop=True)\n",
    "\n",
    "ohe.fit(X_all[cat_columns])"
   ]
  },
  {
   "cell_type": "code",
   "execution_count": 194,
   "metadata": {},
   "outputs": [
    {
     "data": {
      "text/plain": [
       "80"
      ]
     },
     "execution_count": 194,
     "metadata": {},
     "output_type": "execute_result"
    }
   ],
   "source": [
    "new_X = ohe.transform(X_all[cat_columns])\n",
    "\n",
    "ohe_columns = ohe.categories_[0].tolist()\n",
    "\n",
    "for idx in range(len(ohe.categories_)-1):\n",
    "    ohe_columns += ohe.categories_[idx+1].tolist()\n",
    "    \n",
    "len(ohe_columns)"
   ]
  },
  {
   "cell_type": "code",
   "execution_count": 195,
   "metadata": {},
   "outputs": [
    {
     "data": {
      "text/html": [
       "<div>\n",
       "<style scoped>\n",
       "    .dataframe tbody tr th:only-of-type {\n",
       "        vertical-align: middle;\n",
       "    }\n",
       "\n",
       "    .dataframe tbody tr th {\n",
       "        vertical-align: top;\n",
       "    }\n",
       "\n",
       "    .dataframe thead th {\n",
       "        text-align: right;\n",
       "    }\n",
       "</style>\n",
       "<table border=\"1\" class=\"dataframe\">\n",
       "  <thead>\n",
       "    <tr style=\"text-align: right;\">\n",
       "      <th></th>\n",
       "      <th>P000</th>\n",
       "      <th>P001</th>\n",
       "      <th>P002</th>\n",
       "      <th>P003</th>\n",
       "      <th>P009</th>\n",
       "      <th>0-17</th>\n",
       "      <th>18-25</th>\n",
       "      <th>26-35</th>\n",
       "      <th>36-45</th>\n",
       "      <th>46-50</th>\n",
       "      <th>...</th>\n",
       "      <th>17.0</th>\n",
       "      <th>18.0</th>\n",
       "      <th>2.0</th>\n",
       "      <th>3.0</th>\n",
       "      <th>4.0</th>\n",
       "      <th>5.0</th>\n",
       "      <th>6.0</th>\n",
       "      <th>7.0</th>\n",
       "      <th>8.0</th>\n",
       "      <th>9.0</th>\n",
       "    </tr>\n",
       "  </thead>\n",
       "  <tbody>\n",
       "    <tr>\n",
       "      <th>0</th>\n",
       "      <td>0.0</td>\n",
       "      <td>1.0</td>\n",
       "      <td>0.0</td>\n",
       "      <td>0.0</td>\n",
       "      <td>0.0</td>\n",
       "      <td>0.0</td>\n",
       "      <td>0.0</td>\n",
       "      <td>1.0</td>\n",
       "      <td>0.0</td>\n",
       "      <td>0.0</td>\n",
       "      <td>...</td>\n",
       "      <td>0.0</td>\n",
       "      <td>0.0</td>\n",
       "      <td>0.0</td>\n",
       "      <td>0.0</td>\n",
       "      <td>0.0</td>\n",
       "      <td>0.0</td>\n",
       "      <td>0.0</td>\n",
       "      <td>0.0</td>\n",
       "      <td>0.0</td>\n",
       "      <td>0.0</td>\n",
       "    </tr>\n",
       "    <tr>\n",
       "      <th>1</th>\n",
       "      <td>0.0</td>\n",
       "      <td>0.0</td>\n",
       "      <td>0.0</td>\n",
       "      <td>1.0</td>\n",
       "      <td>0.0</td>\n",
       "      <td>0.0</td>\n",
       "      <td>0.0</td>\n",
       "      <td>0.0</td>\n",
       "      <td>0.0</td>\n",
       "      <td>0.0</td>\n",
       "      <td>...</td>\n",
       "      <td>0.0</td>\n",
       "      <td>0.0</td>\n",
       "      <td>0.0</td>\n",
       "      <td>0.0</td>\n",
       "      <td>0.0</td>\n",
       "      <td>0.0</td>\n",
       "      <td>0.0</td>\n",
       "      <td>0.0</td>\n",
       "      <td>0.0</td>\n",
       "      <td>1.0</td>\n",
       "    </tr>\n",
       "    <tr>\n",
       "      <th>2</th>\n",
       "      <td>1.0</td>\n",
       "      <td>0.0</td>\n",
       "      <td>0.0</td>\n",
       "      <td>0.0</td>\n",
       "      <td>0.0</td>\n",
       "      <td>0.0</td>\n",
       "      <td>1.0</td>\n",
       "      <td>0.0</td>\n",
       "      <td>0.0</td>\n",
       "      <td>0.0</td>\n",
       "      <td>...</td>\n",
       "      <td>0.0</td>\n",
       "      <td>0.0</td>\n",
       "      <td>0.0</td>\n",
       "      <td>0.0</td>\n",
       "      <td>0.0</td>\n",
       "      <td>1.0</td>\n",
       "      <td>0.0</td>\n",
       "      <td>0.0</td>\n",
       "      <td>0.0</td>\n",
       "      <td>0.0</td>\n",
       "    </tr>\n",
       "    <tr>\n",
       "      <th>3</th>\n",
       "      <td>0.0</td>\n",
       "      <td>0.0</td>\n",
       "      <td>1.0</td>\n",
       "      <td>0.0</td>\n",
       "      <td>0.0</td>\n",
       "      <td>0.0</td>\n",
       "      <td>0.0</td>\n",
       "      <td>1.0</td>\n",
       "      <td>0.0</td>\n",
       "      <td>0.0</td>\n",
       "      <td>...</td>\n",
       "      <td>0.0</td>\n",
       "      <td>0.0</td>\n",
       "      <td>0.0</td>\n",
       "      <td>0.0</td>\n",
       "      <td>0.0</td>\n",
       "      <td>0.0</td>\n",
       "      <td>0.0</td>\n",
       "      <td>0.0</td>\n",
       "      <td>1.0</td>\n",
       "      <td>0.0</td>\n",
       "    </tr>\n",
       "    <tr>\n",
       "      <th>4</th>\n",
       "      <td>1.0</td>\n",
       "      <td>0.0</td>\n",
       "      <td>0.0</td>\n",
       "      <td>0.0</td>\n",
       "      <td>0.0</td>\n",
       "      <td>0.0</td>\n",
       "      <td>1.0</td>\n",
       "      <td>0.0</td>\n",
       "      <td>0.0</td>\n",
       "      <td>0.0</td>\n",
       "      <td>...</td>\n",
       "      <td>0.0</td>\n",
       "      <td>0.0</td>\n",
       "      <td>0.0</td>\n",
       "      <td>0.0</td>\n",
       "      <td>0.0</td>\n",
       "      <td>0.0</td>\n",
       "      <td>0.0</td>\n",
       "      <td>0.0</td>\n",
       "      <td>1.0</td>\n",
       "      <td>0.0</td>\n",
       "    </tr>\n",
       "  </tbody>\n",
       "</table>\n",
       "<p>5 rows × 80 columns</p>\n",
       "</div>"
      ],
      "text/plain": [
       "   P000  P001  P002  P003  P009  0-17  18-25  26-35  36-45  46-50  ...  17.0  \\\n",
       "0   0.0   1.0   0.0   0.0   0.0   0.0    0.0    1.0    0.0    0.0  ...   0.0   \n",
       "1   0.0   0.0   0.0   1.0   0.0   0.0    0.0    0.0    0.0    0.0  ...   0.0   \n",
       "2   1.0   0.0   0.0   0.0   0.0   0.0    1.0    0.0    0.0    0.0  ...   0.0   \n",
       "3   0.0   0.0   1.0   0.0   0.0   0.0    0.0    1.0    0.0    0.0  ...   0.0   \n",
       "4   1.0   0.0   0.0   0.0   0.0   0.0    1.0    0.0    0.0    0.0  ...   0.0   \n",
       "\n",
       "   18.0  2.0  3.0  4.0  5.0  6.0  7.0  8.0  9.0  \n",
       "0   0.0  0.0  0.0  0.0  0.0  0.0  0.0  0.0  0.0  \n",
       "1   0.0  0.0  0.0  0.0  0.0  0.0  0.0  0.0  1.0  \n",
       "2   0.0  0.0  0.0  0.0  1.0  0.0  0.0  0.0  0.0  \n",
       "3   0.0  0.0  0.0  0.0  0.0  0.0  0.0  1.0  0.0  \n",
       "4   0.0  0.0  0.0  0.0  0.0  0.0  0.0  1.0  0.0  \n",
       "\n",
       "[5 rows x 80 columns]"
      ]
     },
     "execution_count": 195,
     "metadata": {},
     "output_type": "execute_result"
    }
   ],
   "source": [
    "X_cat = pd.DataFrame(new_X, columns = ohe_columns)\n",
    "X_cat.head()"
   ]
  },
  {
   "cell_type": "markdown",
   "metadata": {},
   "source": [
    "###### 기존 범주형 변수를 제거, One-Hot Encoding된 변수 추가"
   ]
  },
  {
   "cell_type": "code",
   "execution_count": 197,
   "metadata": {},
   "outputs": [],
   "source": [
    "X_all.drop(columns=cat_columns, inplace=True)\n",
    "\n",
    "X = pd.concat([X_all, X_cat], axis = 1)"
   ]
  },
  {
   "cell_type": "code",
   "execution_count": 199,
   "metadata": {},
   "outputs": [],
   "source": [
    "# train, test 데이터 분리\n",
    "X_train = X.iloc[:X_train.shape[0], :]\n",
    "X_test = X.iloc[X_train.shape[0]:, :]"
   ]
  },
  {
   "cell_type": "code",
   "execution_count": 200,
   "metadata": {},
   "outputs": [
    {
     "data": {
      "text/plain": [
       "((3998, 81), (1000, 81))"
      ]
     },
     "execution_count": 200,
     "metadata": {},
     "output_type": "execute_result"
    }
   ],
   "source": [
    "X_train.shape, X_test.shape"
   ]
  },
  {
   "cell_type": "markdown",
   "metadata": {},
   "source": [
    "##### KNN"
   ]
  },
  {
   "cell_type": "markdown",
   "metadata": {},
   "source": [
    "###### Hyperparameter 조정 X"
   ]
  },
  {
   "cell_type": "code",
   "execution_count": 201,
   "metadata": {},
   "outputs": [
    {
     "name": "stdout",
     "output_type": "stream",
     "text": [
      "Test Score : 0.746\n"
     ]
    }
   ],
   "source": [
    "from sklearn.neighbors import KNeighborsClassifier\n",
    "\n",
    "knn = KNeighborsClassifier()\n",
    "knn.fit(X_train, y_train)\n",
    "print(\"Test Score : {:.3f}\".format(knn.score(X_test, y_test)))"
   ]
  },
  {
   "cell_type": "code",
   "execution_count": 203,
   "metadata": {},
   "outputs": [
    {
     "data": {
      "text/plain": [
       "array([0, 1, 1, 1, 1, 1, 1, 1, 1, 1, 1, 0, 0, 0, 1, 1, 1, 1, 1, 0, 1, 1,\n",
       "       0, 1, 1, 1, 0, 1, 1, 1, 1, 1, 1, 0, 1, 1, 1, 1, 1, 1, 1, 1, 1, 1,\n",
       "       1, 1, 1, 1, 0, 1, 1, 1, 1, 1, 1, 1, 1, 1, 1, 1, 1, 1, 1, 1, 1, 1,\n",
       "       0, 1, 1, 1, 1, 1, 1, 1, 1, 1, 0, 1, 1, 1, 1, 1, 1, 1, 1, 1, 1, 1,\n",
       "       1, 1, 1, 0, 1, 1, 1, 1, 1, 0, 1, 1, 1, 1, 1, 0, 1, 1, 0, 1, 1, 1,\n",
       "       0, 1, 0, 0, 1, 1, 1, 1, 1, 1, 0, 1, 1, 1, 1, 1, 1, 1, 1, 1, 1, 1,\n",
       "       1, 1, 0, 1, 1, 1, 1, 1, 1, 1, 1, 1, 1, 0, 1, 1, 1, 1, 1, 1, 1, 1,\n",
       "       1, 1, 0, 0, 1, 1, 1, 1, 1, 1, 1, 1, 1, 1, 1, 1, 1, 1, 1, 1, 1, 1,\n",
       "       1, 1, 1, 1, 1, 1, 1, 1, 1, 1, 0, 1, 1, 1, 1, 1, 0, 1, 1, 1, 1, 0,\n",
       "       1, 1, 1, 1, 1, 1, 1, 1, 0, 1, 1, 1, 1, 1, 0, 1, 1, 1, 1, 0, 1, 1,\n",
       "       1, 1, 1, 1, 1, 1, 1, 1, 1, 1, 1, 1, 1, 1, 1, 1, 1, 1, 1, 1, 1, 1,\n",
       "       1, 1, 1, 1, 1, 0, 1, 0, 0, 1, 1, 1, 1, 1, 1, 1, 1, 1, 1, 1, 1, 1,\n",
       "       1, 1, 1, 1, 1, 1, 0, 1, 1, 0, 1, 1, 1, 1, 1, 1, 1, 1, 1, 1, 1, 1,\n",
       "       1, 1, 1, 1, 1, 1, 1, 1, 1, 1, 0, 1, 1, 1, 0, 1, 1, 1, 1, 1, 1, 1,\n",
       "       1, 1, 1, 1, 1, 1, 1, 1, 1, 0, 1, 1, 1, 1, 1, 1, 1, 1, 1, 1, 1, 1,\n",
       "       1, 1, 1, 1, 1, 1, 1, 1, 1, 1, 1, 1, 1, 1, 1, 1, 1, 1, 1, 1, 1, 1,\n",
       "       1, 1, 1, 1, 1, 1, 1, 1, 0, 1, 1, 1, 1, 1, 1, 0, 1, 1, 1, 1, 0, 0,\n",
       "       1, 1, 1, 1, 1, 0, 1, 1, 1, 1, 1, 1, 1, 1, 1, 1, 1, 1, 1, 0, 1, 1,\n",
       "       1, 1, 1, 1, 1, 1, 1, 1, 1, 0, 0, 1, 1, 1, 1, 1, 1, 1, 0, 1, 1, 1,\n",
       "       1, 1, 1, 1, 1, 1, 1, 1, 1, 1, 0, 0, 1, 1, 1, 1, 1, 1, 1, 0, 0, 1,\n",
       "       1, 0, 1, 1, 1, 1, 1, 1, 0, 1, 1, 1, 1, 1, 1, 1, 1, 1, 1, 1, 1, 1,\n",
       "       1, 1, 1, 1, 1, 1, 1, 1, 1, 1, 1, 1, 1, 1, 1, 1, 1, 1, 1, 1, 1, 1,\n",
       "       1, 1, 1, 1, 1, 1, 1, 1, 1, 1, 1, 0, 1, 1, 1, 1, 1, 0, 1, 1, 1, 1,\n",
       "       0, 1, 1, 0, 1, 1, 0, 1, 1, 0, 1, 1, 1, 1, 1, 1, 1, 0, 1, 1, 0, 1,\n",
       "       1, 1, 0, 1, 1, 0, 1, 1, 1, 1, 1, 0, 1, 1, 1, 1, 1, 1, 1, 1, 1, 1,\n",
       "       1, 1, 1, 1, 1, 1, 1, 1, 1, 1, 1, 1, 1, 1, 0, 1, 1, 0, 1, 0, 1, 1,\n",
       "       0, 1, 0, 1, 1, 1, 1, 1, 1, 1, 1, 1, 1, 1, 1, 1, 1, 1, 1, 1, 1, 1,\n",
       "       1, 1, 1, 1, 1, 1, 1, 1, 1, 1, 0, 1, 1, 1, 1, 1, 0, 1, 0, 1, 1, 1,\n",
       "       1, 1, 0, 1, 1, 0, 0, 1, 0, 1, 1, 1, 0, 1, 1, 1, 0, 1, 1, 1, 1, 1,\n",
       "       1, 1, 1, 1, 1, 1, 1, 1, 1, 1, 1, 1, 1, 1, 1, 1, 1, 1, 1, 1, 1, 1,\n",
       "       1, 1, 0, 1, 1, 1, 1, 1, 1, 1, 1, 1, 1, 1, 1, 1, 0, 1, 0, 1, 1, 1,\n",
       "       1, 1, 1, 1, 1, 1, 1, 1, 1, 1, 1, 1, 1, 1, 1, 1, 0, 1, 1, 1, 1, 1,\n",
       "       1, 1, 1, 0, 1, 1, 1, 1, 1, 1, 1, 0, 1, 1, 1, 1, 1, 1, 1, 0, 1, 1,\n",
       "       1, 1, 1, 1, 1, 1, 1, 1, 1, 1, 1, 1, 1, 1, 1, 1, 1, 1, 1, 1, 1, 1,\n",
       "       1, 1, 1, 1, 1, 1, 1, 1, 1, 1, 1, 1, 1, 1, 1, 0, 1, 1, 1, 0, 1, 1,\n",
       "       1, 1, 1, 1, 1, 1, 1, 1, 1, 1, 1, 1, 1, 1, 0, 0, 1, 1, 1, 1, 1, 1,\n",
       "       1, 1, 1, 1, 0, 1, 1, 1, 1, 1, 1, 1, 1, 1, 1, 1, 1, 1, 1, 1, 1, 1,\n",
       "       1, 0, 1, 1, 1, 1, 1, 0, 1, 0, 1, 1, 1, 1, 1, 0, 1, 0, 1, 1, 1, 1,\n",
       "       1, 0, 1, 1, 0, 1, 1, 1, 1, 0, 1, 1, 1, 1, 1, 1, 0, 1, 1, 1, 1, 1,\n",
       "       1, 1, 1, 1, 1, 1, 1, 1, 1, 1, 1, 1, 1, 1, 1, 1, 1, 0, 1, 1, 0, 1,\n",
       "       1, 1, 1, 0, 0, 0, 1, 1, 0, 1, 1, 1, 1, 1, 1, 1, 1, 1, 1, 0, 1, 1,\n",
       "       1, 1, 1, 1, 0, 1, 1, 1, 1, 1, 1, 1, 1, 1, 1, 1, 0, 1, 1, 1, 1, 1,\n",
       "       0, 1, 1, 1, 1, 0, 1, 1, 1, 0, 1, 1, 1, 1, 1, 1, 1, 1, 0, 1, 1, 1,\n",
       "       1, 1, 1, 1, 1, 1, 1, 1, 1, 0, 1, 1, 1, 1, 1, 1, 1, 0, 1, 0, 1, 1,\n",
       "       1, 0, 1, 1, 1, 1, 1, 1, 1, 1, 1, 1, 1, 0, 1, 1, 0, 1, 1, 1, 1, 1,\n",
       "       0, 0, 1, 0, 1, 1, 1, 1, 1, 0], dtype=int64)"
      ]
     },
     "execution_count": 203,
     "metadata": {},
     "output_type": "execute_result"
    }
   ],
   "source": [
    "results = knn.predict(X_test)\n",
    "results"
   ]
  },
  {
   "cell_type": "code",
   "execution_count": 204,
   "metadata": {},
   "outputs": [
    {
     "data": {
      "text/html": [
       "<div>\n",
       "<style scoped>\n",
       "    .dataframe tbody tr th:only-of-type {\n",
       "        vertical-align: middle;\n",
       "    }\n",
       "\n",
       "    .dataframe tbody tr th {\n",
       "        vertical-align: top;\n",
       "    }\n",
       "\n",
       "    .dataframe thead th {\n",
       "        text-align: right;\n",
       "    }\n",
       "</style>\n",
       "<table border=\"1\" class=\"dataframe\">\n",
       "  <thead>\n",
       "    <tr style=\"text-align: right;\">\n",
       "      <th>Predicted</th>\n",
       "      <th>0</th>\n",
       "      <th>1</th>\n",
       "      <th>total</th>\n",
       "    </tr>\n",
       "    <tr>\n",
       "      <th>Real</th>\n",
       "      <th></th>\n",
       "      <th></th>\n",
       "      <th></th>\n",
       "    </tr>\n",
       "  </thead>\n",
       "  <tbody>\n",
       "    <tr>\n",
       "      <th>0</th>\n",
       "      <td>57</td>\n",
       "      <td>190</td>\n",
       "      <td>247</td>\n",
       "    </tr>\n",
       "    <tr>\n",
       "      <th>1</th>\n",
       "      <td>64</td>\n",
       "      <td>689</td>\n",
       "      <td>753</td>\n",
       "    </tr>\n",
       "    <tr>\n",
       "      <th>total</th>\n",
       "      <td>121</td>\n",
       "      <td>879</td>\n",
       "      <td>1000</td>\n",
       "    </tr>\n",
       "  </tbody>\n",
       "</table>\n",
       "</div>"
      ],
      "text/plain": [
       "Predicted    0    1  total\n",
       "Real                      \n",
       "0           57  190    247\n",
       "1           64  689    753\n",
       "total      121  879   1000"
      ]
     },
     "execution_count": 204,
     "metadata": {},
     "output_type": "execute_result"
    }
   ],
   "source": [
    "pd.crosstab(y_test, results, rownames=['Real'], colnames=['Predicted'], margins=True, margins_name='total')"
   ]
  },
  {
   "cell_type": "markdown",
   "metadata": {},
   "source": [
    "###### 대체로 label 0(F)을 잘 예측하고 있지 못함."
   ]
  },
  {
   "cell_type": "markdown",
   "metadata": {},
   "source": [
    "#### 평가"
   ]
  },
  {
   "cell_type": "code",
   "execution_count": 209,
   "metadata": {},
   "outputs": [
    {
     "data": {
      "text/plain": [
       "[0, 1]"
      ]
     },
     "execution_count": 209,
     "metadata": {},
     "output_type": "execute_result"
    }
   ],
   "source": [
    "np.unique(y_test).tolist()"
   ]
  },
  {
   "cell_type": "code",
   "execution_count": 213,
   "metadata": {},
   "outputs": [
    {
     "name": "stdout",
     "output_type": "stream",
     "text": [
      "              precision    recall  f1-score   support\n",
      "\n",
      "           0       0.47      0.23      0.31       247\n",
      "           1       0.78      0.92      0.84       753\n",
      "\n",
      "    accuracy                           0.75      1000\n",
      "   macro avg       0.63      0.57      0.58      1000\n",
      "weighted avg       0.71      0.75      0.71      1000\n",
      "\n"
     ]
    }
   ],
   "source": [
    "from sklearn import metrics\n",
    "print(metrics.classification_report(y_test,results, digits=2))"
   ]
  },
  {
   "cell_type": "markdown",
   "metadata": {},
   "source": [
    "### 최적의 K 찾기"
   ]
  },
  {
   "cell_type": "code",
   "execution_count": 214,
   "metadata": {},
   "outputs": [
    {
     "data": {
      "image/png": "[encoded data removed]",
      "text/plain": [
       "<Figure size 432x288 with 1 Axes>"
      ]
     },
     "metadata": {
      "needs_background": "light"
     },
     "output_type": "display_data"
    }
   ],
   "source": [
    "from sklearn.model_selection import cross_val_score\n",
    "k_range = list(range(1,21))           # k를 1~100까지 고려하여 최적의 k를 찾을 것이다.\n",
    "k_score = []                        # 각 k들의 성능을 비교하기 위한 리스트생성이다.\n",
    "\n",
    "for k in k_range :\n",
    "    knn = KNeighborsClassifier(k)\n",
    "    scores = cross_val_score(knn, X_train, y_train, cv=5, scoring = \"accuracy\")    # 10-fold cross-validation\n",
    "    k_score.append(scores.mean())                    # 10-fold 각각 정확도의 평균으로 성능계산\n",
    "\n",
    "plt.plot(k_range, k_score)\n",
    "plt.xlabel('Value of K for KNN')\n",
    "plt.ylabel('Cross-Validation Accuracy')\n",
    "plt.show()"
   ]
  },
  {
   "cell_type": "markdown",
   "metadata": {},
   "source": [
    "- K값을 높이면 높일수록 성능은 오르지만 모델의 복잡도 측면에서 좋지 못한 선택인듯 함.\n",
    "- 극적으로 오르는것이 아니고 0.76정도에 수렴하는듯한 모습."
   ]
  },
  {
   "cell_type": "markdown",
   "metadata": {},
   "source": [
    "###### 성능 향상을 위한 다른 방안 : Threshold값 조절"
   ]
  },
  {
   "cell_type": "code",
   "execution_count": 234,
   "metadata": {},
   "outputs": [],
   "source": [
    "# 0이라 예측할 확률을 저장\n",
    "\n",
    "knn = KNeighborsClassifier()\n",
    "knn.fit(X_train, y_train)\n",
    "\n",
    "y_probs = knn.predict_proba(X_test)\n",
    "y_probs1 = y_probs[:, 0]"
   ]
  },
  {
   "cell_type": "markdown",
   "metadata": {},
   "source": [
    "###### Threshold(임곗값)에 따른 성능 비교"
   ]
  },
  {
   "cell_type": "code",
   "execution_count": 235,
   "metadata": {},
   "outputs": [],
   "source": [
    "from sklearn.metrics import accuracy_score\n",
    "\n",
    "thresholds = np.linspace(0, 1, 101)\n",
    "acc = []\n",
    "\n",
    "for t in thresholds:\n",
    "    y_pred = y_probs1 <= t\n",
    "    acc.append(accuracy_score(y_test, y_pred))\n",
    "    \n",
    "best_threshold = thresholds[np.argmax(acc)]"
   ]
  },
  {
   "cell_type": "code",
   "execution_count": 236,
   "metadata": {},
   "outputs": [
    {
     "name": "stdout",
     "output_type": "stream",
     "text": [
      "정확도는 임곗값이 t=0.8일 때 75.40\n",
      "임곗값이 0.5일 때 정확도는 74.60\n"
     ]
    }
   ],
   "source": [
    "print(\"정확도는 임곗값이 t={0}일 때 {1:.2f}\".format(best_threshold, acc[np.argmax(acc)] * 100))\n",
    "print(\"임곗값이 0.5일 때 정확도는 {0:.2f}\".format(acc[list(thresholds).index(0.5)] * 100))"
   ]
  },
  {
   "cell_type": "code",
   "execution_count": 237,
   "metadata": {
    "scrolled": true
   },
   "outputs": [
    {
     "data": {
      "text/plain": [
       "<matplotlib.collections.LineCollection at 0x16865859940>"
      ]
     },
     "execution_count": 237,
     "metadata": {},
     "output_type": "execute_result"
    },
    {
     "data": {
      "image/png": "[encoded data removed]",
      "text/plain": [
       "<Figure size 432x288 with 1 Axes>"
      ]
     },
     "metadata": {
      "needs_background": "light"
     },
     "output_type": "display_data"
    }
   ],
   "source": [
    "plt.plot(thresholds, acc)\n",
    "plt.vlines(0.5, 0, 1, colors='r', linestyles='dashed')\n",
    "plt.vlines(0.8, 0, 1, colors='b', linestyle='dotted')"
   ]
  },
  {
   "cell_type": "markdown",
   "metadata": {},
   "source": [
    "###### 미미하지만 약 0.8정도 높은 accuracy를 얻을 수 있었음."
   ]
  }
 ],
 "metadata": {
  "kernelspec": {
   "display_name": "Python 3",
   "language": "python",
   "name": "python3"
  },
  "language_info": {
   "codemirror_mode": {
    "name": "ipython",
    "version": 3
   },
   "file_extension": ".py",
   "mimetype": "text/x-python",
   "name": "python",
   "nbconvert_exporter": "python",
   "pygments_lexer": "ipython3",
   "version": "3.8.3"
  }
 },
 "nbformat": 4,
 "nbformat_minor": 4
}
