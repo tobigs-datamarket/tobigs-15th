{
 "cells": [
  {
   "cell_type": "markdown",
   "metadata": {},
   "source": [
    "# DT Assignment1"
   ]
  },
  {
   "cell_type": "markdown",
   "metadata": {},
   "source": [
    "# Data Loading"
   ]
  },
  {
   "cell_type": "code",
   "execution_count": 1,
   "metadata": {},
   "outputs": [],
   "source": [
    "import pandas as pd \n",
    "import numpy as np"
   ]
  },
  {
   "cell_type": "code",
   "execution_count": 2,
   "metadata": {},
   "outputs": [
    {
     "data": {
      "text/html": [
       "<div>\n",
       "<style scoped>\n",
       "    .dataframe tbody tr th:only-of-type {\n",
       "        vertical-align: middle;\n",
       "    }\n",
       "\n",
       "    .dataframe tbody tr th {\n",
       "        vertical-align: top;\n",
       "    }\n",
       "\n",
       "    .dataframe thead th {\n",
       "        text-align: right;\n",
       "    }\n",
       "</style>\n",
       "<table border=\"1\" class=\"dataframe\">\n",
       "  <thead>\n",
       "    <tr style=\"text-align: right;\">\n",
       "      <th></th>\n",
       "      <th>age</th>\n",
       "      <th>income</th>\n",
       "      <th>student</th>\n",
       "      <th>credit_rating</th>\n",
       "      <th>class_buys_computer</th>\n",
       "    </tr>\n",
       "  </thead>\n",
       "  <tbody>\n",
       "    <tr>\n",
       "      <th>0</th>\n",
       "      <td>youth</td>\n",
       "      <td>high</td>\n",
       "      <td>no</td>\n",
       "      <td>fair</td>\n",
       "      <td>no</td>\n",
       "    </tr>\n",
       "    <tr>\n",
       "      <th>1</th>\n",
       "      <td>youth</td>\n",
       "      <td>high</td>\n",
       "      <td>no</td>\n",
       "      <td>excellent</td>\n",
       "      <td>no</td>\n",
       "    </tr>\n",
       "    <tr>\n",
       "      <th>2</th>\n",
       "      <td>middle_aged</td>\n",
       "      <td>high</td>\n",
       "      <td>no</td>\n",
       "      <td>fair</td>\n",
       "      <td>yes</td>\n",
       "    </tr>\n",
       "    <tr>\n",
       "      <th>3</th>\n",
       "      <td>senior</td>\n",
       "      <td>medium</td>\n",
       "      <td>no</td>\n",
       "      <td>fair</td>\n",
       "      <td>yes</td>\n",
       "    </tr>\n",
       "    <tr>\n",
       "      <th>4</th>\n",
       "      <td>senior</td>\n",
       "      <td>low</td>\n",
       "      <td>yes</td>\n",
       "      <td>fair</td>\n",
       "      <td>yes</td>\n",
       "    </tr>\n",
       "    <tr>\n",
       "      <th>5</th>\n",
       "      <td>senior</td>\n",
       "      <td>low</td>\n",
       "      <td>yes</td>\n",
       "      <td>excellent</td>\n",
       "      <td>no</td>\n",
       "    </tr>\n",
       "    <tr>\n",
       "      <th>6</th>\n",
       "      <td>middle_aged</td>\n",
       "      <td>low</td>\n",
       "      <td>yes</td>\n",
       "      <td>excellent</td>\n",
       "      <td>yes</td>\n",
       "    </tr>\n",
       "    <tr>\n",
       "      <th>7</th>\n",
       "      <td>youth</td>\n",
       "      <td>medium</td>\n",
       "      <td>no</td>\n",
       "      <td>fair</td>\n",
       "      <td>no</td>\n",
       "    </tr>\n",
       "    <tr>\n",
       "      <th>8</th>\n",
       "      <td>youth</td>\n",
       "      <td>low</td>\n",
       "      <td>yes</td>\n",
       "      <td>fair</td>\n",
       "      <td>yes</td>\n",
       "    </tr>\n",
       "    <tr>\n",
       "      <th>9</th>\n",
       "      <td>senior</td>\n",
       "      <td>medium</td>\n",
       "      <td>yes</td>\n",
       "      <td>fair</td>\n",
       "      <td>yes</td>\n",
       "    </tr>\n",
       "    <tr>\n",
       "      <th>10</th>\n",
       "      <td>youth</td>\n",
       "      <td>medium</td>\n",
       "      <td>yes</td>\n",
       "      <td>excellent</td>\n",
       "      <td>yes</td>\n",
       "    </tr>\n",
       "    <tr>\n",
       "      <th>11</th>\n",
       "      <td>middle_aged</td>\n",
       "      <td>medium</td>\n",
       "      <td>no</td>\n",
       "      <td>excellent</td>\n",
       "      <td>yes</td>\n",
       "    </tr>\n",
       "    <tr>\n",
       "      <th>12</th>\n",
       "      <td>middle_aged</td>\n",
       "      <td>high</td>\n",
       "      <td>yes</td>\n",
       "      <td>fair</td>\n",
       "      <td>yes</td>\n",
       "    </tr>\n",
       "    <tr>\n",
       "      <th>13</th>\n",
       "      <td>senior</td>\n",
       "      <td>medium</td>\n",
       "      <td>no</td>\n",
       "      <td>excellent</td>\n",
       "      <td>no</td>\n",
       "    </tr>\n",
       "  </tbody>\n",
       "</table>\n",
       "</div>"
      ],
      "text/plain": [
       "            age  income student credit_rating class_buys_computer\n",
       "0         youth    high      no          fair                  no\n",
       "1         youth    high      no     excellent                  no\n",
       "2   middle_aged    high      no          fair                 yes\n",
       "3        senior  medium      no          fair                 yes\n",
       "4        senior     low     yes          fair                 yes\n",
       "5        senior     low     yes     excellent                  no\n",
       "6   middle_aged     low     yes     excellent                 yes\n",
       "7         youth  medium      no          fair                  no\n",
       "8         youth     low     yes          fair                 yes\n",
       "9        senior  medium     yes          fair                 yes\n",
       "10        youth  medium     yes     excellent                 yes\n",
       "11  middle_aged  medium      no     excellent                 yes\n",
       "12  middle_aged    high     yes          fair                 yes\n",
       "13       senior  medium      no     excellent                  no"
      ]
     },
     "execution_count": 2,
     "metadata": {},
     "output_type": "execute_result"
    }
   ],
   "source": [
    "pd_data = pd.read_csv('https://raw.githubusercontent.com/AugustLONG/ML01/master/01decisiontree/AllElectronics.csv')\n",
    "pd_data.drop(\"RID\",axis=1, inplace = True) #RID는 그냥 순서라서 삭제\n",
    "pd_data"
   ]
  },
  {
   "cell_type": "markdown",
   "metadata": {},
   "source": [
    "# 1. Gini 계수를 구하는 함수 만들기"
   ]
  },
  {
   "cell_type": "markdown",
   "metadata": {},
   "source": [
    "- Input: df(데이터), label(타겟변수명)\n",
    "- 해당 결과는 아래와 같이 나와야 합니다."
   ]
  },
  {
   "cell_type": "markdown",
   "metadata": {},
   "source": [
    "$Gini(D_i) = 1 - \\sum_{j=1}^xP_j^2$"
   ]
  },
  {
   "cell_type": "code",
   "execution_count": 123,
   "metadata": {},
   "outputs": [],
   "source": [
    "def get_gini(df, label):\n",
    "    # df 데이터의 개수\n",
    "    n = df.shape[0]\n",
    "    \n",
    "    # label의 정답 값(꼭 yes나 no라는 보장이 없으므로)\n",
    "    label_value = np.unique(df[label])\n",
    "    \n",
    "    # df의 label 컬럼 중 첫번째 레이블 수\n",
    "    label1 = np.sum(df[label] == label_value[0])\n",
    "    \n",
    "    # df의 label 컬럼 중 두번째 레이블 수(2번째 까지만 고려, binary classification)\n",
    "    label2 = n - label1 # 첫번째 레이블 갯수 + 두번째 레이블 갯수 = 전체 데이터 갯수\n",
    "    \n",
    "    # 지니 계수 계산\n",
    "    gini = 1 - (label1 / n) ** 2 - (label2 / n) ** 2\n",
    "    \n",
    "    return gini    "
   ]
  },
  {
   "cell_type": "code",
   "execution_count": 115,
   "metadata": {},
   "outputs": [
    {
     "data": {
      "text/plain": [
       "0.4591836734693877"
      ]
     },
     "execution_count": 115,
     "metadata": {},
     "output_type": "execute_result"
    }
   ],
   "source": [
    "get_gini(pd_data,'class_buys_computer')"
   ]
  },
  {
   "cell_type": "markdown",
   "metadata": {},
   "source": [
    "# 2. Feature의 Class를 이진 분류로 만들기\n",
    " ## ex) {A,B,C} -> ({A}, {B,C}), ({B}, {A,C}), ({C}, {A,B})"
   ]
  },
  {
   "cell_type": "markdown",
   "metadata": {},
   "source": [
    "- Input: df(데이터), attribute(Gini index를 구하고자 하는 변수명)\n",
    "- 해당 결과는 아래와 같이 나와야 합니다."
   ]
  },
  {
   "cell_type": "code",
   "execution_count": 116,
   "metadata": {},
   "outputs": [],
   "source": [
    "from itertools import combinations\n",
    "\n",
    "def get_binary_split(df, attribute):\n",
    "    # 결과를 담을 리스트\n",
    "    result = []\n",
    "    \n",
    "    # 입력 df의 attribute 컬럼의 unique 값들을 추출\n",
    "    unique_value = np.unique(df[attribute])\n",
    "    \n",
    "    # combinations를 이용해 원소가 1, unique한 원소 개수보다 1개 작은 숫자까지 조합 생성\n",
    "    # unique한 갯수가 n이라고 가정하면 1<->n-1, 2<->n-2, ... 꼴로 매칭이 되는 쌍들이 나와야함.(2^(n-1) - 1개)\n",
    "    for i in range(1, len(unique_value)):\n",
    "        # unique한 값들을 가지고 1개 또는 2개의 원소를 갖도록 조합 실행\n",
    "        for att in combinations(unique_value, i):\n",
    "            result.append(list(att))\n",
    "    \n",
    "    return result"
   ]
  },
  {
   "cell_type": "code",
   "execution_count": 117,
   "metadata": {},
   "outputs": [
    {
     "data": {
      "text/plain": [
       "[['middle_aged'],\n",
       " ['senior'],\n",
       " ['youth'],\n",
       " ['middle_aged', 'senior'],\n",
       " ['middle_aged', 'youth'],\n",
       " ['senior', 'youth']]"
      ]
     },
     "execution_count": 117,
     "metadata": {},
     "output_type": "execute_result"
    }
   ],
   "source": [
    "get_binary_split(pd_data,\"age\")"
   ]
  },
  {
   "cell_type": "markdown",
   "metadata": {},
   "source": [
    "# 3. 다음은 모든 이진분류의 경우의 Gini index를 구하는 함수 만들기\n",
    "- 위에서 완성한 두 함수를 사용하여 만들어주세요!\n",
    "- 해당 결과는 아래와 같이 나와야 합니다."
   ]
  },
  {
   "cell_type": "code",
   "execution_count": 181,
   "metadata": {},
   "outputs": [],
   "source": [
    "def get_attribute_gini_index(df, attribute, label):\n",
    "    # DataFrame의 obs 갯수\n",
    "    n = df.shape[0]\n",
    "    \n",
    "    # 일단 경우의 수로 split\n",
    "    split = get_binary_split(df, attribute)\n",
    "    \n",
    "    # 결과를 담을 dictionary 선언\n",
    "    result = {}\n",
    "    \n",
    "    # split에 담겨있는 원소 하나씩 수행\n",
    "    for col in split:\n",
    "        # dictionary에 담을 이름 선언(2개 이상일시 _로 구분되고 1개일 시 그냥 들어갈 것.)\n",
    "        col_name = \"_\".join(col)\n",
    "        \n",
    "        # 해당 attribute가 col에 속하는가??\n",
    "        # 뒤집기 연산 (~)을 하기위해 numpy array 형식으로 지정.\n",
    "        mask = np.array(list(map(lambda x : x in col, df[attribute])))\n",
    "        \n",
    "        # 원하는 DataFrame만 뽑아주기(t = target, r = rest)\n",
    "        data_t = df.loc[mask, :]\n",
    "        data_r = df.loc[~mask, :]        \n",
    "\n",
    "        # gini계수 계산\n",
    "        gini_t = get_gini(data_t, label)\n",
    "        gini_r = get_gini(data_r, label)\n",
    "        \n",
    "        gini = len(data_t) / n * gini_t + len(data_r) / n * gini_r\n",
    "        \n",
    "        # dictionary에 추가\n",
    "        result[col_name] = gini\n",
    "        \n",
    "    return result"
   ]
  },
  {
   "cell_type": "code",
   "execution_count": 131,
   "metadata": {},
   "outputs": [
    {
     "data": {
      "text/plain": [
       "{'middle_aged': 0.35714285714285715,\n",
       " 'senior': 0.45714285714285713,\n",
       " 'youth': 0.3936507936507937,\n",
       " 'middle_aged_senior': 0.3936507936507937,\n",
       " 'middle_aged_youth': 0.45714285714285713,\n",
       " 'senior_youth': 0.35714285714285715}"
      ]
     },
     "execution_count": 131,
     "metadata": {},
     "output_type": "execute_result"
    }
   ],
   "source": [
    "get_attribute_gini_index(pd_data, \"age\", \"class_buys_computer\")"
   ]
  },
  {
   "cell_type": "markdown",
   "metadata": {},
   "source": [
    "여기서 가장 작은 Gini index값을 가지는 class를 기준으로 split해야겠죠?"
   ]
  },
  {
   "cell_type": "code",
   "execution_count": 132,
   "metadata": {},
   "outputs": [
    {
     "data": {
      "text/plain": [
       "('middle_aged', 0.35714285714285715)"
      ]
     },
     "execution_count": 132,
     "metadata": {},
     "output_type": "execute_result"
    }
   ],
   "source": [
    "min(get_attribute_gini_index(pd_data, \"age\", \"class_buys_computer\").items())"
   ]
  },
  {
   "cell_type": "markdown",
   "metadata": {},
   "source": [
    "# 다음의 문제를 위에서 작성한 함수를 통해 구한 값으로 보여주세요!\n",
    "## 문제1) 변수 ‘income’의 이진분류 결과를 보여주세요.\n",
    "\n",
    "## 문제2) 분류를 하는 데 가장 중요한 변수를 선정하고, 해당 변수의 Gini index를 제시해주세요.\n",
    "\n",
    "## 문제3) 문제 2에서 제시한 feature로 DataFrame을 split한 후 나눠진 2개의 DataFrame에서 각각   다음으로 중요한 변수를 선정하고 해당 변수의 Gini index를 제시해주세요."
   ]
  },
  {
   "cell_type": "code",
   "execution_count": 133,
   "metadata": {},
   "outputs": [
    {
     "data": {
      "text/plain": [
       "[['high'],\n",
       " ['low'],\n",
       " ['medium'],\n",
       " ['high', 'low'],\n",
       " ['high', 'medium'],\n",
       " ['low', 'medium']]"
      ]
     },
     "execution_count": 133,
     "metadata": {},
     "output_type": "execute_result"
    }
   ],
   "source": [
    "##문제1 답안\n",
    "# income으로 이진 분류 조합 결과 출력\n",
    "get_binary_split(pd_data,\"income\")"
   ]
  },
  {
   "cell_type": "markdown",
   "metadata": {},
   "source": [
    "- unique value가 총 3개라 2개(3-1개)의 원소로 구성된 리스트 생성.\n",
    "- $2^(3-1) - 1 = 3쌍"
   ]
  },
  {
   "cell_type": "code",
   "execution_count": 185,
   "metadata": {},
   "outputs": [
    {
     "name": "stdout",
     "output_type": "stream",
     "text": [
      "Minimum Gini index of age : 0.3571\n",
      "Minimum Gini index of income : 0.4429\n",
      "Minimum Gini index of student : 0.3673\n",
      "Minimum Gini index of credit_rating : 0.4286\n"
     ]
    }
   ],
   "source": [
    "##문제2 답안\n",
    "# 변수명 중 마지막에 위치한 label 컬럼 얻기\n",
    "label = pd_data.columns[-1]\n",
    "# label 변수를 제외한 변수명 얻기\n",
    "features = list(pd_data.columns[:-1])\n",
    "\n",
    "# 각 변수를 대상으로 반복문 수행\n",
    "for col in features:\n",
    "    # 해당 변수 중 가장 낮은 gini 계수와 변수 출력\n",
    "    min_gini = min(get_attribute_gini_index(pd_data, col, label).items())[1]\n",
    "    print(f\"Minimum Gini index of {col} : {min_gini:.4f}\")"
   ]
  },
  {
   "cell_type": "markdown",
   "metadata": {},
   "source": [
    "##### - 확인 결과 age 변수의 지니 계수가 0.3571로 가장 낮으므로 주어진 변수 중 가장 불순도를 낮추면서 순도를 증가시키는 방향으로 분류를 잘 할 수 있음."
   ]
  },
  {
   "cell_type": "code",
   "execution_count": 186,
   "metadata": {},
   "outputs": [
    {
     "data": {
      "text/plain": [
       "[('middle_aged', 0.35714285714285715),\n",
       " ('senior_youth', 0.35714285714285715),\n",
       " ('youth', 0.3936507936507937),\n",
       " ('middle_aged_senior', 0.3936507936507937),\n",
       " ('senior', 0.45714285714285713),\n",
       " ('middle_aged_youth', 0.45714285714285713)]"
      ]
     },
     "execution_count": 186,
     "metadata": {},
     "output_type": "execute_result"
    }
   ],
   "source": [
    "##문제3 답안\n",
    "# age 변수를 어떤 attribute를 기준으로 나눌지 확인\n",
    "age_division = get_attribute_gini_index(pd_data, \"age\", label)\n",
    "sorted(age_division.items(), key=lambda x:x[1])"
   ]
  },
  {
   "cell_type": "markdown",
   "metadata": {},
   "source": [
    "#### middle_aged VS senior, youth 로 나누는 것이 좋아보임."
   ]
  },
  {
   "cell_type": "code",
   "execution_count": 187,
   "metadata": {},
   "outputs": [],
   "source": [
    "middle = ['middle_aged']\n",
    "# age 변수가 middle_aged인 변수를 뽑아내기 위한 마스크\n",
    "mask = np.array([True if x in middle else False for x in pd_data['age']])\n",
    "\n",
    "# DataFrame middle_aged 추출\n",
    "df_m = pd_data.loc[mask, :]\n",
    "# DataFrame Senior, youth 추출\n",
    "df_sy = pd_data.loc[~mask, :]"
   ]
  },
  {
   "cell_type": "code",
   "execution_count": 193,
   "metadata": {},
   "outputs": [
    {
     "name": "stdout",
     "output_type": "stream",
     "text": [
      "Age : Middle_aged, Minimum Gini index of income : 0.0000\n",
      "Age : Middle_aged, Minimum Gini index of student : 0.0000\n",
      "Age : Middle_aged, Minimum Gini index of credit_rating : 0.0000\n",
      "#############################################################\n",
      "Age : Middle_aged, Minimum Gini index of income : 0.3750\n",
      "Age : Middle_aged, Minimum Gini index of student : 0.3200\n",
      "Age : Middle_aged, Minimum Gini index of credit_rating : 0.4167\n"
     ]
    }
   ],
   "source": [
    "# 변수명 중에서 age 변수 제거\n",
    "features.remove('age')\n",
    "\n",
    "# Middle_aged DataFrame\n",
    "# 각 변수를 대상으로 반복문 수행\n",
    "for col in features:\n",
    "    # 해당 변수 중 가장 낮은 gini 계수와 변수 출력\n",
    "    min_gini = min(get_attribute_gini_index(df_m, col, label).items())[1]\n",
    "    print(f\"Age : Middle_aged, Minimum Gini index of {col} : {min_gini:.4f}\")\n",
    "\n",
    "print(\"#############################################################\")\n",
    "# Youth, Senior DataFrame\n",
    "# 각 변수를 대상으로 반복문 수행\n",
    "for col in features:\n",
    "    # 해당 변수 중 가장 낮은 gini 계수와 변수 출력\n",
    "    min_gini = min(get_attribute_gini_index(df_sy, col, label).items())[1]\n",
    "    print(f\"Age : Middle_aged, Minimum Gini index of {col} : {min_gini:.4f}\")\n"
   ]
  },
  {
   "cell_type": "code",
   "execution_count": 194,
   "metadata": {},
   "outputs": [
    {
     "data": {
      "text/html": [
       "<div>\n",
       "<style scoped>\n",
       "    .dataframe tbody tr th:only-of-type {\n",
       "        vertical-align: middle;\n",
       "    }\n",
       "\n",
       "    .dataframe tbody tr th {\n",
       "        vertical-align: top;\n",
       "    }\n",
       "\n",
       "    .dataframe thead th {\n",
       "        text-align: right;\n",
       "    }\n",
       "</style>\n",
       "<table border=\"1\" class=\"dataframe\">\n",
       "  <thead>\n",
       "    <tr style=\"text-align: right;\">\n",
       "      <th></th>\n",
       "      <th>age</th>\n",
       "      <th>income</th>\n",
       "      <th>student</th>\n",
       "      <th>credit_rating</th>\n",
       "      <th>class_buys_computer</th>\n",
       "    </tr>\n",
       "  </thead>\n",
       "  <tbody>\n",
       "    <tr>\n",
       "      <th>2</th>\n",
       "      <td>middle_aged</td>\n",
       "      <td>high</td>\n",
       "      <td>no</td>\n",
       "      <td>fair</td>\n",
       "      <td>yes</td>\n",
       "    </tr>\n",
       "    <tr>\n",
       "      <th>6</th>\n",
       "      <td>middle_aged</td>\n",
       "      <td>low</td>\n",
       "      <td>yes</td>\n",
       "      <td>excellent</td>\n",
       "      <td>yes</td>\n",
       "    </tr>\n",
       "    <tr>\n",
       "      <th>11</th>\n",
       "      <td>middle_aged</td>\n",
       "      <td>medium</td>\n",
       "      <td>no</td>\n",
       "      <td>excellent</td>\n",
       "      <td>yes</td>\n",
       "    </tr>\n",
       "    <tr>\n",
       "      <th>12</th>\n",
       "      <td>middle_aged</td>\n",
       "      <td>high</td>\n",
       "      <td>yes</td>\n",
       "      <td>fair</td>\n",
       "      <td>yes</td>\n",
       "    </tr>\n",
       "  </tbody>\n",
       "</table>\n",
       "</div>"
      ],
      "text/plain": [
       "            age  income student credit_rating class_buys_computer\n",
       "2   middle_aged    high      no          fair                 yes\n",
       "6   middle_aged     low     yes     excellent                 yes\n",
       "11  middle_aged  medium      no     excellent                 yes\n",
       "12  middle_aged    high     yes          fair                 yes"
      ]
     },
     "execution_count": 194,
     "metadata": {},
     "output_type": "execute_result"
    }
   ],
   "source": [
    "df_m"
   ]
  },
  {
   "cell_type": "markdown",
   "metadata": {},
   "source": [
    "##### Middle_aged DataFrame의 경우에는 label이 전부 yes라 순도가 1이라 더이상 분류 필요 x"
   ]
  },
  {
   "cell_type": "code",
   "execution_count": 195,
   "metadata": {},
   "outputs": [
    {
     "data": {
      "text/html": [
       "<div>\n",
       "<style scoped>\n",
       "    .dataframe tbody tr th:only-of-type {\n",
       "        vertical-align: middle;\n",
       "    }\n",
       "\n",
       "    .dataframe tbody tr th {\n",
       "        vertical-align: top;\n",
       "    }\n",
       "\n",
       "    .dataframe thead th {\n",
       "        text-align: right;\n",
       "    }\n",
       "</style>\n",
       "<table border=\"1\" class=\"dataframe\">\n",
       "  <thead>\n",
       "    <tr style=\"text-align: right;\">\n",
       "      <th></th>\n",
       "      <th>age</th>\n",
       "      <th>income</th>\n",
       "      <th>student</th>\n",
       "      <th>credit_rating</th>\n",
       "      <th>class_buys_computer</th>\n",
       "    </tr>\n",
       "  </thead>\n",
       "  <tbody>\n",
       "    <tr>\n",
       "      <th>0</th>\n",
       "      <td>youth</td>\n",
       "      <td>high</td>\n",
       "      <td>no</td>\n",
       "      <td>fair</td>\n",
       "      <td>no</td>\n",
       "    </tr>\n",
       "    <tr>\n",
       "      <th>1</th>\n",
       "      <td>youth</td>\n",
       "      <td>high</td>\n",
       "      <td>no</td>\n",
       "      <td>excellent</td>\n",
       "      <td>no</td>\n",
       "    </tr>\n",
       "    <tr>\n",
       "      <th>3</th>\n",
       "      <td>senior</td>\n",
       "      <td>medium</td>\n",
       "      <td>no</td>\n",
       "      <td>fair</td>\n",
       "      <td>yes</td>\n",
       "    </tr>\n",
       "    <tr>\n",
       "      <th>4</th>\n",
       "      <td>senior</td>\n",
       "      <td>low</td>\n",
       "      <td>yes</td>\n",
       "      <td>fair</td>\n",
       "      <td>yes</td>\n",
       "    </tr>\n",
       "    <tr>\n",
       "      <th>5</th>\n",
       "      <td>senior</td>\n",
       "      <td>low</td>\n",
       "      <td>yes</td>\n",
       "      <td>excellent</td>\n",
       "      <td>no</td>\n",
       "    </tr>\n",
       "    <tr>\n",
       "      <th>7</th>\n",
       "      <td>youth</td>\n",
       "      <td>medium</td>\n",
       "      <td>no</td>\n",
       "      <td>fair</td>\n",
       "      <td>no</td>\n",
       "    </tr>\n",
       "    <tr>\n",
       "      <th>8</th>\n",
       "      <td>youth</td>\n",
       "      <td>low</td>\n",
       "      <td>yes</td>\n",
       "      <td>fair</td>\n",
       "      <td>yes</td>\n",
       "    </tr>\n",
       "    <tr>\n",
       "      <th>9</th>\n",
       "      <td>senior</td>\n",
       "      <td>medium</td>\n",
       "      <td>yes</td>\n",
       "      <td>fair</td>\n",
       "      <td>yes</td>\n",
       "    </tr>\n",
       "    <tr>\n",
       "      <th>10</th>\n",
       "      <td>youth</td>\n",
       "      <td>medium</td>\n",
       "      <td>yes</td>\n",
       "      <td>excellent</td>\n",
       "      <td>yes</td>\n",
       "    </tr>\n",
       "    <tr>\n",
       "      <th>13</th>\n",
       "      <td>senior</td>\n",
       "      <td>medium</td>\n",
       "      <td>no</td>\n",
       "      <td>excellent</td>\n",
       "      <td>no</td>\n",
       "    </tr>\n",
       "  </tbody>\n",
       "</table>\n",
       "</div>"
      ],
      "text/plain": [
       "       age  income student credit_rating class_buys_computer\n",
       "0    youth    high      no          fair                  no\n",
       "1    youth    high      no     excellent                  no\n",
       "3   senior  medium      no          fair                 yes\n",
       "4   senior     low     yes          fair                 yes\n",
       "5   senior     low     yes     excellent                  no\n",
       "7    youth  medium      no          fair                  no\n",
       "8    youth     low     yes          fair                 yes\n",
       "9   senior  medium     yes          fair                 yes\n",
       "10   youth  medium     yes     excellent                 yes\n",
       "13  senior  medium      no     excellent                  no"
      ]
     },
     "execution_count": 195,
     "metadata": {},
     "output_type": "execute_result"
    }
   ],
   "source": [
    "df_sy"
   ]
  },
  {
   "cell_type": "markdown",
   "metadata": {},
   "source": [
    "##### Senior, Youth DataFrame의 경우 student 변수의 gini index가 0.32로 나머지 변수에 비해 가장 낮음."
   ]
  }
 ],
 "metadata": {
  "kernelspec": {
   "display_name": "Python 3",
   "language": "python",
   "name": "python3"
  },
  "language_info": {
   "codemirror_mode": {
    "name": "ipython",
    "version": 3
   },
   "file_extension": ".py",
   "mimetype": "text/x-python",
   "name": "python",
   "nbconvert_exporter": "python",
   "pygments_lexer": "ipython3",
   "version": "3.8.3"
  }
 },
 "nbformat": 4,
 "nbformat_minor": 4
}
