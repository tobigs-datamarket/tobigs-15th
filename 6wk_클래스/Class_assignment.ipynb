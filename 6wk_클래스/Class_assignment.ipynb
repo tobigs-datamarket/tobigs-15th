{
 "cells": [
  {
   "cell_type": "markdown",
   "id": "great-producer",
   "metadata": {},
   "source": [
    "# Class 과제\n",
    "\n",
    "`Class` 를 연습할 겸 평소에 관심있었던 프로젝트를 실행해 보려고 합니다.\n",
    "\n",
    "\n",
    "## SOLID 원칙\n",
    "\n",
    "`SOLID` 원칙이란 다음 원칙을 포함한다.\n",
    "[이 포스팅](https://dev-momo.tistory.com/entry/SOLID-%EC%9B%90%EC%B9%99) 을 참고했습니다.\n",
    "\n",
    "- Single Responsibility Principle (단일 책임 원칙) : 하나의 클래스는 하나의 기능만을 가지고 있어야 한다.\n",
    "- Open-Closed Principle (개방-폐쇄 원칙) : 기존 코드를 변경하지 않고 기능을 수정하거나 추가할 수 있도록 설계해야 한다. (인터페이스 형식을 사용)\n",
    "- Liskov Substitution Principle(리스코프 치환 원칙) : 자식 클래스의 인스턴스는 부모 클래스의 인스턴스의 모든 요소를 포함해야 한다.\n",
    "- Interface Segregation Principle(인터페이스 분리 원칙) : 자신이 사용하지 않는 기능에는 영향을 받지 말아야 한다.\n",
    "- Dependency Inversion Principle(의존 역전 원칙) : 의존관계에서는 추상 클래스 (변하기 어려운 클래스) 의 영향을 받아야 한다.\n",
    "\n",
    "## 개요\n",
    "딥러닝 모델을 학습할 때 학습 결과를 출력하는 출력기를 만들어 보려고 한다.\n",
    "\n",
    "이 프로젝트는 다음과 같은 클래스를 가지고 있다.\n",
    "\n",
    "- `HistoryPrinter` : 제시된 클래스를 모두 실행하는 클래스\n",
    "- `BasicPrinter` : 기본 클래스 (인터페이스 클래스). 아래의 모든 클래스는 이 클래스를 상속받는다.\n",
    "- `AccuracyPrinter` : 정확도를 출력하는 클래스\n",
    "- `LossPrinter` : 손실값을 출력하는 클래스\n",
    "- `EpochPrinter` : 현재 Epoch와 전체 Epoch을 출력하는 클래스\n",
    "- `EpochWithPercentagePrinter` : 현재 Epoch와 진행률을 함께 출력하는 클래스\n",
    "- `BatchPrinter` : 현재 데이터 정보와 전체 데이터셋의 길이를 출력하는 클래스\n",
    "- `BatchWithPercentagePrinter` : 현재 데이터 정보와 전체 데이터셋의 길이, 진행률까지 함께 출력하는 클래스"
   ]
  },
  {
   "cell_type": "code",
   "execution_count": 329,
   "id": "latin-print",
   "metadata": {},
   "outputs": [],
   "source": [
    "# 기본이 되는 클래스 생성 : OCP원칙\n",
    "class BasicPrinter:\n",
    "    def __init__(self, isTrain = True):\n",
    "        self.isTrain = isTrain\n",
    "    \n",
    "    def __repr__(self): # 매직 메소드들을 사용해 보겠습니다.\n",
    "        return f\"HistroyPrinter()\""
   ]
  },
  {
   "cell_type": "code",
   "execution_count": 330,
   "id": "transsexual-advantage",
   "metadata": {},
   "outputs": [],
   "source": [
    "# EpochPrinter 생성\n",
    "class EpochPrinter(BasicPrinter): # BasicPrinter를 상속 받아서 생성\n",
    "    \n",
    "    def __init__(self, totalEpoch, isTrain = True): # 부모 메소드를 오버라이딩\n",
    "        super().__init__(isTrain)\n",
    "        self.nowEpoch = None\n",
    "        self.totalEpoch = totalEpoch\n",
    "    \n",
    "    def __repr__(self):\n",
    "        return \"EpochPrinter()\" # 기본 클래스를 오버라이딩해서 덮어 씀\n",
    "    \n",
    "    \n",
    "    def show(self, **kwargs): # 로그를 표시합니다. 추후 확장을 고려하여 keyword Arguments 속성을 사용하여 인자를 받겠습니다.\n",
    "        self.nowEpoch = kwargs[\"nowEpoch\"]\n",
    "        if self.isTrain:    \n",
    "            return f\"Epoch : [{self.nowEpoch} / {self.totalEpoch}]\"\n",
    "        else:\n",
    "            return f\"Epoch {self.nowEpoch} Test\"\n",
    "        "
   ]
  },
  {
   "cell_type": "code",
   "execution_count": 331,
   "id": "surprising-daughter",
   "metadata": {},
   "outputs": [],
   "source": [
    "# EpochWithPercentage 생성\n",
    "class EpochWithPercentagePrinter(BasicPrinter):\n",
    "    \n",
    "    def __init__(self, totalEpoch, isTrain = True):\n",
    "        super().__init__(isTrain)\n",
    "        self.nowEpoch = None\n",
    "        self.totalEpoch = totalEpoch\n",
    "        \n",
    "    def __repr__(self):\n",
    "        return \"EpochWithPercentagePrinter()\"\n",
    "    \n",
    "    \n",
    "    def show(self, **kwargs):\n",
    "        self.nowEpoch = kwargs[\"nowEpoch\"]\n",
    "        if self.isTrain:\n",
    "            return f\"Epoch : [{self.nowEpoch} / {self.totalEpoch}]({self.nowEpoch / self.totalEpoch * 100:0.1f}%)\"\n",
    "        else:\n",
    "            return f\"Epoch {self.nowEpoch}({self.nowEpoch / self.totalEpoch * 100:0.1f}%) Test\"\n",
    "        "
   ]
  },
  {
   "cell_type": "code",
   "execution_count": 332,
   "id": "certain-albany",
   "metadata": {},
   "outputs": [],
   "source": [
    "# AccuracyPrinter 생성\n",
    "class AccuracyPrinter(BasicPrinter):\n",
    "    \n",
    "    def __init__(self, isTrain = True):\n",
    "        super().__init__(isTrain)\n",
    "        \n",
    "    def __repr__(self):\n",
    "        return \"AccuracyPrinter()\" \n",
    "    \n",
    "    def show(self, **kwargs):\n",
    "        \n",
    "        output = kwargs[\"output\"] # keyword argument 딕셔너리 안의 속성을 꺼내서 쓸 수 있습니다.\n",
    "        label = kwargs[\"label\"]\n",
    "        \n",
    "        # 정확도 계산\n",
    "        correct = 0 \n",
    "        prediction = output.max(1, keepdim=True)[1]\n",
    "        correct += prediction.eq(label.view_as(prediction)).sum().item()\n",
    "        accuracy = 100. * correct / len(prediction)\n",
    "        \n",
    "        return f\"Accuracy : [{accuracy:.3f}%]\"\n",
    "        "
   ]
  },
  {
   "cell_type": "code",
   "execution_count": 333,
   "id": "military-liverpool",
   "metadata": {},
   "outputs": [],
   "source": [
    "# LossPrinter 생성\n",
    "class LossPrinter(BasicPrinter):\n",
    "    \n",
    "    def __init__(self, lossFunc, isTrain = True):\n",
    "        super().__init__(isTrain)\n",
    "        self.lossFunc = lossFunc\n",
    "        \n",
    "    def __repr__(self):\n",
    "        return f\"LossPrinter(lossFunc = {self.lossFunc})\" # 현재 lossFunc 파라미터를 같이 표시했습니다.\n",
    "    \n",
    "    def show(self, **kwargs):\n",
    "        output = kwargs[\"output\"]\n",
    "        label = kwargs[\"label\"]\n",
    "        \n",
    "        loss = self.lossFunc(output, label)\n",
    "        return f\"Loss : [{loss.item():.6f}]\"\n",
    "        \n",
    "    "
   ]
  },
  {
   "cell_type": "code",
   "execution_count": 334,
   "id": "graphic-invitation",
   "metadata": {},
   "outputs": [],
   "source": [
    "# BatchPrinter 생성\n",
    "class BatchPrinter(BasicPrinter):\n",
    "    \n",
    "    def __init__(self, isTrain = True):\n",
    "        super().__init__(isTrain)\n",
    "        \n",
    "    def __repr__(self):\n",
    "        return f\"BatchPrinter()\"\n",
    "    \n",
    "    def show(self, **kwargs): # 전체 데이터의 길이와 현재 데이터의 번호를 받아서 표시합니다.\n",
    "        idx = kwargs[\"index\"]\n",
    "        total = kwargs[\"totalLen\"]\n",
    "    \n",
    "        return f\"Proceeding.. [{idx} / {total}]\"\n",
    "    "
   ]
  },
  {
   "cell_type": "code",
   "execution_count": 335,
   "id": "deluxe-lawsuit",
   "metadata": {},
   "outputs": [],
   "source": [
    "# BatchWithPercentagePrinter 생성\n",
    "class BatchWithPercentagePrinter(BasicPrinter):\n",
    "    \n",
    "    def __init__(self, isTrain = True):\n",
    "        super().__init__(isTrain)\n",
    "        \n",
    "    def __repr__(self):\n",
    "        return f\"BatchWithPercentagePrinter()\"\n",
    "    \n",
    "    def show(self, **kwargs):\n",
    "        idx = kwargs[\"index\"]\n",
    "        total = kwargs[\"totalLen\"]\n",
    "    \n",
    "        return f\"Proceeding.. [{idx} / {total}]({100. * idx / total:.3f}%)\"\n",
    "    "
   ]
  },
  {
   "cell_type": "code",
   "execution_count": 336,
   "id": "funky-world",
   "metadata": {},
   "outputs": [],
   "source": [
    "# HistoryPrinter 생성 -> 전체 학습률을 출력하는 클래스입니다.\n",
    "class HistoryLogger():\n",
    "    def __init__(self, printerList, isTrain=True): \n",
    "        self.printerList = printerList\n",
    "        \n",
    "        if not isTrain: # 만약 생성시에 evaluate 전용으로 생성했다면 내부 클래스들의 isTrain속성을 False 로 설정합니다.\n",
    "            self.setTrain(isTrain)\n",
    "            \n",
    "    def __repr__(self):\n",
    "        return \"HistoryPrinter()\" \n",
    "    \n",
    "    \n",
    "    def allStackedPrinter(self): # 현재 연결되어있는 전체 프린터의 목록을 출력하는 메소드\n",
    "        for i, printer in enumerate(self.printerList):\n",
    "            print(f\"Printer #{i} : {printer}\")\n",
    "    \n",
    "\n",
    "    def setTrain(self, isTrain): # 모델의 isTrain설정을 변경합니다.\n",
    "        self.isTrain = isTrain\n",
    "        \n",
    "        for printer in self.printerList: # printerList에 있는 모든 리스트의 속성을 변경합니다.\n",
    "            printer.isTrain = isTrain\n",
    "\n",
    "\n",
    "    def show(self,**kwargs):\n",
    "        for printer in self.printerList:\n",
    "            if printer == self.printerList[-1]: # 마지막 출력기이면 줄을 분리합니다.\n",
    "                print(printer.show(**kwargs), end='\\n')\n",
    "            else:\n",
    "                print(printer.show(**kwargs), end='\\t') # 마지막 출력기가 아니면 탭 간격으로 띄어씁니다.\n",
    "        "
   ]
  },
  {
   "cell_type": "markdown",
   "id": "single-kazakhstan",
   "metadata": {},
   "source": [
    "## 테스트 코드\n",
    "\n",
    "파이토치를 임포트해서 MNIST 데이터를 훈련시켜 보고 학습률을 출력해 봅니다.\n",
    "\n",
    "코드는 `파이썬 딥러닝 파이토치` 책의 튜토리얼 코드를 참고했습니다."
   ]
  },
  {
   "cell_type": "code",
   "execution_count": 337,
   "id": "radical-begin",
   "metadata": {},
   "outputs": [],
   "source": [
    "# 모듈 임포트\n",
    "import numpy as np\n",
    "import matplotlib.pyplot as plt\n",
    "import torch\n",
    "import torch.nn as nn\n",
    "import torch.nn.functional as F\n",
    "from torchvision import transforms, datasets\n",
    "\n",
    "DEVICE = torch.device('cpu')\n",
    "BATCH_SIZE = 32\n",
    "EPOCHS = 3"
   ]
  },
  {
   "cell_type": "code",
   "execution_count": 338,
   "id": "solid-virtue",
   "metadata": {},
   "outputs": [],
   "source": [
    "# MNIST 데이터 다운로드\n",
    "train_dataset = datasets.MNIST(root = '../data/MNIST', train= True, transform = transforms.ToTensor())\n",
    "test_dataset = datasets.MNIST(root = '../data/MNIST', train= False, transform = transforms.ToTensor())\n",
    "\n",
    "train_loader = torch.utils.data.DataLoader(dataset = train_dataset, batch_size=BATCH_SIZE, shuffle=True)\n",
    "test_loader = torch.utils.data.DataLoader(dataset = test_dataset, batch_size=BATCH_SIZE, shuffle=False)"
   ]
  },
  {
   "cell_type": "code",
   "execution_count": 339,
   "id": "marked-burden",
   "metadata": {},
   "outputs": [],
   "source": [
    "# 모델 정의\n",
    "class Net(nn.Module): \n",
    "    def __init__(self):\n",
    "        super().__init__()\n",
    "        self.fc1 = nn.Linear(28 * 28, 512)\n",
    "        self.fc2 = nn.Linear(512, 256)\n",
    "        self.fc3 = nn.Linear(256, 10)\n",
    "        \n",
    "    def forward(self, X):\n",
    "        x = X.view(-1, 28*28)\n",
    "        x = self.fc1(x)\n",
    "        x = F.sigmoid(x)\n",
    "        x = self.fc2(x)\n",
    "        x = F.sigmoid(x)\n",
    "        x = self.fc3(x)\n",
    "        x = F.log_softmax(x, dim = 1)\n",
    "        return x"
   ]
  },
  {
   "cell_type": "code",
   "execution_count": 340,
   "id": "silver-seven",
   "metadata": {},
   "outputs": [],
   "source": [
    "# 모델과 최적화, 손실함수 생성\n",
    "model = Net().to(DEVICE)\n",
    "optimizer = torch.optim.SGD(model.parameters(), lr = 0.01)\n",
    "lossFunc = nn.CrossEntropyLoss()"
   ]
  },
  {
   "cell_type": "markdown",
   "id": "worldwide-pollution",
   "metadata": {},
   "source": [
    "## 위에서 생성한 클래스를 통해 Logger 생성"
   ]
  },
  {
   "cell_type": "code",
   "execution_count": 341,
   "id": "prime-running",
   "metadata": {},
   "outputs": [],
   "source": [
    "# 1. 로그를 찍어보고 싶은 항목들을 배열에 담습니다.\n",
    "loggers = [\n",
    "    EpochWithPercentagePrinter(totalEpoch = EPOCHS),\n",
    "    BatchWithPercentagePrinter(),\n",
    "    AccuracyPrinter(),\n",
    "    LossPrinter(lossFunc = lossFunc)\n",
    "]\n",
    "\n",
    "# 2. 이렇게 담은 배열을 사용하여 전체 Logger 클래스를 정의합니다.\n",
    "logger = HistoryLogger(printerList = loggers, isTrain=True)"
   ]
  },
  {
   "cell_type": "code",
   "execution_count": 342,
   "id": "stuffed-transport",
   "metadata": {},
   "outputs": [
    {
     "data": {
      "text/plain": [
       "HistoryPrinter()"
      ]
     },
     "execution_count": 342,
     "metadata": {},
     "output_type": "execute_result"
    }
   ],
   "source": [
    "logger # __repr__ 때문에 수정된 화면을 확인할 수 있습니다."
   ]
  },
  {
   "cell_type": "code",
   "execution_count": 343,
   "id": "breathing-comparative",
   "metadata": {},
   "outputs": [
    {
     "name": "stdout",
     "output_type": "stream",
     "text": [
      "Printer #0 : EpochWithPercentagePrinter()\n",
      "Printer #1 : BatchWithPercentagePrinter()\n",
      "Printer #2 : AccuracyPrinter()\n",
      "Printer #3 : LossPrinter(lossFunc = CrossEntropyLoss())\n"
     ]
    }
   ],
   "source": [
    "# 담긴 Printer의 리스트는 allStackedPrinter()로 출력합니다.\n",
    "logger.allStackedPrinter()"
   ]
  },
  {
   "cell_type": "code",
   "execution_count": 344,
   "id": "behavioral-retention",
   "metadata": {},
   "outputs": [
    {
     "name": "stdout",
     "output_type": "stream",
     "text": [
      "Epoch : [1 / 3](33.3%)\tProceeding.. [1 / 1000](0.100%)\tAccuracy : [0.000%]\tLoss : [1.171101]\n"
     ]
    }
   ],
   "source": [
    "# 3. 로그는 다음과 같이 사용합니다.\n",
    "logger.show(nowEpoch = 1, output = torch.Tensor([[0.9,0.1]]), label = torch.Tensor([1]).long(), index = 1, totalLen = 1000)"
   ]
  },
  {
   "cell_type": "markdown",
   "id": "revised-directive",
   "metadata": {},
   "source": [
    "이 클래스를 실제 학습시에 사용하면 다음과 같은 형태로 사용합니다."
   ]
  },
  {
   "cell_type": "code",
   "execution_count": 345,
   "id": "changing-mixture",
   "metadata": {},
   "outputs": [],
   "source": [
    "# 학습용 함수 생성\n",
    "def train(model, train_loader, optimizer, log_interval):\n",
    "    model.train()\n",
    "    \n",
    "    for batch_idx, (image,label) in enumerate(train_loader):\n",
    "        image = image.to(DEVICE)\n",
    "        label = label.to(DEVICE)\n",
    "        \n",
    "        optimizer.zero_grad()\n",
    "        output = model(image)\n",
    "        \n",
    "        loss = lossFunc(output, label)\n",
    "        loss.backward()\n",
    "        optimizer.step()\n",
    "        \n",
    "        if batch_idx % log_interval == 0: # log_interval 주기마다 실시합니다.\n",
    "            \n",
    "            # 처음 설정할 때 연결한 모듈에서 필요한 모든 파라미터를 넘겨줍니다.\n",
    "            logger.show(nowEpoch = Epoch, output = output, label = label, index = batch_idx * len(image), totalLen = len(train_loader.dataset))\n",
    "            \n",
    "            "
   ]
  },
  {
   "cell_type": "code",
   "execution_count": 346,
   "id": "cross-grenada",
   "metadata": {
    "scrolled": true
   },
   "outputs": [
    {
     "data": {
      "text/plain": [
       "HistoryPrinter()"
      ]
     },
     "execution_count": 346,
     "metadata": {},
     "output_type": "execute_result"
    }
   ],
   "source": [
    "# Evaluation 용 Logger는 다음과 같이 만듭니다.\n",
    "loggers = [\n",
    "    EpochPrinter(totalEpoch = EPOCHS),\n",
    "    AccuracyPrinter(),   \n",
    "]\n",
    "\n",
    "# isTrain이 False인 경우 평가용 텍스트가 따로 출력됩니다.\n",
    "testLogger = HistoryLogger(printerList = loggers, isTrain=False)\n",
    "testLogger"
   ]
  },
  {
   "cell_type": "code",
   "execution_count": 347,
   "id": "completed-browse",
   "metadata": {},
   "outputs": [],
   "source": [
    "# 평가용 메소드\n",
    "def evaluate(model, test_loader):\n",
    "    model.eval()\n",
    "    \n",
    "    with torch.no_grad():\n",
    "        for image, label in test_loader:\n",
    "            image = image.to(DEVICE)\n",
    "            label = label.to(DEVICE)\n",
    "            output = model(image)\n",
    "            \n",
    "        testLogger.show(nowEpoch = Epoch, output = output, label = label)"
   ]
  },
  {
   "cell_type": "code",
   "execution_count": 348,
   "id": "suitable-freight",
   "metadata": {},
   "outputs": [
    {
     "name": "stdout",
     "output_type": "stream",
     "text": [
      "Epoch : [1 / 3](33.3%)\tProceeding.. [0 / 60000](0.000%)\tAccuracy : [3.125%]\tLoss : [2.395083]\n",
      "Epoch : [1 / 3](33.3%)\tProceeding.. [6400 / 60000](10.667%)\tAccuracy : [18.750%]\tLoss : [2.302021]\n",
      "Epoch : [1 / 3](33.3%)\tProceeding.. [12800 / 60000](21.333%)\tAccuracy : [6.250%]\tLoss : [2.306310]\n",
      "Epoch : [1 / 3](33.3%)\tProceeding.. [19200 / 60000](32.000%)\tAccuracy : [3.125%]\tLoss : [2.312098]\n",
      "Epoch : [1 / 3](33.3%)\tProceeding.. [25600 / 60000](42.667%)\tAccuracy : [15.625%]\tLoss : [2.281388]\n",
      "Epoch : [1 / 3](33.3%)\tProceeding.. [32000 / 60000](53.333%)\tAccuracy : [6.250%]\tLoss : [2.330054]\n",
      "Epoch : [1 / 3](33.3%)\tProceeding.. [38400 / 60000](64.000%)\tAccuracy : [18.750%]\tLoss : [2.310244]\n",
      "Epoch : [1 / 3](33.3%)\tProceeding.. [44800 / 60000](74.667%)\tAccuracy : [12.500%]\tLoss : [2.249013]\n",
      "Epoch : [1 / 3](33.3%)\tProceeding.. [51200 / 60000](85.333%)\tAccuracy : [21.875%]\tLoss : [2.330101]\n",
      "Epoch : [1 / 3](33.3%)\tProceeding.. [57600 / 60000](96.000%)\tAccuracy : [9.375%]\tLoss : [2.290149]\n",
      "Epoch 1 Test\tAccuracy : [18.750%]\n",
      "Epoch : [2 / 3](66.7%)\tProceeding.. [0 / 60000](0.000%)\tAccuracy : [15.625%]\tLoss : [2.286017]\n",
      "Epoch : [2 / 3](66.7%)\tProceeding.. [6400 / 60000](10.667%)\tAccuracy : [18.750%]\tLoss : [2.245252]\n",
      "Epoch : [2 / 3](66.7%)\tProceeding.. [12800 / 60000](21.333%)\tAccuracy : [40.625%]\tLoss : [2.240474]\n",
      "Epoch : [2 / 3](66.7%)\tProceeding.. [19200 / 60000](32.000%)\tAccuracy : [15.625%]\tLoss : [2.293533]\n",
      "Epoch : [2 / 3](66.7%)\tProceeding.. [25600 / 60000](42.667%)\tAccuracy : [9.375%]\tLoss : [2.279486]\n",
      "Epoch : [2 / 3](66.7%)\tProceeding.. [32000 / 60000](53.333%)\tAccuracy : [15.625%]\tLoss : [2.281525]\n",
      "Epoch : [2 / 3](66.7%)\tProceeding.. [38400 / 60000](64.000%)\tAccuracy : [12.500%]\tLoss : [2.280412]\n",
      "Epoch : [2 / 3](66.7%)\tProceeding.. [44800 / 60000](74.667%)\tAccuracy : [15.625%]\tLoss : [2.274979]\n",
      "Epoch : [2 / 3](66.7%)\tProceeding.. [51200 / 60000](85.333%)\tAccuracy : [31.250%]\tLoss : [2.227204]\n",
      "Epoch : [2 / 3](66.7%)\tProceeding.. [57600 / 60000](96.000%)\tAccuracy : [12.500%]\tLoss : [2.249473]\n",
      "Epoch 2 Test\tAccuracy : [18.750%]\n",
      "Epoch : [3 / 3](100.0%)\tProceeding.. [0 / 60000](0.000%)\tAccuracy : [9.375%]\tLoss : [2.272160]\n",
      "Epoch : [3 / 3](100.0%)\tProceeding.. [6400 / 60000](10.667%)\tAccuracy : [50.000%]\tLoss : [2.185785]\n",
      "Epoch : [3 / 3](100.0%)\tProceeding.. [12800 / 60000](21.333%)\tAccuracy : [28.125%]\tLoss : [2.192821]\n",
      "Epoch : [3 / 3](100.0%)\tProceeding.. [19200 / 60000](32.000%)\tAccuracy : [34.375%]\tLoss : [2.150778]\n",
      "Epoch : [3 / 3](100.0%)\tProceeding.. [25600 / 60000](42.667%)\tAccuracy : [37.500%]\tLoss : [2.086737]\n",
      "Epoch : [3 / 3](100.0%)\tProceeding.. [32000 / 60000](53.333%)\tAccuracy : [40.625%]\tLoss : [2.087799]\n",
      "Epoch : [3 / 3](100.0%)\tProceeding.. [38400 / 60000](64.000%)\tAccuracy : [53.125%]\tLoss : [2.049550]\n",
      "Epoch : [3 / 3](100.0%)\tProceeding.. [44800 / 60000](74.667%)\tAccuracy : [34.375%]\tLoss : [1.993505]\n",
      "Epoch : [3 / 3](100.0%)\tProceeding.. [51200 / 60000](85.333%)\tAccuracy : [31.250%]\tLoss : [1.966904]\n",
      "Epoch : [3 / 3](100.0%)\tProceeding.. [57600 / 60000](96.000%)\tAccuracy : [37.500%]\tLoss : [1.946931]\n",
      "Epoch 3 Test\tAccuracy : [43.750%]\n"
     ]
    }
   ],
   "source": [
    "# 학습 진행\n",
    "for Epoch in range(1, EPOCHS + 1):\n",
    "    train(model, train_loader, optimizer, log_interval=200)\n",
    "    evaluate(model, test_loader)"
   ]
  },
  {
   "cell_type": "markdown",
   "id": "demonstrated-automation",
   "metadata": {},
   "source": [
    "# 왜 이 클래스가 SOLID 원칙을 만족하는가\n",
    "\n",
    "이 프로젝트(모듈)은 SOLID 원칙을 준수하며 설계하려고 노력했습니다. 왜 이를 만족하는지 SOLID의 다섯 가지 원칙을 살펴보며 확인해 보려고 합니다.\n",
    "\n",
    "1. Single Responsibility Principle(단일 책임 원칙)\n",
    "\n",
    "단일 책임 원칙이란, 하나의 클래스는 하나의 기능만을 가지는 원칙입니다.\n",
    "제 프로젝트의 클래스들은 각각이 출력하는 내용으로 명확히 구분되어 있습니다.(예를 들어 `Accuracy` 를 출력하는 클래스와 `Loss` 를 출력하는 클래스가 따로 있습니다.\n",
    "또한 `HistoryLogger` 클래스는 비슷한 클래스가 없어서 독립적인 책임을 갖는다고 할 수 있습니다.\n",
    "\n",
    "2. Open-Closed Principle(개방-폐쇄 원칙)\n",
    "\n",
    "개방-폐쇄 원칙이란 기존의 코드를 변경하지 않고 기능을 수정하거나 추가할 수 있도록 설계해야 한다는 원칙입니다.\n",
    "\n",
    "제 프로젝트의 Printer 클래스들은, 내용 수정이 필요할 시 해당 클래스의 `show()` 메소드만 수정하면 됩니다. 이를 위한 다른 기능들은 수정할 필요가 없습니다. 따라서 개방-폐쇄 원칙을 만족한다고 할 수 있습니다.\n",
    "\n",
    "3. LisKov Substitution Principle(리스코프 치환 법칙)\n",
    "리스코프 치환 원칙은 부모 클래스에서 가능한 행위를 수행할 수 있어야 한다는 원칙입니다.\n",
    "\n",
    "제 프로젝트의 자식 클래스들은 상속받은 부모 클래스의 메소드들을 모두 오류 없이 실행 가능하므로 이를 만족한다고 할 수 있습니다.\n",
    "\n",
    "4. Dependency Inversion Principle(의존 역전 원칙)\n",
    "\n",
    "의존관계를 맺을 때 구체적인 클래스보다 추상적인 클래스와 관계를 맺는다는 원칙입니다.\n",
    "\n",
    "제 프로젝트의 Printer 클래스들은 모두 기본이 되는 `BasicPrinter` 추상 클래스를 상속받아 실행되기 때문에 이를 만족한다고 할 수 있습니다.\n",
    "\n",
    "5. "
   ]
  },
  {
   "cell_type": "code",
   "execution_count": null,
   "id": "traditional-classics",
   "metadata": {},
   "outputs": [],
   "source": []
  }
 ],
 "metadata": {
  "kernelspec": {
   "display_name": "python3.9",
   "language": "python",
   "name": "python3"
  },
  "language_info": {
   "codemirror_mode": {
    "name": "ipython",
    "version": 3
   },
   "file_extension": ".py",
   "mimetype": "text/x-python",
   "name": "python",
   "nbconvert_exporter": "python",
   "pygments_lexer": "ipython3",
   "version": "3.9.1"
  }
 },
 "nbformat": 4,
 "nbformat_minor": 5
}
