{
 "cells": [
  {
   "cell_type": "markdown",
   "metadata": {
    "id": "7eUp8l-erxno"
   },
   "source": [
    "# Assignment1 Tobigs15th 이성범"
   ]
  },
  {
   "cell_type": "markdown",
   "metadata": {
    "id": "K5BAo-DTrxnr"
   },
   "source": [
    "## Matrix 구현 \n",
    "1. Linear Regression 에서 쓰이는 **정규방정식**을 행렬로 구현하고, sklearn 혹은 OLS 패키지를 통해 구한 **실제 값과 비교**해 주세요 \n",
    "2. LSE에서 쓰이는 Loss Function, **MSE**를 행렬로 구현해 출력해 주세요 "
   ]
  },
  {
   "cell_type": "markdown",
   "metadata": {
    "id": "2fq7mDNOrxns"
   },
   "source": [
    "### Data Load "
   ]
  },
  {
   "cell_type": "code",
   "execution_count": null,
   "metadata": {
    "id": "CEvRTNegrxns"
   },
   "outputs": [],
   "source": [
    "import pandas as pd \n",
    "data = pd.read_csv(\"assignment1.csv\")"
   ]
  },
  {
   "cell_type": "code",
   "execution_count": null,
   "metadata": {
    "id": "M482o1BIrxnt",
    "outputId": "84713cb0-26a7-4b72-ddcd-4365ae1ffad8"
   },
   "outputs": [
    {
     "data": {
      "text/html": [
       "<div>\n",
       "<style scoped>\n",
       "    .dataframe tbody tr th:only-of-type {\n",
       "        vertical-align: middle;\n",
       "    }\n",
       "\n",
       "    .dataframe tbody tr th {\n",
       "        vertical-align: top;\n",
       "    }\n",
       "\n",
       "    .dataframe thead th {\n",
       "        text-align: right;\n",
       "    }\n",
       "</style>\n",
       "<table border=\"1\" class=\"dataframe\">\n",
       "  <thead>\n",
       "    <tr style=\"text-align: right;\">\n",
       "      <th></th>\n",
       "      <th>y</th>\n",
       "      <th>x1</th>\n",
       "      <th>x2</th>\n",
       "      <th>x3</th>\n",
       "      <th>x4</th>\n",
       "      <th>x5</th>\n",
       "    </tr>\n",
       "  </thead>\n",
       "  <tbody>\n",
       "    <tr>\n",
       "      <th>0</th>\n",
       "      <td>10</td>\n",
       "      <td>38.9</td>\n",
       "      <td>64.7</td>\n",
       "      <td>4</td>\n",
       "      <td>868</td>\n",
       "      <td>59.7</td>\n",
       "    </tr>\n",
       "    <tr>\n",
       "      <th>1</th>\n",
       "      <td>13</td>\n",
       "      <td>41.6</td>\n",
       "      <td>45.3</td>\n",
       "      <td>-4</td>\n",
       "      <td>957</td>\n",
       "      <td>61.4</td>\n",
       "    </tr>\n",
       "    <tr>\n",
       "      <th>2</th>\n",
       "      <td>11</td>\n",
       "      <td>39.7</td>\n",
       "      <td>74.1</td>\n",
       "      <td>8</td>\n",
       "      <td>786</td>\n",
       "      <td>61.0</td>\n",
       "    </tr>\n",
       "    <tr>\n",
       "      <th>3</th>\n",
       "      <td>7</td>\n",
       "      <td>37.3</td>\n",
       "      <td>48.0</td>\n",
       "      <td>19</td>\n",
       "      <td>984</td>\n",
       "      <td>67.5</td>\n",
       "    </tr>\n",
       "    <tr>\n",
       "      <th>4</th>\n",
       "      <td>10</td>\n",
       "      <td>39.5</td>\n",
       "      <td>51.9</td>\n",
       "      <td>6</td>\n",
       "      <td>700</td>\n",
       "      <td>57.2</td>\n",
       "    </tr>\n",
       "  </tbody>\n",
       "</table>\n",
       "</div>"
      ],
      "text/plain": [
       "    y    x1    x2  x3   x4    x5\n",
       "0  10  38.9  64.7   4  868  59.7\n",
       "1  13  41.6  45.3  -4  957  61.4\n",
       "2  11  39.7  74.1   8  786  61.0\n",
       "3   7  37.3  48.0  19  984  67.5\n",
       "4  10  39.5  51.9   6  700  57.2"
      ]
     },
     "execution_count": 2,
     "metadata": {
      "tags": []
     },
     "output_type": "execute_result"
    }
   ],
   "source": [
    "data.head()"
   ]
  },
  {
   "cell_type": "code",
   "execution_count": null,
   "metadata": {
    "id": "Hrqun8Torxnt",
    "outputId": "15526338-1306-43aa-9083-eafe46b5a369"
   },
   "outputs": [
    {
     "data": {
      "text/plain": [
       "(9, 6)"
      ]
     },
     "execution_count": 3,
     "metadata": {
      "tags": []
     },
     "output_type": "execute_result"
    }
   ],
   "source": [
    "data.shape # y:(9,1), X:(9,5)"
   ]
  },
  {
   "cell_type": "code",
   "execution_count": null,
   "metadata": {
    "id": "M2GDxiyjrxnu"
   },
   "outputs": [],
   "source": [
    "X = data.drop([\"y\"], axis=1)\n",
    "y = data.y"
   ]
  },
  {
   "cell_type": "code",
   "execution_count": null,
   "metadata": {
    "id": "TvxPDewprxnv"
   },
   "outputs": [],
   "source": [
    "# matrix 계산을 위해 numpy 형태로 바꾸어 줍니다 \n",
    "X = X.to_numpy()\n",
    "y = y.to_numpy()"
   ]
  },
  {
   "cell_type": "code",
   "execution_count": null,
   "metadata": {
    "id": "PNqEus_Lrxnv",
    "outputId": "131ef053-0a43-4790-f205-fef99a0f8597"
   },
   "outputs": [
    {
     "data": {
      "text/plain": [
       "array([[  38.9,   64.7,    4. ,  868. ,   59.7],\n",
       "       [  41.6,   45.3,   -4. ,  957. ,   61.4],\n",
       "       [  39.7,   74.1,    8. ,  786. ,   61. ],\n",
       "       [  37.3,   48. ,   19. ,  984. ,   67.5],\n",
       "       [  39.5,   51.9,    6. ,  700. ,   57.2],\n",
       "       [  37.4,   53.6,   -5. , 1037. ,   58.8],\n",
       "       [  35.1,   71.4,    3. ,  986. ,   58.6],\n",
       "       [  38.8,   58.3,    6. ,  819. ,   59.2],\n",
       "       [  36.6,   52.6,  -19. ,  791. ,   54.4]])"
      ]
     },
     "execution_count": 6,
     "metadata": {
      "tags": []
     },
     "output_type": "execute_result"
    }
   ],
   "source": [
    "X"
   ]
  },
  {
   "cell_type": "code",
   "execution_count": null,
   "metadata": {
    "id": "n7FF2-Hmrxnv",
    "outputId": "38f243f2-ae92-40be-c786-52693c9d0051"
   },
   "outputs": [
    {
     "data": {
      "text/plain": [
       "array([10, 13, 11,  7, 10,  9,  9,  6,  5], dtype=int64)"
      ]
     },
     "execution_count": 7,
     "metadata": {
      "tags": []
     },
     "output_type": "execute_result"
    }
   ],
   "source": [
    "y"
   ]
  },
  {
   "cell_type": "markdown",
   "metadata": {
    "id": "dDzC-1Zcrxnw"
   },
   "source": [
    "### 1. Normal Equation\n",
    "\n",
    "## $\\hat{\\beta} = (X^{T}X)^{-1}X^{T}y $"
   ]
  },
  {
   "cell_type": "code",
   "execution_count": null,
   "metadata": {
    "id": "beJyJ3aFrxnw"
   },
   "outputs": [],
   "source": [
    "import numpy as np\n",
    "from numpy.linalg import inv "
   ]
  },
  {
   "cell_type": "code",
   "execution_count": null,
   "metadata": {
    "id": "EUSNH8Uprxnx"
   },
   "outputs": [],
   "source": [
    "def estimate_beta(X, y):\n",
    "    # np.ones((len(y), 1)) : 관측치 개수(len(y)) 만큼의 1로 채워진 행렬을 만듬 -> x0 즉 절편을 구하기 위한 새로운 변수임\n",
    "    # np.concatenate([np.ones((len(y), 1)), X] : x0과 X를 합쳐서 새로운 (9,6)의 X 행렬을 만듬\n",
    "    designX = np.concatenate([np.ones((len(y), 1)), X], axis=1)\n",
    "    \n",
    "    # 정규방정식 구현\n",
    "    # 1. np.dot(designX.T, designX) : 전치한 X 행렬과 X를 곱함\n",
    "    # 2. inv(np.dot(designX.T, designX)) : 1번 식의 역행렬을 구함\n",
    "    # 3. np.dot(inv(np.dot(designX.T, designX)), designX.T) : 역행렬과 전치한 X를 곱함\n",
    "    # 4. np.dot(np.dot(inv(np.dot(designX.T, designX)), designX.T), y) : 3번 식으로 구한 행렬과 y를 곱함\n",
    "    beta_hat = np.dot(np.dot(inv(np.dot(designX.T, designX)), designX.T), y)\n",
    "    \n",
    "    return beta_hat"
   ]
  },
  {
   "cell_type": "code",
   "execution_count": null,
   "metadata": {
    "id": "Z3DBnZ91rxnx",
    "outputId": "0364969a-80bd-43fc-e473-6f28433c1eee"
   },
   "outputs": [
    {
     "data": {
      "text/plain": [
       "array([-3.92447368e+01,  1.31232583e+00,  8.53744361e-02,  7.41849897e-02,\n",
       "        1.50018573e-02, -3.42273652e-01])"
      ]
     },
     "execution_count": 10,
     "metadata": {
      "tags": []
     },
     "output_type": "execute_result"
    }
   ],
   "source": [
    "beta_hat = estimate_beta(X, y)\n",
    "beta_hat"
   ]
  },
  {
   "cell_type": "code",
   "execution_count": null,
   "metadata": {
    "id": "lphN3u90rxnx",
    "outputId": "fae87d8f-d0c4-4648-9dd3-039c11fd9287"
   },
   "outputs": [
    {
     "data": {
      "text/plain": [
       "array([[-3.92447368e+01],\n",
       "       [ 1.31232583e+00],\n",
       "       [ 8.53744361e-02],\n",
       "       [ 7.41849897e-02],\n",
       "       [ 1.50018573e-02],\n",
       "       [-3.42273652e-01]])"
      ]
     },
     "execution_count": 41,
     "metadata": {
      "tags": []
     },
     "output_type": "execute_result"
    }
   ],
   "source": [
    "beta_hat.reshape(-1,1)"
   ]
  },
  {
   "cell_type": "code",
   "execution_count": null,
   "metadata": {
    "id": "mlxynE6urxny",
    "outputId": "175e3204-caec-4325-84f5-3436070b1b03"
   },
   "outputs": [
    {
     "name": "stdout",
     "output_type": "stream",
     "text": [
      "-39.24473678136485\n",
      "[ 1.31232583  0.08537444  0.07418499  0.01500186 -0.34227365]\n"
     ]
    }
   ],
   "source": [
    "print(beta_hat[0]) # intercept\n",
    "print(beta_hat[1:]) # 추정된 회귀계수 (intercept제외)"
   ]
  },
  {
   "cell_type": "markdown",
   "metadata": {
    "id": "T671czzRrxny"
   },
   "source": [
    "sklearn의 LinearRegression과 매우 유사한 값이 도출되었음을 알 수 있다."
   ]
  },
  {
   "cell_type": "markdown",
   "metadata": {
    "id": "lMk58Ec_rxnz"
   },
   "source": [
    "#### 실제 값과 비교"
   ]
  },
  {
   "cell_type": "code",
   "execution_count": null,
   "metadata": {
    "id": "8V1HVbOJrxn0"
   },
   "outputs": [],
   "source": [
    "from sklearn.linear_model import LinearRegression"
   ]
  },
  {
   "cell_type": "code",
   "execution_count": null,
   "metadata": {
    "id": "Hp7WFbBirxn1"
   },
   "outputs": [],
   "source": [
    "model = LinearRegression()\n",
    "model.fit(X, y)\n",
    "\n",
    "pred = model.predict(X)"
   ]
  },
  {
   "cell_type": "code",
   "execution_count": null,
   "metadata": {
    "id": "gdRLtXqsrxn2",
    "outputId": "d1ca7392-8a40-44bf-8e8d-a2cb8fb53a29"
   },
   "outputs": [
    {
     "name": "stdout",
     "output_type": "stream",
     "text": [
      "-39.24473678135658\n",
      "[ 1.31232583  0.08537444  0.07418499  0.01500186 -0.34227365]\n"
     ]
    }
   ],
   "source": [
    "print(model.intercept_) # intercept\n",
    "print(model.coef_) # 추정된 회귀계수 (intercept제외)"
   ]
  },
  {
   "cell_type": "markdown",
   "metadata": {
    "id": "4bgiDKwwrxn2"
   },
   "source": [
    "### 2. MSE\n",
    "\n",
    "## $MSE = \t\\frac{1}{n-(k+1)}\\sum (y - \\hat{y})^2 $\n",
    "\n",
    "$ \\hat{y} = X\\hat{\\beta} $\n",
    "\n",
    "n = 관측치의 수, k = 설명변수 x의 수"
   ]
  },
  {
   "cell_type": "code",
   "execution_count": null,
   "metadata": {
    "id": "bw7bNgZ1rxn3"
   },
   "outputs": [],
   "source": [
    "def MSE(X, y, beta_hat):\n",
    "    # np.ones((len(y), 1)) : 관측치 개수(len(y)) 만큼의 1로 채워진 행렬을 만듬 -> x0\n",
    "    # np.concatenate([np.ones((len(y), 1)), X] : x0과 X를 합쳐서 새로운 (9,6)의 X 행렬을 만듬\n",
    "    designX = np.concatenate([np.ones((len(y), 1)), X], axis=1)\n",
    "    \n",
    "    # designX와 beta_hat을 곱하여 예측값을 구함\n",
    "    y_pred = np.dot(designX, beta_hat)\n",
    "    \n",
    "    # MSE 구현\n",
    "    # 1. (y - y_pred) : 실제 값과 예측 값을 빼 잔차를 구한다.\n",
    "    # 2. (y - y_pred)**2 : 1에서 구한 잔차에 제곱을 구한다.\n",
    "    # 3. np.sum((y - y_pred)**2) : 2에서 구한 잔차 제곱의 합을 구한다.\n",
    "    # 4. np.sum((y - y_pred)**2) / (len(y) - (X.shape[1] + 1)) : 3에서 구한 잔차 제곱의 합을 자유도{관측치의 개수(len(y)) - [설명변수의 수(X.shape[1]) + 1]}로 나눈다\n",
    "    mse = np.sum((y - y_pred)**2) / (len(y) - (X.shape[1] + 1))\n",
    "    \n",
    "    return mse"
   ]
  },
  {
   "cell_type": "code",
   "execution_count": null,
   "metadata": {
    "id": "fwjqXkOfrxn3",
    "outputId": "3e110894-791a-4bcf-c70c-12165066a593"
   },
   "outputs": [
    {
     "data": {
      "text/plain": [
       "4.846793168705752"
      ]
     },
     "execution_count": 49,
     "metadata": {
      "tags": []
     },
     "output_type": "execute_result"
    }
   ],
   "source": [
    "MSE(X, y, estimate_beta(X, y))"
   ]
  },
  {
   "cell_type": "markdown",
   "metadata": {
    "id": "aSQQreUxrxn4"
   },
   "source": [
    "모델로 예측한 값과 직접만든 정규방정식을 이용해 예측한 값의 MSE를 비교했을 때 서로 매우 유사한 값이 나왔음을 알 수 있다."
   ]
  },
  {
   "cell_type": "markdown",
   "metadata": {
    "id": "0Ygk5ARkrxn4"
   },
   "source": [
    "#### 실제 값과 비교"
   ]
  },
  {
   "cell_type": "code",
   "execution_count": null,
   "metadata": {
    "id": "KlPiasSRrxn5",
    "outputId": "2b00f083-32d8-49e4-c4a2-fab7dd79e3f9"
   },
   "outputs": [
    {
     "data": {
      "text/plain": [
       "4.846793168705742"
      ]
     },
     "execution_count": 16,
     "metadata": {
      "tags": []
     },
     "output_type": "execute_result"
    }
   ],
   "source": [
    "np.sum((pred - y)**2) / (len(y) - (X.shape[1]+1))"
   ]
  },
  {
   "cell_type": "markdown",
   "metadata": {
    "id": "K71j1plArxn5"
   },
   "source": [
    "### 3.MLE"
   ]
  },
  {
   "cell_type": "markdown",
   "metadata": {
    "id": "F265vEQirxn5"
   },
   "source": [
    "#### 바구니 안에 파란구슬과 빨간구슬이 들어있을 때, 10개를 추출하여보니 파란구슬이 2개 빨간구슬이 8개가 추출되었습니다. \n",
    "#### 이때 바구니안에는 파란구슬과 빨간구슬이 각각 몇개있는지에 대해서 최대우도추정법을 이용해 논리적으로 설명해주세요. \n",
    "- 수식은 있어도 좋고 말로 풀어쓰셔도 좋습니다\n",
    "- 추출은 복원추출을 전제로 합니다\n",
    "- 글자수 제한은 없습니다. 많이 쓰라는 얘기가 아니라 정말 제한이 없습니다. 너무 부담가지고 쓰지마세요."
   ]
  },
  {
   "cell_type": "markdown",
   "metadata": {
    "id": "h34jfOUarxn5"
   },
   "source": [
    " 바구니 안에 파란 구슬과 빨간 구슬 만이 들어있다고 가정한다면 우리가 10개의 구슬을 추출하였을 때 파란구슬이 2개 빨간구슬이 8개가 추출되었다면 우리는 직관적으로 바구니 안에 파라구슬이 20%, 빨간구슬이 80%가 들어있다고 직관적으로 추정할 수 있다. 그런데 이런 직관적인 추정을 조금 더 논리적으로 설명할 수 있는 방법이 바로 최대우도추정법이다.\n",
    "\n",
    " 우선 바구니 안에 구슬의 비율을 생각해보자. 바구니 안의 파란 구슬의 비율을 p라고 정의한다면 빨간 구슬의 비율은 1-p로 정의할 수 있을 것이다. "
   ]
  },
  {
   "cell_type": "markdown",
   "metadata": {
    "id": "YpS2ub-Hrxn6"
   },
   "source": [
    " ![./img/img1.png](https://raw.githubusercontent.com/SeongBeomLEE/Study/main/img/img1.png)"
   ]
  },
  {
   "cell_type": "markdown",
   "metadata": {
    "id": "36D8R2eprxn6"
   },
   "source": [
    " 그리고 이제 우리가 바구니 안에서 구슬을 뽑는 경우의 수를 생각해보자. 우리가 바구니 안에서 구슬을 10번 추출했을때 파란 구슬과 빨간 구슬이 뽑히는 사건을 생각한다면 항상 구슬이 [B, B, B, B, B, B, B, B, R, R] 순으로 뽑히는 것이 아닌 [R, R, B, B, B, B, B, B, B, B] 순 등 여러 순서로 뽑힐 것이다. 이렇게 가능한 모든 사건의 수는 조합을 통해서 나타낼 수 있으며 그 사건의 총합은 $_{10}\\mathrm{C}_{2}$ 개 이다. 이러한 모든 사건들을 E라고 칭한다면 10번 추출에서 파란 구슬이 2번, 빨간 구슬이 8번 나올 확률은 밑의 식과 같이 표현할 수 있다.\n",
    " "
   ]
  },
  {
   "cell_type": "markdown",
   "metadata": {
    "id": "95JX3FQ-rxn6"
   },
   "source": [
    " ![./img/img2.png](https://raw.githubusercontent.com/SeongBeomLEE/Study/main/img/img2.png)"
   ]
  },
  {
   "cell_type": "markdown",
   "metadata": {
    "id": "0wap3tzFrxn7"
   },
   "source": [
    " 이렇게 관측된 사건들의 확률 $ P(E|p) $ 를 최대화하는 p를 찾는 것이 최대우도추정법이다. 그런데 우리는 왜? 관측된 사건들의 확률을 최대화하는 최대우도추정법을 통해서 바구니 속의 구슬의 수를 추정할 수 있는 것일까? 최대우도추정법은 발생한 사건이 자주 일어난 사건이다라는 발상에 기초한다. \n",
    " \n",
    " 따라서 우리가 관측한 사건(파란 구슬이 2개, 빨간 구슬이 8개가 뽑힌 사건)이 많이 보이는 이유는 우리가 관측한 사건이 발생할 확률이 높기 때문이며 이에 관측한 사건의 확률을 가장 크게 하는 p를 찾는다면 바구니 안에 있는 파란 구슬과 빨간 구슬의 개수를 추정할 수 있다. 따라서 $ \\hat{p} $은 아래와 같은 식으로 나타낼 수 있다."
   ]
  },
  {
   "cell_type": "markdown",
   "metadata": {
    "id": "WlmS3d5trxn7"
   },
   "source": [
    " ![./img/img3.png](https://raw.githubusercontent.com/SeongBeomLEE/Study/main/img/img3.png)"
   ]
  },
  {
   "cell_type": "markdown",
   "metadata": {
    "id": "6KhO3xjSrxn7"
   },
   "source": [
    "우리는 위의 복잡한 식을 log와 미분을 활용한다면 쉽게 구할 수 있다. 우선 위에 식을 p에 대한 식인 $ f(p)$로 정의하고 log를 취해서 곱하기를 플러스로 바꾸어주고 식에 붙어있던 지수를 앞으로 바깥으로 빼주겠다. log를 취하면 밑과 같은 식으로 나타낼 수 있다.  "
   ]
  },
  {
   "cell_type": "markdown",
   "metadata": {
    "id": "c_5J7q2Prxn8"
   },
   "source": [
    " ![./img/img4.png](https://raw.githubusercontent.com/SeongBeomLEE/Study/main/img/img4.png)"
   ]
  },
  {
   "cell_type": "markdown",
   "metadata": {
    "id": "G0PjD8rarxn8"
   },
   "source": [
    " 우리가 찾고자 하는 값은 $f(p)$ 가 최대가 되는 값이다. 최대가 되는 값은 미분을 통해서 구할 수 있다. 미분의 개념을 통해서 알 수 있듯이 도함수가 0이 되는 지점이 곧 기존 함수의 최대가 되는 지점임을 알 수 있다. 따라서 우리는 위에 식을 p에 대하여 미분하면 도함수 $f'(p)$가 0이 되는 값이 곧 $f(p)$가 최대가 된다는 것을 알 수 있다. 위에 식을 p에 대하여 미분하면 다음과 같이 나타낼 수 있다.  "
   ]
  },
  {
   "cell_type": "markdown",
   "metadata": {
    "id": "vXQXVRFJrxn8"
   },
   "source": [
    " ![./img/img5.png](https://raw.githubusercontent.com/SeongBeomLEE/Study/main/img/img5.png)"
   ]
  },
  {
   "cell_type": "markdown",
   "metadata": {
    "id": "Ub1uJzexrxn9"
   },
   "source": [
    "$ \\log_{10}\\mathrm{C}_{2} $는 상수항이기 때문에 미분을 하면 사라지게 되고 나머지 log 값들은 log의 미분 공식에 의해서 분모로 들어가게 된다. 우리가 구하고자 하는 값은 $f'(p)$가 0이 되는 값이기 때문에 아래와 같이 나타낼 수 있다."
   ]
  },
  {
   "cell_type": "markdown",
   "metadata": {
    "id": "hqFFxDxLrxn9"
   },
   "source": [
    " ![./img/img6.png](https://raw.githubusercontent.com/SeongBeomLEE/Study/main/img/img6.png)"
   ]
  },
  {
   "cell_type": "markdown",
   "metadata": {
    "id": "dc-zNVBZrxn9"
   },
   "source": [
    " 위 식을 p에 대하여 정리하면 아래와 같은 값이 나옴을 알 수 있다."
   ]
  },
  {
   "cell_type": "markdown",
   "metadata": {
    "id": "CTCkrqVarxn-"
   },
   "source": [
    " ![./img/img7.png](https://raw.githubusercontent.com/SeongBeomLEE/Study/main/img/img7.png)"
   ]
  },
  {
   "cell_type": "markdown",
   "metadata": {
    "id": "PeGNMtxUrxn-"
   },
   "source": [
    "우리가 기존에 파란 구슬의 비율을 p로 정의하였는데 최대우도추정법을 통하여 p가 $ \\frac{2}{10} $라는 것을 알 수 있다. 따라서 우리는 최대우도추정법을 통하여 바구니 안에 파란 구슬의 비율을 직관이 아닌 논리적인 추론을 통하여 20%가 존재한다는 것을 입증할 수 있으며 빨간 구슬의 비율도 1 - p 인 $ \\frac{8}{10} $ 임도 추정할 수 있다."
   ]
  },
  {
   "cell_type": "markdown",
   "metadata": {
    "id": "JV29UO03rxn-"
   },
   "source": [
    "#### 참고자료\n",
    "- 핸즈온 머신러닝 2판 (박해선)\n",
    "- https://seungtae-jeff.tistory.com/entry/%ED%86%B5%EA%B3%84%ED%95%99-1-%EC%B5%9C%EB%8C%80%EC%9A%B0%EB%8F%84%EC%B6%94%EC%A0%95%EB%B2%95\n",
    "- https://www.youtube.com/watch?v=sOtkPm_1GYw"
   ]
  },
  {
   "cell_type": "markdown",
   "metadata": {
    "id": "4nlm2FSLrxn_"
   },
   "source": [
    "그림 같은 경우 가운데 정렬 후 첨부시 오류가 발생하여 따로 이미지 파일로 저장하여 만들었습니다"
   ]
  }
 ],
 "metadata": {
  "colab": {
   "collapsed_sections": [],
   "name": "week2_assignment1.ipynb",
   "provenance": []
  },
  "kernelspec": {
   "display_name": "Python 3",
   "language": "python",
   "name": "python3"
  },
  "language_info": {
   "codemirror_mode": {
    "name": "ipython",
    "version": 3
   },
   "file_extension": ".py",
   "mimetype": "text/x-python",
   "name": "python",
   "nbconvert_exporter": "python",
   "pygments_lexer": "ipython3",
   "version": "3.8.5"
  }
 },
 "nbformat": 4,
 "nbformat_minor": 1
}
